{
 "cells": [
  {
   "cell_type": "code",
   "execution_count": null,
   "metadata": {},
   "outputs": [],
   "source": []
  },
  {
   "cell_type": "code",
   "execution_count": null,
   "metadata": {},
   "outputs": [],
   "source": []
  },
  {
   "cell_type": "code",
   "execution_count": null,
   "metadata": {},
   "outputs": [],
   "source": []
  },
  {
   "cell_type": "code",
   "execution_count": null,
   "metadata": {},
   "outputs": [],
   "source": []
  },
  {
   "cell_type": "code",
   "execution_count": null,
   "metadata": {},
   "outputs": [],
   "source": []
  },
  {
   "cell_type": "code",
   "execution_count": 77,
   "metadata": {},
   "outputs": [],
   "source": [
    "from crypto_news_api import CryptoControlAPI\n",
    "api_key_news = '2df3a15efa6332e41ba90795b9639d32'\n",
    "api = CryptoControlAPI(api_key_news)"
   ]
  },
  {
   "cell_type": "code",
   "execution_count": 78,
   "metadata": {},
   "outputs": [],
   "source": [
    "import pandas as pd\n",
    "from textblob import TextBlob\n",
    "from dateutil import parser\n",
    "import requests, json \n",
    "from datetime import date, timedelta\n",
    "import re\n",
    "import preprocessor as p\n",
    "from fbprophet import Prophet\n",
    "from sklearn import preprocessing\n",
    "import numpy as np"
   ]
  },
  {
   "cell_type": "code",
   "execution_count": 97,
   "metadata": {},
   "outputs": [
    {
     "data": {
      "text/html": [
       "<div>\n",
       "<style scoped>\n",
       "    .dataframe tbody tr th:only-of-type {\n",
       "        vertical-align: middle;\n",
       "    }\n",
       "\n",
       "    .dataframe tbody tr th {\n",
       "        vertical-align: top;\n",
       "    }\n",
       "\n",
       "    .dataframe thead th {\n",
       "        text-align: right;\n",
       "    }\n",
       "</style>\n",
       "<table border=\"1\" class=\"dataframe\">\n",
       "  <thead>\n",
       "    <tr style=\"text-align: right;\">\n",
       "      <th></th>\n",
       "      <th>Date</th>\n",
       "      <th>text</th>\n",
       "    </tr>\n",
       "  </thead>\n",
       "  <tbody>\n",
       "    <tr>\n",
       "      <th>0</th>\n",
       "      <td>2020-06-26 21:25:37+00:00</td>\n",
       "      <td>RT @milessuter: This is my favorite type of di...</td>\n",
       "    </tr>\n",
       "    <tr>\n",
       "      <th>1</th>\n",
       "      <td>2020-06-26 21:24:46+00:00</td>\n",
       "      <td>RT @udiWertheimer: This weekend on @Reckless_V...</td>\n",
       "    </tr>\n",
       "    <tr>\n",
       "      <th>2</th>\n",
       "      <td>2020-06-26 21:24:28+00:00</td>\n",
       "      <td>RT @pierre_rochard: There can be infinite USD....</td>\n",
       "    </tr>\n",
       "    <tr>\n",
       "      <th>3</th>\n",
       "      <td>2020-06-26 21:23:25+00:00</td>\n",
       "      <td>RT @WhatBitcoinDid: WBD236 - Bitcoin UX &amp;amp; ...</td>\n",
       "    </tr>\n",
       "    <tr>\n",
       "      <th>4</th>\n",
       "      <td>2020-06-26 21:23:10+00:00</td>\n",
       "      <td>RT @danheld: @PeterSchiff https://t.co/3bUcdrFqLa</td>\n",
       "    </tr>\n",
       "  </tbody>\n",
       "</table>\n",
       "</div>"
      ],
      "text/plain": [
       "                       Date                                               text\n",
       "0 2020-06-26 21:25:37+00:00  RT @milessuter: This is my favorite type of di...\n",
       "1 2020-06-26 21:24:46+00:00  RT @udiWertheimer: This weekend on @Reckless_V...\n",
       "2 2020-06-26 21:24:28+00:00  RT @pierre_rochard: There can be infinite USD....\n",
       "3 2020-06-26 21:23:25+00:00  RT @WhatBitcoinDid: WBD236 - Bitcoin UX &amp; ...\n",
       "4 2020-06-26 21:23:10+00:00  RT @danheld: @PeterSchiff https://t.co/3bUcdrFqLa"
      ]
     },
     "execution_count": 97,
     "metadata": {},
     "output_type": "execute_result"
    }
   ],
   "source": [
    "latestTweets = api.getLatestTweetsByCoin(\"bitcoin\")\n",
    "tweets = pd.DataFrame(latestTweets)\n",
    "tweets = tweets[['publishedAt','text']]\n",
    "tweets['publishedAt'] = pd.to_datetime(tweets['publishedAt'])\n",
    "tweets['publishedAt'] = pd.to_datetime(tweets['publishedAt'], unit='s')\n",
    "tweets.rename(columns = {'publishedAt' : 'Date'}, inplace=True)\n",
    "tweets.head()"
   ]
  },
  {
   "cell_type": "code",
   "execution_count": 87,
   "metadata": {},
   "outputs": [],
   "source": [
    "tweets['cleaned'] = tweets.text.apply(p.clean)"
   ]
  },
  {
   "cell_type": "code",
   "execution_count": 88,
   "metadata": {},
   "outputs": [
    {
     "data": {
      "text/html": [
       "<div>\n",
       "<style scoped>\n",
       "    .dataframe tbody tr th:only-of-type {\n",
       "        vertical-align: middle;\n",
       "    }\n",
       "\n",
       "    .dataframe tbody tr th {\n",
       "        vertical-align: top;\n",
       "    }\n",
       "\n",
       "    .dataframe thead th {\n",
       "        text-align: right;\n",
       "    }\n",
       "</style>\n",
       "<table border=\"1\" class=\"dataframe\">\n",
       "  <thead>\n",
       "    <tr style=\"text-align: right;\">\n",
       "      <th></th>\n",
       "      <th>Date</th>\n",
       "      <th>text</th>\n",
       "      <th>cleaned</th>\n",
       "    </tr>\n",
       "  </thead>\n",
       "  <tbody>\n",
       "    <tr>\n",
       "      <th>0</th>\n",
       "      <td>2020-06-26 21:25:37+00:00</td>\n",
       "      <td>RT @milessuter: This is my favorite type of di...</td>\n",
       "      <td>: This is my favorite type of direct action</td>\n",
       "    </tr>\n",
       "    <tr>\n",
       "      <th>1</th>\n",
       "      <td>2020-06-26 21:24:46+00:00</td>\n",
       "      <td>RT @udiWertheimer: This weekend on @Reckless_V...</td>\n",
       "      <td>: This weekend on :Make UX Great Again with , ...</td>\n",
       "    </tr>\n",
       "    <tr>\n",
       "      <th>2</th>\n",
       "      <td>2020-06-26 21:24:28+00:00</td>\n",
       "      <td>RT @pierre_rochard: There can be infinite USD....</td>\n",
       "      <td>: There can be infinite USD.There can only be ...</td>\n",
       "    </tr>\n",
       "    <tr>\n",
       "      <th>3</th>\n",
       "      <td>2020-06-26 21:23:25+00:00</td>\n",
       "      <td>RT @WhatBitcoinDid: WBD236 - Bitcoin UX &amp;amp; ...</td>\n",
       "      <td>: WBD236 - Bitcoin UX &amp;amp; Marketing with . W...</td>\n",
       "    </tr>\n",
       "    <tr>\n",
       "      <th>4</th>\n",
       "      <td>2020-06-26 21:23:10+00:00</td>\n",
       "      <td>RT @danheld: @PeterSchiff https://t.co/3bUcdrFqLa</td>\n",
       "      <td>:</td>\n",
       "    </tr>\n",
       "  </tbody>\n",
       "</table>\n",
       "</div>"
      ],
      "text/plain": [
       "                       Date  \\\n",
       "0 2020-06-26 21:25:37+00:00   \n",
       "1 2020-06-26 21:24:46+00:00   \n",
       "2 2020-06-26 21:24:28+00:00   \n",
       "3 2020-06-26 21:23:25+00:00   \n",
       "4 2020-06-26 21:23:10+00:00   \n",
       "\n",
       "                                                text  \\\n",
       "0  RT @milessuter: This is my favorite type of di...   \n",
       "1  RT @udiWertheimer: This weekend on @Reckless_V...   \n",
       "2  RT @pierre_rochard: There can be infinite USD....   \n",
       "3  RT @WhatBitcoinDid: WBD236 - Bitcoin UX &amp; ...   \n",
       "4  RT @danheld: @PeterSchiff https://t.co/3bUcdrFqLa   \n",
       "\n",
       "                                             cleaned  \n",
       "0        : This is my favorite type of direct action  \n",
       "1  : This weekend on :Make UX Great Again with , ...  \n",
       "2  : There can be infinite USD.There can only be ...  \n",
       "3  : WBD236 - Bitcoin UX &amp; Marketing with . W...  \n",
       "4                                                  :  "
      ]
     },
     "execution_count": 88,
     "metadata": {},
     "output_type": "execute_result"
    }
   ],
   "source": [
    "tweets.head()"
   ]
  },
  {
   "cell_type": "code",
   "execution_count": 5,
   "metadata": {},
   "outputs": [],
   "source": [
    "tweets = tweets[['Date','cleaned']]"
   ]
  },
  {
   "cell_type": "code",
   "execution_count": 89,
   "metadata": {},
   "outputs": [],
   "source": [
    "test_list = []\n",
    "for i in tweets.cleaned:\n",
    "    i = TextBlob(i).sentiment.polarity\n",
    "    test_list.append(i)\n",
    "tweets['polarity'] = test_list"
   ]
  },
  {
   "cell_type": "code",
   "execution_count": 90,
   "metadata": {},
   "outputs": [
    {
     "data": {
      "text/html": [
       "<div>\n",
       "<style scoped>\n",
       "    .dataframe tbody tr th:only-of-type {\n",
       "        vertical-align: middle;\n",
       "    }\n",
       "\n",
       "    .dataframe tbody tr th {\n",
       "        vertical-align: top;\n",
       "    }\n",
       "\n",
       "    .dataframe thead th {\n",
       "        text-align: right;\n",
       "    }\n",
       "</style>\n",
       "<table border=\"1\" class=\"dataframe\">\n",
       "  <thead>\n",
       "    <tr style=\"text-align: right;\">\n",
       "      <th></th>\n",
       "      <th>Date</th>\n",
       "      <th>text</th>\n",
       "      <th>cleaned</th>\n",
       "      <th>polarity</th>\n",
       "    </tr>\n",
       "  </thead>\n",
       "  <tbody>\n",
       "    <tr>\n",
       "      <th>0</th>\n",
       "      <td>2020-06-26 21:25:37+00:00</td>\n",
       "      <td>RT @milessuter: This is my favorite type of di...</td>\n",
       "      <td>: This is my favorite type of direct action</td>\n",
       "      <td>0.233333</td>\n",
       "    </tr>\n",
       "    <tr>\n",
       "      <th>1</th>\n",
       "      <td>2020-06-26 21:24:46+00:00</td>\n",
       "      <td>RT @udiWertheimer: This weekend on @Reckless_V...</td>\n",
       "      <td>: This weekend on :Make UX Great Again with , ...</td>\n",
       "      <td>0.800000</td>\n",
       "    </tr>\n",
       "    <tr>\n",
       "      <th>2</th>\n",
       "      <td>2020-06-26 21:24:28+00:00</td>\n",
       "      <td>RT @pierre_rochard: There can be infinite USD....</td>\n",
       "      <td>: There can be infinite USD.There can only be ...</td>\n",
       "      <td>0.000000</td>\n",
       "    </tr>\n",
       "    <tr>\n",
       "      <th>3</th>\n",
       "      <td>2020-06-26 21:23:25+00:00</td>\n",
       "      <td>RT @WhatBitcoinDid: WBD236 - Bitcoin UX &amp;amp; ...</td>\n",
       "      <td>: WBD236 - Bitcoin UX &amp;amp; Marketing with . W...</td>\n",
       "      <td>0.000000</td>\n",
       "    </tr>\n",
       "    <tr>\n",
       "      <th>4</th>\n",
       "      <td>2020-06-26 21:23:10+00:00</td>\n",
       "      <td>RT @danheld: @PeterSchiff https://t.co/3bUcdrFqLa</td>\n",
       "      <td>:</td>\n",
       "      <td>0.000000</td>\n",
       "    </tr>\n",
       "  </tbody>\n",
       "</table>\n",
       "</div>"
      ],
      "text/plain": [
       "                       Date  \\\n",
       "0 2020-06-26 21:25:37+00:00   \n",
       "1 2020-06-26 21:24:46+00:00   \n",
       "2 2020-06-26 21:24:28+00:00   \n",
       "3 2020-06-26 21:23:25+00:00   \n",
       "4 2020-06-26 21:23:10+00:00   \n",
       "\n",
       "                                                text  \\\n",
       "0  RT @milessuter: This is my favorite type of di...   \n",
       "1  RT @udiWertheimer: This weekend on @Reckless_V...   \n",
       "2  RT @pierre_rochard: There can be infinite USD....   \n",
       "3  RT @WhatBitcoinDid: WBD236 - Bitcoin UX &amp; ...   \n",
       "4  RT @danheld: @PeterSchiff https://t.co/3bUcdrFqLa   \n",
       "\n",
       "                                             cleaned  polarity  \n",
       "0        : This is my favorite type of direct action  0.233333  \n",
       "1  : This weekend on :Make UX Great Again with , ...  0.800000  \n",
       "2  : There can be infinite USD.There can only be ...  0.000000  \n",
       "3  : WBD236 - Bitcoin UX &amp; Marketing with . W...  0.000000  \n",
       "4                                                  :  0.000000  "
      ]
     },
     "execution_count": 90,
     "metadata": {},
     "output_type": "execute_result"
    }
   ],
   "source": [
    "tweets.head()"
   ]
  },
  {
   "cell_type": "code",
   "execution_count": 7,
   "metadata": {
    "scrolled": true
   },
   "outputs": [],
   "source": [
    "tweets_grouped = tweets.groupby('Date',as_index=False)['polarity'].mean()"
   ]
  },
  {
   "cell_type": "code",
   "execution_count": 93,
   "metadata": {},
   "outputs": [
    {
     "data": {
      "text/html": [
       "<div>\n",
       "<style scoped>\n",
       "    .dataframe tbody tr th:only-of-type {\n",
       "        vertical-align: middle;\n",
       "    }\n",
       "\n",
       "    .dataframe tbody tr th {\n",
       "        vertical-align: top;\n",
       "    }\n",
       "\n",
       "    .dataframe thead th {\n",
       "        text-align: right;\n",
       "    }\n",
       "</style>\n",
       "<table border=\"1\" class=\"dataframe\">\n",
       "  <thead>\n",
       "    <tr style=\"text-align: right;\">\n",
       "      <th></th>\n",
       "      <th>Date</th>\n",
       "      <th>text</th>\n",
       "      <th>cleaned</th>\n",
       "      <th>polarity</th>\n",
       "      <th>sentiment</th>\n",
       "    </tr>\n",
       "  </thead>\n",
       "  <tbody>\n",
       "    <tr>\n",
       "      <th>0</th>\n",
       "      <td>2020-06-26 21:25:37+00:00</td>\n",
       "      <td>RT @milessuter: This is my favorite type of di...</td>\n",
       "      <td>: This is my favorite type of direct action</td>\n",
       "      <td>0.233333</td>\n",
       "      <td>positive</td>\n",
       "    </tr>\n",
       "    <tr>\n",
       "      <th>1</th>\n",
       "      <td>2020-06-26 21:24:46+00:00</td>\n",
       "      <td>RT @udiWertheimer: This weekend on @Reckless_V...</td>\n",
       "      <td>: This weekend on :Make UX Great Again with , ...</td>\n",
       "      <td>0.800000</td>\n",
       "      <td>positive</td>\n",
       "    </tr>\n",
       "    <tr>\n",
       "      <th>2</th>\n",
       "      <td>2020-06-26 21:24:28+00:00</td>\n",
       "      <td>RT @pierre_rochard: There can be infinite USD....</td>\n",
       "      <td>: There can be infinite USD.There can only be ...</td>\n",
       "      <td>0.000000</td>\n",
       "      <td>neutral</td>\n",
       "    </tr>\n",
       "    <tr>\n",
       "      <th>3</th>\n",
       "      <td>2020-06-26 21:23:25+00:00</td>\n",
       "      <td>RT @WhatBitcoinDid: WBD236 - Bitcoin UX &amp;amp; ...</td>\n",
       "      <td>: WBD236 - Bitcoin UX &amp;amp; Marketing with . W...</td>\n",
       "      <td>0.000000</td>\n",
       "      <td>neutral</td>\n",
       "    </tr>\n",
       "    <tr>\n",
       "      <th>4</th>\n",
       "      <td>2020-06-26 21:23:10+00:00</td>\n",
       "      <td>RT @danheld: @PeterSchiff https://t.co/3bUcdrFqLa</td>\n",
       "      <td>:</td>\n",
       "      <td>0.000000</td>\n",
       "      <td>neutral</td>\n",
       "    </tr>\n",
       "  </tbody>\n",
       "</table>\n",
       "</div>"
      ],
      "text/plain": [
       "                       Date  \\\n",
       "0 2020-06-26 21:25:37+00:00   \n",
       "1 2020-06-26 21:24:46+00:00   \n",
       "2 2020-06-26 21:24:28+00:00   \n",
       "3 2020-06-26 21:23:25+00:00   \n",
       "4 2020-06-26 21:23:10+00:00   \n",
       "\n",
       "                                                text  \\\n",
       "0  RT @milessuter: This is my favorite type of di...   \n",
       "1  RT @udiWertheimer: This weekend on @Reckless_V...   \n",
       "2  RT @pierre_rochard: There can be infinite USD....   \n",
       "3  RT @WhatBitcoinDid: WBD236 - Bitcoin UX &amp; ...   \n",
       "4  RT @danheld: @PeterSchiff https://t.co/3bUcdrFqLa   \n",
       "\n",
       "                                             cleaned  polarity sentiment  \n",
       "0        : This is my favorite type of direct action  0.233333  positive  \n",
       "1  : This weekend on :Make UX Great Again with , ...  0.800000  positive  \n",
       "2  : There can be infinite USD.There can only be ...  0.000000   neutral  \n",
       "3  : WBD236 - Bitcoin UX &amp; Marketing with . W...  0.000000   neutral  \n",
       "4                                                  :  0.000000   neutral  "
      ]
     },
     "execution_count": 93,
     "metadata": {},
     "output_type": "execute_result"
    }
   ],
   "source": [
    "sentiment = []\n",
    "for i in tweets.polarity:\n",
    "    if i>0: \n",
    "        sentiment.append('positive')\n",
    "    elif i == 0 : \n",
    "        sentiment.append('neutral')\n",
    "    elif i<0 : \n",
    "        sentiment.append('negative')\n",
    "tweets['sentiment'] = sentiment\n",
    "tweets.sentiment = tweets.sentiment.astype('category')\n",
    "tweets.head()"
   ]
  },
  {
   "cell_type": "code",
   "execution_count": 9,
   "metadata": {},
   "outputs": [
    {
     "data": {
      "text/plain": [
       "['positive', 'negative', 'neutral']"
      ]
     },
     "execution_count": 9,
     "metadata": {},
     "output_type": "execute_result"
    }
   ],
   "source": [
    "# import plotly.express as px\n",
    "# fig = px.treemap(tweets, path=['sentiment'], values='polarity')\n",
    "# fig.show()\n",
    "groups = tweets.sentiment.unique().tolist()\n",
    "groups"
   ]
  },
  {
   "cell_type": "code",
   "execution_count": 94,
   "metadata": {},
   "outputs": [],
   "source": [
    "pos = 0\n",
    "neg = 0\n",
    "neu = 0\n",
    "for i in tweets.sentiment:\n",
    "    if i == 'positive':\n",
    "        pos=pos+1\n",
    "    elif i == 'negative':\n",
    "        neg=neg+1\n",
    "    elif i == 'neutral':\n",
    "        neu+=1\n",
    "per_pos = (pos*100)/len(tweets)\n",
    "per_neg = (neg*100)/len(tweets)\n",
    "per_neu = (neu*100)/len(tweets)"
   ]
  },
  {
   "cell_type": "code",
   "execution_count": 95,
   "metadata": {},
   "outputs": [
    {
     "data": {
      "application/vnd.plotly.v1+json": {
       "config": {
        "plotlyServerURL": "https://plot.ly"
       },
       "data": [
        {
         "labels": [
          "positive",
          "negative",
          "neutral"
         ],
         "type": "pie",
         "values": [
          15,
          5,
          30
         ]
        }
       ],
       "layout": {
        "template": {
         "data": {
          "bar": [
           {
            "error_x": {
             "color": "#2a3f5f"
            },
            "error_y": {
             "color": "#2a3f5f"
            },
            "marker": {
             "line": {
              "color": "#E5ECF6",
              "width": 0.5
             }
            },
            "type": "bar"
           }
          ],
          "barpolar": [
           {
            "marker": {
             "line": {
              "color": "#E5ECF6",
              "width": 0.5
             }
            },
            "type": "barpolar"
           }
          ],
          "carpet": [
           {
            "aaxis": {
             "endlinecolor": "#2a3f5f",
             "gridcolor": "white",
             "linecolor": "white",
             "minorgridcolor": "white",
             "startlinecolor": "#2a3f5f"
            },
            "baxis": {
             "endlinecolor": "#2a3f5f",
             "gridcolor": "white",
             "linecolor": "white",
             "minorgridcolor": "white",
             "startlinecolor": "#2a3f5f"
            },
            "type": "carpet"
           }
          ],
          "choropleth": [
           {
            "colorbar": {
             "outlinewidth": 0,
             "ticks": ""
            },
            "type": "choropleth"
           }
          ],
          "contour": [
           {
            "colorbar": {
             "outlinewidth": 0,
             "ticks": ""
            },
            "colorscale": [
             [
              0,
              "#0d0887"
             ],
             [
              0.1111111111111111,
              "#46039f"
             ],
             [
              0.2222222222222222,
              "#7201a8"
             ],
             [
              0.3333333333333333,
              "#9c179e"
             ],
             [
              0.4444444444444444,
              "#bd3786"
             ],
             [
              0.5555555555555556,
              "#d8576b"
             ],
             [
              0.6666666666666666,
              "#ed7953"
             ],
             [
              0.7777777777777778,
              "#fb9f3a"
             ],
             [
              0.8888888888888888,
              "#fdca26"
             ],
             [
              1,
              "#f0f921"
             ]
            ],
            "type": "contour"
           }
          ],
          "contourcarpet": [
           {
            "colorbar": {
             "outlinewidth": 0,
             "ticks": ""
            },
            "type": "contourcarpet"
           }
          ],
          "heatmap": [
           {
            "colorbar": {
             "outlinewidth": 0,
             "ticks": ""
            },
            "colorscale": [
             [
              0,
              "#0d0887"
             ],
             [
              0.1111111111111111,
              "#46039f"
             ],
             [
              0.2222222222222222,
              "#7201a8"
             ],
             [
              0.3333333333333333,
              "#9c179e"
             ],
             [
              0.4444444444444444,
              "#bd3786"
             ],
             [
              0.5555555555555556,
              "#d8576b"
             ],
             [
              0.6666666666666666,
              "#ed7953"
             ],
             [
              0.7777777777777778,
              "#fb9f3a"
             ],
             [
              0.8888888888888888,
              "#fdca26"
             ],
             [
              1,
              "#f0f921"
             ]
            ],
            "type": "heatmap"
           }
          ],
          "heatmapgl": [
           {
            "colorbar": {
             "outlinewidth": 0,
             "ticks": ""
            },
            "colorscale": [
             [
              0,
              "#0d0887"
             ],
             [
              0.1111111111111111,
              "#46039f"
             ],
             [
              0.2222222222222222,
              "#7201a8"
             ],
             [
              0.3333333333333333,
              "#9c179e"
             ],
             [
              0.4444444444444444,
              "#bd3786"
             ],
             [
              0.5555555555555556,
              "#d8576b"
             ],
             [
              0.6666666666666666,
              "#ed7953"
             ],
             [
              0.7777777777777778,
              "#fb9f3a"
             ],
             [
              0.8888888888888888,
              "#fdca26"
             ],
             [
              1,
              "#f0f921"
             ]
            ],
            "type": "heatmapgl"
           }
          ],
          "histogram": [
           {
            "marker": {
             "colorbar": {
              "outlinewidth": 0,
              "ticks": ""
             }
            },
            "type": "histogram"
           }
          ],
          "histogram2d": [
           {
            "colorbar": {
             "outlinewidth": 0,
             "ticks": ""
            },
            "colorscale": [
             [
              0,
              "#0d0887"
             ],
             [
              0.1111111111111111,
              "#46039f"
             ],
             [
              0.2222222222222222,
              "#7201a8"
             ],
             [
              0.3333333333333333,
              "#9c179e"
             ],
             [
              0.4444444444444444,
              "#bd3786"
             ],
             [
              0.5555555555555556,
              "#d8576b"
             ],
             [
              0.6666666666666666,
              "#ed7953"
             ],
             [
              0.7777777777777778,
              "#fb9f3a"
             ],
             [
              0.8888888888888888,
              "#fdca26"
             ],
             [
              1,
              "#f0f921"
             ]
            ],
            "type": "histogram2d"
           }
          ],
          "histogram2dcontour": [
           {
            "colorbar": {
             "outlinewidth": 0,
             "ticks": ""
            },
            "colorscale": [
             [
              0,
              "#0d0887"
             ],
             [
              0.1111111111111111,
              "#46039f"
             ],
             [
              0.2222222222222222,
              "#7201a8"
             ],
             [
              0.3333333333333333,
              "#9c179e"
             ],
             [
              0.4444444444444444,
              "#bd3786"
             ],
             [
              0.5555555555555556,
              "#d8576b"
             ],
             [
              0.6666666666666666,
              "#ed7953"
             ],
             [
              0.7777777777777778,
              "#fb9f3a"
             ],
             [
              0.8888888888888888,
              "#fdca26"
             ],
             [
              1,
              "#f0f921"
             ]
            ],
            "type": "histogram2dcontour"
           }
          ],
          "mesh3d": [
           {
            "colorbar": {
             "outlinewidth": 0,
             "ticks": ""
            },
            "type": "mesh3d"
           }
          ],
          "parcoords": [
           {
            "line": {
             "colorbar": {
              "outlinewidth": 0,
              "ticks": ""
             }
            },
            "type": "parcoords"
           }
          ],
          "pie": [
           {
            "automargin": true,
            "type": "pie"
           }
          ],
          "scatter": [
           {
            "marker": {
             "colorbar": {
              "outlinewidth": 0,
              "ticks": ""
             }
            },
            "type": "scatter"
           }
          ],
          "scatter3d": [
           {
            "line": {
             "colorbar": {
              "outlinewidth": 0,
              "ticks": ""
             }
            },
            "marker": {
             "colorbar": {
              "outlinewidth": 0,
              "ticks": ""
             }
            },
            "type": "scatter3d"
           }
          ],
          "scattercarpet": [
           {
            "marker": {
             "colorbar": {
              "outlinewidth": 0,
              "ticks": ""
             }
            },
            "type": "scattercarpet"
           }
          ],
          "scattergeo": [
           {
            "marker": {
             "colorbar": {
              "outlinewidth": 0,
              "ticks": ""
             }
            },
            "type": "scattergeo"
           }
          ],
          "scattergl": [
           {
            "marker": {
             "colorbar": {
              "outlinewidth": 0,
              "ticks": ""
             }
            },
            "type": "scattergl"
           }
          ],
          "scattermapbox": [
           {
            "marker": {
             "colorbar": {
              "outlinewidth": 0,
              "ticks": ""
             }
            },
            "type": "scattermapbox"
           }
          ],
          "scatterpolar": [
           {
            "marker": {
             "colorbar": {
              "outlinewidth": 0,
              "ticks": ""
             }
            },
            "type": "scatterpolar"
           }
          ],
          "scatterpolargl": [
           {
            "marker": {
             "colorbar": {
              "outlinewidth": 0,
              "ticks": ""
             }
            },
            "type": "scatterpolargl"
           }
          ],
          "scatterternary": [
           {
            "marker": {
             "colorbar": {
              "outlinewidth": 0,
              "ticks": ""
             }
            },
            "type": "scatterternary"
           }
          ],
          "surface": [
           {
            "colorbar": {
             "outlinewidth": 0,
             "ticks": ""
            },
            "colorscale": [
             [
              0,
              "#0d0887"
             ],
             [
              0.1111111111111111,
              "#46039f"
             ],
             [
              0.2222222222222222,
              "#7201a8"
             ],
             [
              0.3333333333333333,
              "#9c179e"
             ],
             [
              0.4444444444444444,
              "#bd3786"
             ],
             [
              0.5555555555555556,
              "#d8576b"
             ],
             [
              0.6666666666666666,
              "#ed7953"
             ],
             [
              0.7777777777777778,
              "#fb9f3a"
             ],
             [
              0.8888888888888888,
              "#fdca26"
             ],
             [
              1,
              "#f0f921"
             ]
            ],
            "type": "surface"
           }
          ],
          "table": [
           {
            "cells": {
             "fill": {
              "color": "#EBF0F8"
             },
             "line": {
              "color": "white"
             }
            },
            "header": {
             "fill": {
              "color": "#C8D4E3"
             },
             "line": {
              "color": "white"
             }
            },
            "type": "table"
           }
          ]
         },
         "layout": {
          "annotationdefaults": {
           "arrowcolor": "#2a3f5f",
           "arrowhead": 0,
           "arrowwidth": 1
          },
          "coloraxis": {
           "colorbar": {
            "outlinewidth": 0,
            "ticks": ""
           }
          },
          "colorscale": {
           "diverging": [
            [
             0,
             "#8e0152"
            ],
            [
             0.1,
             "#c51b7d"
            ],
            [
             0.2,
             "#de77ae"
            ],
            [
             0.3,
             "#f1b6da"
            ],
            [
             0.4,
             "#fde0ef"
            ],
            [
             0.5,
             "#f7f7f7"
            ],
            [
             0.6,
             "#e6f5d0"
            ],
            [
             0.7,
             "#b8e186"
            ],
            [
             0.8,
             "#7fbc41"
            ],
            [
             0.9,
             "#4d9221"
            ],
            [
             1,
             "#276419"
            ]
           ],
           "sequential": [
            [
             0,
             "#0d0887"
            ],
            [
             0.1111111111111111,
             "#46039f"
            ],
            [
             0.2222222222222222,
             "#7201a8"
            ],
            [
             0.3333333333333333,
             "#9c179e"
            ],
            [
             0.4444444444444444,
             "#bd3786"
            ],
            [
             0.5555555555555556,
             "#d8576b"
            ],
            [
             0.6666666666666666,
             "#ed7953"
            ],
            [
             0.7777777777777778,
             "#fb9f3a"
            ],
            [
             0.8888888888888888,
             "#fdca26"
            ],
            [
             1,
             "#f0f921"
            ]
           ],
           "sequentialminus": [
            [
             0,
             "#0d0887"
            ],
            [
             0.1111111111111111,
             "#46039f"
            ],
            [
             0.2222222222222222,
             "#7201a8"
            ],
            [
             0.3333333333333333,
             "#9c179e"
            ],
            [
             0.4444444444444444,
             "#bd3786"
            ],
            [
             0.5555555555555556,
             "#d8576b"
            ],
            [
             0.6666666666666666,
             "#ed7953"
            ],
            [
             0.7777777777777778,
             "#fb9f3a"
            ],
            [
             0.8888888888888888,
             "#fdca26"
            ],
            [
             1,
             "#f0f921"
            ]
           ]
          },
          "colorway": [
           "#636efa",
           "#EF553B",
           "#00cc96",
           "#ab63fa",
           "#FFA15A",
           "#19d3f3",
           "#FF6692",
           "#B6E880",
           "#FF97FF",
           "#FECB52"
          ],
          "font": {
           "color": "#2a3f5f"
          },
          "geo": {
           "bgcolor": "white",
           "lakecolor": "white",
           "landcolor": "#E5ECF6",
           "showlakes": true,
           "showland": true,
           "subunitcolor": "white"
          },
          "hoverlabel": {
           "align": "left"
          },
          "hovermode": "closest",
          "mapbox": {
           "style": "light"
          },
          "paper_bgcolor": "white",
          "plot_bgcolor": "#E5ECF6",
          "polar": {
           "angularaxis": {
            "gridcolor": "white",
            "linecolor": "white",
            "ticks": ""
           },
           "bgcolor": "#E5ECF6",
           "radialaxis": {
            "gridcolor": "white",
            "linecolor": "white",
            "ticks": ""
           }
          },
          "scene": {
           "xaxis": {
            "backgroundcolor": "#E5ECF6",
            "gridcolor": "white",
            "gridwidth": 2,
            "linecolor": "white",
            "showbackground": true,
            "ticks": "",
            "zerolinecolor": "white"
           },
           "yaxis": {
            "backgroundcolor": "#E5ECF6",
            "gridcolor": "white",
            "gridwidth": 2,
            "linecolor": "white",
            "showbackground": true,
            "ticks": "",
            "zerolinecolor": "white"
           },
           "zaxis": {
            "backgroundcolor": "#E5ECF6",
            "gridcolor": "white",
            "gridwidth": 2,
            "linecolor": "white",
            "showbackground": true,
            "ticks": "",
            "zerolinecolor": "white"
           }
          },
          "shapedefaults": {
           "line": {
            "color": "#2a3f5f"
           }
          },
          "ternary": {
           "aaxis": {
            "gridcolor": "white",
            "linecolor": "white",
            "ticks": ""
           },
           "baxis": {
            "gridcolor": "white",
            "linecolor": "white",
            "ticks": ""
           },
           "bgcolor": "#E5ECF6",
           "caxis": {
            "gridcolor": "white",
            "linecolor": "white",
            "ticks": ""
           }
          },
          "title": {
           "x": 0.05
          },
          "xaxis": {
           "automargin": true,
           "gridcolor": "white",
           "linecolor": "white",
           "ticks": "",
           "title": {
            "standoff": 15
           },
           "zerolinecolor": "white",
           "zerolinewidth": 2
          },
          "yaxis": {
           "automargin": true,
           "gridcolor": "white",
           "linecolor": "white",
           "ticks": "",
           "title": {
            "standoff": 15
           },
           "zerolinecolor": "white",
           "zerolinewidth": 2
          }
         }
        }
       }
      },
      "text/html": [
       "<div>\n",
       "        \n",
       "        \n",
       "            <div id=\"d301e585-5afc-40ad-9e23-6d6e5ad9f40b\" class=\"plotly-graph-div\" style=\"height:525px; width:100%;\"></div>\n",
       "            <script type=\"text/javascript\">\n",
       "                require([\"plotly\"], function(Plotly) {\n",
       "                    window.PLOTLYENV=window.PLOTLYENV || {};\n",
       "                    \n",
       "                if (document.getElementById(\"d301e585-5afc-40ad-9e23-6d6e5ad9f40b\")) {\n",
       "                    Plotly.newPlot(\n",
       "                        'd301e585-5afc-40ad-9e23-6d6e5ad9f40b',\n",
       "                        [{\"labels\": [\"positive\", \"negative\", \"neutral\"], \"type\": \"pie\", \"values\": [15, 5, 30]}],\n",
       "                        {\"template\": {\"data\": {\"bar\": [{\"error_x\": {\"color\": \"#2a3f5f\"}, \"error_y\": {\"color\": \"#2a3f5f\"}, \"marker\": {\"line\": {\"color\": \"#E5ECF6\", \"width\": 0.5}}, \"type\": \"bar\"}], \"barpolar\": [{\"marker\": {\"line\": {\"color\": \"#E5ECF6\", \"width\": 0.5}}, \"type\": \"barpolar\"}], \"carpet\": [{\"aaxis\": {\"endlinecolor\": \"#2a3f5f\", \"gridcolor\": \"white\", \"linecolor\": \"white\", \"minorgridcolor\": \"white\", \"startlinecolor\": \"#2a3f5f\"}, \"baxis\": {\"endlinecolor\": \"#2a3f5f\", \"gridcolor\": \"white\", \"linecolor\": \"white\", \"minorgridcolor\": \"white\", \"startlinecolor\": \"#2a3f5f\"}, \"type\": \"carpet\"}], \"choropleth\": [{\"colorbar\": {\"outlinewidth\": 0, \"ticks\": \"\"}, \"type\": \"choropleth\"}], \"contour\": [{\"colorbar\": {\"outlinewidth\": 0, \"ticks\": \"\"}, \"colorscale\": [[0.0, \"#0d0887\"], [0.1111111111111111, \"#46039f\"], [0.2222222222222222, \"#7201a8\"], [0.3333333333333333, \"#9c179e\"], [0.4444444444444444, \"#bd3786\"], [0.5555555555555556, \"#d8576b\"], [0.6666666666666666, \"#ed7953\"], [0.7777777777777778, \"#fb9f3a\"], [0.8888888888888888, \"#fdca26\"], [1.0, \"#f0f921\"]], \"type\": \"contour\"}], \"contourcarpet\": [{\"colorbar\": {\"outlinewidth\": 0, \"ticks\": \"\"}, \"type\": \"contourcarpet\"}], \"heatmap\": [{\"colorbar\": {\"outlinewidth\": 0, \"ticks\": \"\"}, \"colorscale\": [[0.0, \"#0d0887\"], [0.1111111111111111, \"#46039f\"], [0.2222222222222222, \"#7201a8\"], [0.3333333333333333, \"#9c179e\"], [0.4444444444444444, \"#bd3786\"], [0.5555555555555556, \"#d8576b\"], [0.6666666666666666, \"#ed7953\"], [0.7777777777777778, \"#fb9f3a\"], [0.8888888888888888, \"#fdca26\"], [1.0, \"#f0f921\"]], \"type\": \"heatmap\"}], \"heatmapgl\": [{\"colorbar\": {\"outlinewidth\": 0, \"ticks\": \"\"}, \"colorscale\": [[0.0, \"#0d0887\"], [0.1111111111111111, \"#46039f\"], [0.2222222222222222, \"#7201a8\"], [0.3333333333333333, \"#9c179e\"], [0.4444444444444444, \"#bd3786\"], [0.5555555555555556, \"#d8576b\"], [0.6666666666666666, \"#ed7953\"], [0.7777777777777778, \"#fb9f3a\"], [0.8888888888888888, \"#fdca26\"], [1.0, \"#f0f921\"]], \"type\": \"heatmapgl\"}], \"histogram\": [{\"marker\": {\"colorbar\": {\"outlinewidth\": 0, \"ticks\": \"\"}}, \"type\": \"histogram\"}], \"histogram2d\": [{\"colorbar\": {\"outlinewidth\": 0, \"ticks\": \"\"}, \"colorscale\": [[0.0, \"#0d0887\"], [0.1111111111111111, \"#46039f\"], [0.2222222222222222, \"#7201a8\"], [0.3333333333333333, \"#9c179e\"], [0.4444444444444444, \"#bd3786\"], [0.5555555555555556, \"#d8576b\"], [0.6666666666666666, \"#ed7953\"], [0.7777777777777778, \"#fb9f3a\"], [0.8888888888888888, \"#fdca26\"], [1.0, \"#f0f921\"]], \"type\": \"histogram2d\"}], \"histogram2dcontour\": [{\"colorbar\": {\"outlinewidth\": 0, \"ticks\": \"\"}, \"colorscale\": [[0.0, \"#0d0887\"], [0.1111111111111111, \"#46039f\"], [0.2222222222222222, \"#7201a8\"], [0.3333333333333333, \"#9c179e\"], [0.4444444444444444, \"#bd3786\"], [0.5555555555555556, \"#d8576b\"], [0.6666666666666666, \"#ed7953\"], [0.7777777777777778, \"#fb9f3a\"], [0.8888888888888888, \"#fdca26\"], [1.0, \"#f0f921\"]], \"type\": \"histogram2dcontour\"}], \"mesh3d\": [{\"colorbar\": {\"outlinewidth\": 0, \"ticks\": \"\"}, \"type\": \"mesh3d\"}], \"parcoords\": [{\"line\": {\"colorbar\": {\"outlinewidth\": 0, \"ticks\": \"\"}}, \"type\": \"parcoords\"}], \"pie\": [{\"automargin\": true, \"type\": \"pie\"}], \"scatter\": [{\"marker\": {\"colorbar\": {\"outlinewidth\": 0, \"ticks\": \"\"}}, \"type\": \"scatter\"}], \"scatter3d\": [{\"line\": {\"colorbar\": {\"outlinewidth\": 0, \"ticks\": \"\"}}, \"marker\": {\"colorbar\": {\"outlinewidth\": 0, \"ticks\": \"\"}}, \"type\": \"scatter3d\"}], \"scattercarpet\": [{\"marker\": {\"colorbar\": {\"outlinewidth\": 0, \"ticks\": \"\"}}, \"type\": \"scattercarpet\"}], \"scattergeo\": [{\"marker\": {\"colorbar\": {\"outlinewidth\": 0, \"ticks\": \"\"}}, \"type\": \"scattergeo\"}], \"scattergl\": [{\"marker\": {\"colorbar\": {\"outlinewidth\": 0, \"ticks\": \"\"}}, \"type\": \"scattergl\"}], \"scattermapbox\": [{\"marker\": {\"colorbar\": {\"outlinewidth\": 0, \"ticks\": \"\"}}, \"type\": \"scattermapbox\"}], \"scatterpolar\": [{\"marker\": {\"colorbar\": {\"outlinewidth\": 0, \"ticks\": \"\"}}, \"type\": \"scatterpolar\"}], \"scatterpolargl\": [{\"marker\": {\"colorbar\": {\"outlinewidth\": 0, \"ticks\": \"\"}}, \"type\": \"scatterpolargl\"}], \"scatterternary\": [{\"marker\": {\"colorbar\": {\"outlinewidth\": 0, \"ticks\": \"\"}}, \"type\": \"scatterternary\"}], \"surface\": [{\"colorbar\": {\"outlinewidth\": 0, \"ticks\": \"\"}, \"colorscale\": [[0.0, \"#0d0887\"], [0.1111111111111111, \"#46039f\"], [0.2222222222222222, \"#7201a8\"], [0.3333333333333333, \"#9c179e\"], [0.4444444444444444, \"#bd3786\"], [0.5555555555555556, \"#d8576b\"], [0.6666666666666666, \"#ed7953\"], [0.7777777777777778, \"#fb9f3a\"], [0.8888888888888888, \"#fdca26\"], [1.0, \"#f0f921\"]], \"type\": \"surface\"}], \"table\": [{\"cells\": {\"fill\": {\"color\": \"#EBF0F8\"}, \"line\": {\"color\": \"white\"}}, \"header\": {\"fill\": {\"color\": \"#C8D4E3\"}, \"line\": {\"color\": \"white\"}}, \"type\": \"table\"}]}, \"layout\": {\"annotationdefaults\": {\"arrowcolor\": \"#2a3f5f\", \"arrowhead\": 0, \"arrowwidth\": 1}, \"coloraxis\": {\"colorbar\": {\"outlinewidth\": 0, \"ticks\": \"\"}}, \"colorscale\": {\"diverging\": [[0, \"#8e0152\"], [0.1, \"#c51b7d\"], [0.2, \"#de77ae\"], [0.3, \"#f1b6da\"], [0.4, \"#fde0ef\"], [0.5, \"#f7f7f7\"], [0.6, \"#e6f5d0\"], [0.7, \"#b8e186\"], [0.8, \"#7fbc41\"], [0.9, \"#4d9221\"], [1, \"#276419\"]], \"sequential\": [[0.0, \"#0d0887\"], [0.1111111111111111, \"#46039f\"], [0.2222222222222222, \"#7201a8\"], [0.3333333333333333, \"#9c179e\"], [0.4444444444444444, \"#bd3786\"], [0.5555555555555556, \"#d8576b\"], [0.6666666666666666, \"#ed7953\"], [0.7777777777777778, \"#fb9f3a\"], [0.8888888888888888, \"#fdca26\"], [1.0, \"#f0f921\"]], \"sequentialminus\": [[0.0, \"#0d0887\"], [0.1111111111111111, \"#46039f\"], [0.2222222222222222, \"#7201a8\"], [0.3333333333333333, \"#9c179e\"], [0.4444444444444444, \"#bd3786\"], [0.5555555555555556, \"#d8576b\"], [0.6666666666666666, \"#ed7953\"], [0.7777777777777778, \"#fb9f3a\"], [0.8888888888888888, \"#fdca26\"], [1.0, \"#f0f921\"]]}, \"colorway\": [\"#636efa\", \"#EF553B\", \"#00cc96\", \"#ab63fa\", \"#FFA15A\", \"#19d3f3\", \"#FF6692\", \"#B6E880\", \"#FF97FF\", \"#FECB52\"], \"font\": {\"color\": \"#2a3f5f\"}, \"geo\": {\"bgcolor\": \"white\", \"lakecolor\": \"white\", \"landcolor\": \"#E5ECF6\", \"showlakes\": true, \"showland\": true, \"subunitcolor\": \"white\"}, \"hoverlabel\": {\"align\": \"left\"}, \"hovermode\": \"closest\", \"mapbox\": {\"style\": \"light\"}, \"paper_bgcolor\": \"white\", \"plot_bgcolor\": \"#E5ECF6\", \"polar\": {\"angularaxis\": {\"gridcolor\": \"white\", \"linecolor\": \"white\", \"ticks\": \"\"}, \"bgcolor\": \"#E5ECF6\", \"radialaxis\": {\"gridcolor\": \"white\", \"linecolor\": \"white\", \"ticks\": \"\"}}, \"scene\": {\"xaxis\": {\"backgroundcolor\": \"#E5ECF6\", \"gridcolor\": \"white\", \"gridwidth\": 2, \"linecolor\": \"white\", \"showbackground\": true, \"ticks\": \"\", \"zerolinecolor\": \"white\"}, \"yaxis\": {\"backgroundcolor\": \"#E5ECF6\", \"gridcolor\": \"white\", \"gridwidth\": 2, \"linecolor\": \"white\", \"showbackground\": true, \"ticks\": \"\", \"zerolinecolor\": \"white\"}, \"zaxis\": {\"backgroundcolor\": \"#E5ECF6\", \"gridcolor\": \"white\", \"gridwidth\": 2, \"linecolor\": \"white\", \"showbackground\": true, \"ticks\": \"\", \"zerolinecolor\": \"white\"}}, \"shapedefaults\": {\"line\": {\"color\": \"#2a3f5f\"}}, \"ternary\": {\"aaxis\": {\"gridcolor\": \"white\", \"linecolor\": \"white\", \"ticks\": \"\"}, \"baxis\": {\"gridcolor\": \"white\", \"linecolor\": \"white\", \"ticks\": \"\"}, \"bgcolor\": \"#E5ECF6\", \"caxis\": {\"gridcolor\": \"white\", \"linecolor\": \"white\", \"ticks\": \"\"}}, \"title\": {\"x\": 0.05}, \"xaxis\": {\"automargin\": true, \"gridcolor\": \"white\", \"linecolor\": \"white\", \"ticks\": \"\", \"title\": {\"standoff\": 15}, \"zerolinecolor\": \"white\", \"zerolinewidth\": 2}, \"yaxis\": {\"automargin\": true, \"gridcolor\": \"white\", \"linecolor\": \"white\", \"ticks\": \"\", \"title\": {\"standoff\": 15}, \"zerolinecolor\": \"white\", \"zerolinewidth\": 2}}}},\n",
       "                        {\"responsive\": true}\n",
       "                    ).then(function(){\n",
       "                            \n",
       "var gd = document.getElementById('d301e585-5afc-40ad-9e23-6d6e5ad9f40b');\n",
       "var x = new MutationObserver(function (mutations, observer) {{\n",
       "        var display = window.getComputedStyle(gd).display;\n",
       "        if (!display || display === 'none') {{\n",
       "            console.log([gd, 'removed!']);\n",
       "            Plotly.purge(gd);\n",
       "            observer.disconnect();\n",
       "        }}\n",
       "}});\n",
       "\n",
       "// Listen for the removal of the full notebook cells\n",
       "var notebookContainer = gd.closest('#notebook-container');\n",
       "if (notebookContainer) {{\n",
       "    x.observe(notebookContainer, {childList: true});\n",
       "}}\n",
       "\n",
       "// Listen for the clearing of the current output cell\n",
       "var outputEl = gd.closest('.output');\n",
       "if (outputEl) {{\n",
       "    x.observe(outputEl, {childList: true});\n",
       "}}\n",
       "\n",
       "                        })\n",
       "                };\n",
       "                });\n",
       "            </script>\n",
       "        </div>"
      ]
     },
     "metadata": {},
     "output_type": "display_data"
    }
   ],
   "source": [
    "values = [pos,neg,neu]\n",
    "import plotly.graph_objects as go\n",
    "fig = go.Figure(data=[go.Pie(labels=groups, values=values)])\n",
    "fig.show()"
   ]
  },
  {
   "cell_type": "code",
   "execution_count": 25,
   "metadata": {
    "scrolled": true
   },
   "outputs": [
    {
     "data": {
      "application/vnd.plotly.v1+json": {
       "config": {
        "plotlyServerURL": "https://plot.ly"
       },
       "data": [
        {
         "mode": "markers+lines",
         "type": "scatter",
         "x": [
          "2020-06-19T00:00:00",
          "2020-06-20T00:00:00",
          "2020-06-21T00:00:00",
          "2020-06-22T00:00:00",
          "2020-06-23T00:00:00",
          "2020-06-24T00:00:00",
          "2020-06-25T00:00:00",
          "2020-06-26T00:00:00"
         ],
         "y": [
          0.06633333333333333,
          0.007407407407407406,
          -0.10416666666666667,
          0.328,
          0.225,
          0,
          0,
          0.16203703703703706
         ]
        }
       ],
       "layout": {
        "template": {
         "data": {
          "bar": [
           {
            "error_x": {
             "color": "#2a3f5f"
            },
            "error_y": {
             "color": "#2a3f5f"
            },
            "marker": {
             "line": {
              "color": "#E5ECF6",
              "width": 0.5
             }
            },
            "type": "bar"
           }
          ],
          "barpolar": [
           {
            "marker": {
             "line": {
              "color": "#E5ECF6",
              "width": 0.5
             }
            },
            "type": "barpolar"
           }
          ],
          "carpet": [
           {
            "aaxis": {
             "endlinecolor": "#2a3f5f",
             "gridcolor": "white",
             "linecolor": "white",
             "minorgridcolor": "white",
             "startlinecolor": "#2a3f5f"
            },
            "baxis": {
             "endlinecolor": "#2a3f5f",
             "gridcolor": "white",
             "linecolor": "white",
             "minorgridcolor": "white",
             "startlinecolor": "#2a3f5f"
            },
            "type": "carpet"
           }
          ],
          "choropleth": [
           {
            "colorbar": {
             "outlinewidth": 0,
             "ticks": ""
            },
            "type": "choropleth"
           }
          ],
          "contour": [
           {
            "colorbar": {
             "outlinewidth": 0,
             "ticks": ""
            },
            "colorscale": [
             [
              0,
              "#0d0887"
             ],
             [
              0.1111111111111111,
              "#46039f"
             ],
             [
              0.2222222222222222,
              "#7201a8"
             ],
             [
              0.3333333333333333,
              "#9c179e"
             ],
             [
              0.4444444444444444,
              "#bd3786"
             ],
             [
              0.5555555555555556,
              "#d8576b"
             ],
             [
              0.6666666666666666,
              "#ed7953"
             ],
             [
              0.7777777777777778,
              "#fb9f3a"
             ],
             [
              0.8888888888888888,
              "#fdca26"
             ],
             [
              1,
              "#f0f921"
             ]
            ],
            "type": "contour"
           }
          ],
          "contourcarpet": [
           {
            "colorbar": {
             "outlinewidth": 0,
             "ticks": ""
            },
            "type": "contourcarpet"
           }
          ],
          "heatmap": [
           {
            "colorbar": {
             "outlinewidth": 0,
             "ticks": ""
            },
            "colorscale": [
             [
              0,
              "#0d0887"
             ],
             [
              0.1111111111111111,
              "#46039f"
             ],
             [
              0.2222222222222222,
              "#7201a8"
             ],
             [
              0.3333333333333333,
              "#9c179e"
             ],
             [
              0.4444444444444444,
              "#bd3786"
             ],
             [
              0.5555555555555556,
              "#d8576b"
             ],
             [
              0.6666666666666666,
              "#ed7953"
             ],
             [
              0.7777777777777778,
              "#fb9f3a"
             ],
             [
              0.8888888888888888,
              "#fdca26"
             ],
             [
              1,
              "#f0f921"
             ]
            ],
            "type": "heatmap"
           }
          ],
          "heatmapgl": [
           {
            "colorbar": {
             "outlinewidth": 0,
             "ticks": ""
            },
            "colorscale": [
             [
              0,
              "#0d0887"
             ],
             [
              0.1111111111111111,
              "#46039f"
             ],
             [
              0.2222222222222222,
              "#7201a8"
             ],
             [
              0.3333333333333333,
              "#9c179e"
             ],
             [
              0.4444444444444444,
              "#bd3786"
             ],
             [
              0.5555555555555556,
              "#d8576b"
             ],
             [
              0.6666666666666666,
              "#ed7953"
             ],
             [
              0.7777777777777778,
              "#fb9f3a"
             ],
             [
              0.8888888888888888,
              "#fdca26"
             ],
             [
              1,
              "#f0f921"
             ]
            ],
            "type": "heatmapgl"
           }
          ],
          "histogram": [
           {
            "marker": {
             "colorbar": {
              "outlinewidth": 0,
              "ticks": ""
             }
            },
            "type": "histogram"
           }
          ],
          "histogram2d": [
           {
            "colorbar": {
             "outlinewidth": 0,
             "ticks": ""
            },
            "colorscale": [
             [
              0,
              "#0d0887"
             ],
             [
              0.1111111111111111,
              "#46039f"
             ],
             [
              0.2222222222222222,
              "#7201a8"
             ],
             [
              0.3333333333333333,
              "#9c179e"
             ],
             [
              0.4444444444444444,
              "#bd3786"
             ],
             [
              0.5555555555555556,
              "#d8576b"
             ],
             [
              0.6666666666666666,
              "#ed7953"
             ],
             [
              0.7777777777777778,
              "#fb9f3a"
             ],
             [
              0.8888888888888888,
              "#fdca26"
             ],
             [
              1,
              "#f0f921"
             ]
            ],
            "type": "histogram2d"
           }
          ],
          "histogram2dcontour": [
           {
            "colorbar": {
             "outlinewidth": 0,
             "ticks": ""
            },
            "colorscale": [
             [
              0,
              "#0d0887"
             ],
             [
              0.1111111111111111,
              "#46039f"
             ],
             [
              0.2222222222222222,
              "#7201a8"
             ],
             [
              0.3333333333333333,
              "#9c179e"
             ],
             [
              0.4444444444444444,
              "#bd3786"
             ],
             [
              0.5555555555555556,
              "#d8576b"
             ],
             [
              0.6666666666666666,
              "#ed7953"
             ],
             [
              0.7777777777777778,
              "#fb9f3a"
             ],
             [
              0.8888888888888888,
              "#fdca26"
             ],
             [
              1,
              "#f0f921"
             ]
            ],
            "type": "histogram2dcontour"
           }
          ],
          "mesh3d": [
           {
            "colorbar": {
             "outlinewidth": 0,
             "ticks": ""
            },
            "type": "mesh3d"
           }
          ],
          "parcoords": [
           {
            "line": {
             "colorbar": {
              "outlinewidth": 0,
              "ticks": ""
             }
            },
            "type": "parcoords"
           }
          ],
          "pie": [
           {
            "automargin": true,
            "type": "pie"
           }
          ],
          "scatter": [
           {
            "marker": {
             "colorbar": {
              "outlinewidth": 0,
              "ticks": ""
             }
            },
            "type": "scatter"
           }
          ],
          "scatter3d": [
           {
            "line": {
             "colorbar": {
              "outlinewidth": 0,
              "ticks": ""
             }
            },
            "marker": {
             "colorbar": {
              "outlinewidth": 0,
              "ticks": ""
             }
            },
            "type": "scatter3d"
           }
          ],
          "scattercarpet": [
           {
            "marker": {
             "colorbar": {
              "outlinewidth": 0,
              "ticks": ""
             }
            },
            "type": "scattercarpet"
           }
          ],
          "scattergeo": [
           {
            "marker": {
             "colorbar": {
              "outlinewidth": 0,
              "ticks": ""
             }
            },
            "type": "scattergeo"
           }
          ],
          "scattergl": [
           {
            "marker": {
             "colorbar": {
              "outlinewidth": 0,
              "ticks": ""
             }
            },
            "type": "scattergl"
           }
          ],
          "scattermapbox": [
           {
            "marker": {
             "colorbar": {
              "outlinewidth": 0,
              "ticks": ""
             }
            },
            "type": "scattermapbox"
           }
          ],
          "scatterpolar": [
           {
            "marker": {
             "colorbar": {
              "outlinewidth": 0,
              "ticks": ""
             }
            },
            "type": "scatterpolar"
           }
          ],
          "scatterpolargl": [
           {
            "marker": {
             "colorbar": {
              "outlinewidth": 0,
              "ticks": ""
             }
            },
            "type": "scatterpolargl"
           }
          ],
          "scatterternary": [
           {
            "marker": {
             "colorbar": {
              "outlinewidth": 0,
              "ticks": ""
             }
            },
            "type": "scatterternary"
           }
          ],
          "surface": [
           {
            "colorbar": {
             "outlinewidth": 0,
             "ticks": ""
            },
            "colorscale": [
             [
              0,
              "#0d0887"
             ],
             [
              0.1111111111111111,
              "#46039f"
             ],
             [
              0.2222222222222222,
              "#7201a8"
             ],
             [
              0.3333333333333333,
              "#9c179e"
             ],
             [
              0.4444444444444444,
              "#bd3786"
             ],
             [
              0.5555555555555556,
              "#d8576b"
             ],
             [
              0.6666666666666666,
              "#ed7953"
             ],
             [
              0.7777777777777778,
              "#fb9f3a"
             ],
             [
              0.8888888888888888,
              "#fdca26"
             ],
             [
              1,
              "#f0f921"
             ]
            ],
            "type": "surface"
           }
          ],
          "table": [
           {
            "cells": {
             "fill": {
              "color": "#EBF0F8"
             },
             "line": {
              "color": "white"
             }
            },
            "header": {
             "fill": {
              "color": "#C8D4E3"
             },
             "line": {
              "color": "white"
             }
            },
            "type": "table"
           }
          ]
         },
         "layout": {
          "annotationdefaults": {
           "arrowcolor": "#2a3f5f",
           "arrowhead": 0,
           "arrowwidth": 1
          },
          "coloraxis": {
           "colorbar": {
            "outlinewidth": 0,
            "ticks": ""
           }
          },
          "colorscale": {
           "diverging": [
            [
             0,
             "#8e0152"
            ],
            [
             0.1,
             "#c51b7d"
            ],
            [
             0.2,
             "#de77ae"
            ],
            [
             0.3,
             "#f1b6da"
            ],
            [
             0.4,
             "#fde0ef"
            ],
            [
             0.5,
             "#f7f7f7"
            ],
            [
             0.6,
             "#e6f5d0"
            ],
            [
             0.7,
             "#b8e186"
            ],
            [
             0.8,
             "#7fbc41"
            ],
            [
             0.9,
             "#4d9221"
            ],
            [
             1,
             "#276419"
            ]
           ],
           "sequential": [
            [
             0,
             "#0d0887"
            ],
            [
             0.1111111111111111,
             "#46039f"
            ],
            [
             0.2222222222222222,
             "#7201a8"
            ],
            [
             0.3333333333333333,
             "#9c179e"
            ],
            [
             0.4444444444444444,
             "#bd3786"
            ],
            [
             0.5555555555555556,
             "#d8576b"
            ],
            [
             0.6666666666666666,
             "#ed7953"
            ],
            [
             0.7777777777777778,
             "#fb9f3a"
            ],
            [
             0.8888888888888888,
             "#fdca26"
            ],
            [
             1,
             "#f0f921"
            ]
           ],
           "sequentialminus": [
            [
             0,
             "#0d0887"
            ],
            [
             0.1111111111111111,
             "#46039f"
            ],
            [
             0.2222222222222222,
             "#7201a8"
            ],
            [
             0.3333333333333333,
             "#9c179e"
            ],
            [
             0.4444444444444444,
             "#bd3786"
            ],
            [
             0.5555555555555556,
             "#d8576b"
            ],
            [
             0.6666666666666666,
             "#ed7953"
            ],
            [
             0.7777777777777778,
             "#fb9f3a"
            ],
            [
             0.8888888888888888,
             "#fdca26"
            ],
            [
             1,
             "#f0f921"
            ]
           ]
          },
          "colorway": [
           "#636efa",
           "#EF553B",
           "#00cc96",
           "#ab63fa",
           "#FFA15A",
           "#19d3f3",
           "#FF6692",
           "#B6E880",
           "#FF97FF",
           "#FECB52"
          ],
          "font": {
           "color": "#2a3f5f"
          },
          "geo": {
           "bgcolor": "white",
           "lakecolor": "white",
           "landcolor": "#E5ECF6",
           "showlakes": true,
           "showland": true,
           "subunitcolor": "white"
          },
          "hoverlabel": {
           "align": "left"
          },
          "hovermode": "closest",
          "mapbox": {
           "style": "light"
          },
          "paper_bgcolor": "white",
          "plot_bgcolor": "#E5ECF6",
          "polar": {
           "angularaxis": {
            "gridcolor": "white",
            "linecolor": "white",
            "ticks": ""
           },
           "bgcolor": "#E5ECF6",
           "radialaxis": {
            "gridcolor": "white",
            "linecolor": "white",
            "ticks": ""
           }
          },
          "scene": {
           "xaxis": {
            "backgroundcolor": "#E5ECF6",
            "gridcolor": "white",
            "gridwidth": 2,
            "linecolor": "white",
            "showbackground": true,
            "ticks": "",
            "zerolinecolor": "white"
           },
           "yaxis": {
            "backgroundcolor": "#E5ECF6",
            "gridcolor": "white",
            "gridwidth": 2,
            "linecolor": "white",
            "showbackground": true,
            "ticks": "",
            "zerolinecolor": "white"
           },
           "zaxis": {
            "backgroundcolor": "#E5ECF6",
            "gridcolor": "white",
            "gridwidth": 2,
            "linecolor": "white",
            "showbackground": true,
            "ticks": "",
            "zerolinecolor": "white"
           }
          },
          "shapedefaults": {
           "line": {
            "color": "#2a3f5f"
           }
          },
          "ternary": {
           "aaxis": {
            "gridcolor": "white",
            "linecolor": "white",
            "ticks": ""
           },
           "baxis": {
            "gridcolor": "white",
            "linecolor": "white",
            "ticks": ""
           },
           "bgcolor": "#E5ECF6",
           "caxis": {
            "gridcolor": "white",
            "linecolor": "white",
            "ticks": ""
           }
          },
          "title": {
           "x": 0.05
          },
          "xaxis": {
           "automargin": true,
           "gridcolor": "white",
           "linecolor": "white",
           "ticks": "",
           "title": {
            "standoff": 15
           },
           "zerolinecolor": "white",
           "zerolinewidth": 2
          },
          "yaxis": {
           "automargin": true,
           "gridcolor": "white",
           "linecolor": "white",
           "ticks": "",
           "title": {
            "standoff": 15
           },
           "zerolinecolor": "white",
           "zerolinewidth": 2
          }
         }
        }
       }
      },
      "text/html": [
       "<div>\n",
       "        \n",
       "        \n",
       "            <div id=\"17aef760-dfca-495e-95b6-ae8fbc7310b7\" class=\"plotly-graph-div\" style=\"height:525px; width:100%;\"></div>\n",
       "            <script type=\"text/javascript\">\n",
       "                require([\"plotly\"], function(Plotly) {\n",
       "                    window.PLOTLYENV=window.PLOTLYENV || {};\n",
       "                    \n",
       "                if (document.getElementById(\"17aef760-dfca-495e-95b6-ae8fbc7310b7\")) {\n",
       "                    Plotly.newPlot(\n",
       "                        '17aef760-dfca-495e-95b6-ae8fbc7310b7',\n",
       "                        [{\"mode\": \"markers+lines\", \"type\": \"scatter\", \"x\": [\"2020-06-19T00:00:00\", \"2020-06-20T00:00:00\", \"2020-06-21T00:00:00\", \"2020-06-22T00:00:00\", \"2020-06-23T00:00:00\", \"2020-06-24T00:00:00\", \"2020-06-25T00:00:00\", \"2020-06-26T00:00:00\"], \"y\": [0.06633333333333333, 0.007407407407407406, -0.10416666666666667, 0.328, 0.225, 0.0, 0.0, 0.16203703703703706]}],\n",
       "                        {\"template\": {\"data\": {\"bar\": [{\"error_x\": {\"color\": \"#2a3f5f\"}, \"error_y\": {\"color\": \"#2a3f5f\"}, \"marker\": {\"line\": {\"color\": \"#E5ECF6\", \"width\": 0.5}}, \"type\": \"bar\"}], \"barpolar\": [{\"marker\": {\"line\": {\"color\": \"#E5ECF6\", \"width\": 0.5}}, \"type\": \"barpolar\"}], \"carpet\": [{\"aaxis\": {\"endlinecolor\": \"#2a3f5f\", \"gridcolor\": \"white\", \"linecolor\": \"white\", \"minorgridcolor\": \"white\", \"startlinecolor\": \"#2a3f5f\"}, \"baxis\": {\"endlinecolor\": \"#2a3f5f\", \"gridcolor\": \"white\", \"linecolor\": \"white\", \"minorgridcolor\": \"white\", \"startlinecolor\": \"#2a3f5f\"}, \"type\": \"carpet\"}], \"choropleth\": [{\"colorbar\": {\"outlinewidth\": 0, \"ticks\": \"\"}, \"type\": \"choropleth\"}], \"contour\": [{\"colorbar\": {\"outlinewidth\": 0, \"ticks\": \"\"}, \"colorscale\": [[0.0, \"#0d0887\"], [0.1111111111111111, \"#46039f\"], [0.2222222222222222, \"#7201a8\"], [0.3333333333333333, \"#9c179e\"], [0.4444444444444444, \"#bd3786\"], [0.5555555555555556, \"#d8576b\"], [0.6666666666666666, \"#ed7953\"], [0.7777777777777778, \"#fb9f3a\"], [0.8888888888888888, \"#fdca26\"], [1.0, \"#f0f921\"]], \"type\": \"contour\"}], \"contourcarpet\": [{\"colorbar\": {\"outlinewidth\": 0, \"ticks\": \"\"}, \"type\": \"contourcarpet\"}], \"heatmap\": [{\"colorbar\": {\"outlinewidth\": 0, \"ticks\": \"\"}, \"colorscale\": [[0.0, \"#0d0887\"], [0.1111111111111111, \"#46039f\"], [0.2222222222222222, \"#7201a8\"], [0.3333333333333333, \"#9c179e\"], [0.4444444444444444, \"#bd3786\"], [0.5555555555555556, \"#d8576b\"], [0.6666666666666666, \"#ed7953\"], [0.7777777777777778, \"#fb9f3a\"], [0.8888888888888888, \"#fdca26\"], [1.0, \"#f0f921\"]], \"type\": \"heatmap\"}], \"heatmapgl\": [{\"colorbar\": {\"outlinewidth\": 0, \"ticks\": \"\"}, \"colorscale\": [[0.0, \"#0d0887\"], [0.1111111111111111, \"#46039f\"], [0.2222222222222222, \"#7201a8\"], [0.3333333333333333, \"#9c179e\"], [0.4444444444444444, \"#bd3786\"], [0.5555555555555556, \"#d8576b\"], [0.6666666666666666, \"#ed7953\"], [0.7777777777777778, \"#fb9f3a\"], [0.8888888888888888, \"#fdca26\"], [1.0, \"#f0f921\"]], \"type\": \"heatmapgl\"}], \"histogram\": [{\"marker\": {\"colorbar\": {\"outlinewidth\": 0, \"ticks\": \"\"}}, \"type\": \"histogram\"}], \"histogram2d\": [{\"colorbar\": {\"outlinewidth\": 0, \"ticks\": \"\"}, \"colorscale\": [[0.0, \"#0d0887\"], [0.1111111111111111, \"#46039f\"], [0.2222222222222222, \"#7201a8\"], [0.3333333333333333, \"#9c179e\"], [0.4444444444444444, \"#bd3786\"], [0.5555555555555556, \"#d8576b\"], [0.6666666666666666, \"#ed7953\"], [0.7777777777777778, \"#fb9f3a\"], [0.8888888888888888, \"#fdca26\"], [1.0, \"#f0f921\"]], \"type\": \"histogram2d\"}], \"histogram2dcontour\": [{\"colorbar\": {\"outlinewidth\": 0, \"ticks\": \"\"}, \"colorscale\": [[0.0, \"#0d0887\"], [0.1111111111111111, \"#46039f\"], [0.2222222222222222, \"#7201a8\"], [0.3333333333333333, \"#9c179e\"], [0.4444444444444444, \"#bd3786\"], [0.5555555555555556, \"#d8576b\"], [0.6666666666666666, \"#ed7953\"], [0.7777777777777778, \"#fb9f3a\"], [0.8888888888888888, \"#fdca26\"], [1.0, \"#f0f921\"]], \"type\": \"histogram2dcontour\"}], \"mesh3d\": [{\"colorbar\": {\"outlinewidth\": 0, \"ticks\": \"\"}, \"type\": \"mesh3d\"}], \"parcoords\": [{\"line\": {\"colorbar\": {\"outlinewidth\": 0, \"ticks\": \"\"}}, \"type\": \"parcoords\"}], \"pie\": [{\"automargin\": true, \"type\": \"pie\"}], \"scatter\": [{\"marker\": {\"colorbar\": {\"outlinewidth\": 0, \"ticks\": \"\"}}, \"type\": \"scatter\"}], \"scatter3d\": [{\"line\": {\"colorbar\": {\"outlinewidth\": 0, \"ticks\": \"\"}}, \"marker\": {\"colorbar\": {\"outlinewidth\": 0, \"ticks\": \"\"}}, \"type\": \"scatter3d\"}], \"scattercarpet\": [{\"marker\": {\"colorbar\": {\"outlinewidth\": 0, \"ticks\": \"\"}}, \"type\": \"scattercarpet\"}], \"scattergeo\": [{\"marker\": {\"colorbar\": {\"outlinewidth\": 0, \"ticks\": \"\"}}, \"type\": \"scattergeo\"}], \"scattergl\": [{\"marker\": {\"colorbar\": {\"outlinewidth\": 0, \"ticks\": \"\"}}, \"type\": \"scattergl\"}], \"scattermapbox\": [{\"marker\": {\"colorbar\": {\"outlinewidth\": 0, \"ticks\": \"\"}}, \"type\": \"scattermapbox\"}], \"scatterpolar\": [{\"marker\": {\"colorbar\": {\"outlinewidth\": 0, \"ticks\": \"\"}}, \"type\": \"scatterpolar\"}], \"scatterpolargl\": [{\"marker\": {\"colorbar\": {\"outlinewidth\": 0, \"ticks\": \"\"}}, \"type\": \"scatterpolargl\"}], \"scatterternary\": [{\"marker\": {\"colorbar\": {\"outlinewidth\": 0, \"ticks\": \"\"}}, \"type\": \"scatterternary\"}], \"surface\": [{\"colorbar\": {\"outlinewidth\": 0, \"ticks\": \"\"}, \"colorscale\": [[0.0, \"#0d0887\"], [0.1111111111111111, \"#46039f\"], [0.2222222222222222, \"#7201a8\"], [0.3333333333333333, \"#9c179e\"], [0.4444444444444444, \"#bd3786\"], [0.5555555555555556, \"#d8576b\"], [0.6666666666666666, \"#ed7953\"], [0.7777777777777778, \"#fb9f3a\"], [0.8888888888888888, \"#fdca26\"], [1.0, \"#f0f921\"]], \"type\": \"surface\"}], \"table\": [{\"cells\": {\"fill\": {\"color\": \"#EBF0F8\"}, \"line\": {\"color\": \"white\"}}, \"header\": {\"fill\": {\"color\": \"#C8D4E3\"}, \"line\": {\"color\": \"white\"}}, \"type\": \"table\"}]}, \"layout\": {\"annotationdefaults\": {\"arrowcolor\": \"#2a3f5f\", \"arrowhead\": 0, \"arrowwidth\": 1}, \"coloraxis\": {\"colorbar\": {\"outlinewidth\": 0, \"ticks\": \"\"}}, \"colorscale\": {\"diverging\": [[0, \"#8e0152\"], [0.1, \"#c51b7d\"], [0.2, \"#de77ae\"], [0.3, \"#f1b6da\"], [0.4, \"#fde0ef\"], [0.5, \"#f7f7f7\"], [0.6, \"#e6f5d0\"], [0.7, \"#b8e186\"], [0.8, \"#7fbc41\"], [0.9, \"#4d9221\"], [1, \"#276419\"]], \"sequential\": [[0.0, \"#0d0887\"], [0.1111111111111111, \"#46039f\"], [0.2222222222222222, \"#7201a8\"], [0.3333333333333333, \"#9c179e\"], [0.4444444444444444, \"#bd3786\"], [0.5555555555555556, \"#d8576b\"], [0.6666666666666666, \"#ed7953\"], [0.7777777777777778, \"#fb9f3a\"], [0.8888888888888888, \"#fdca26\"], [1.0, \"#f0f921\"]], \"sequentialminus\": [[0.0, \"#0d0887\"], [0.1111111111111111, \"#46039f\"], [0.2222222222222222, \"#7201a8\"], [0.3333333333333333, \"#9c179e\"], [0.4444444444444444, \"#bd3786\"], [0.5555555555555556, \"#d8576b\"], [0.6666666666666666, \"#ed7953\"], [0.7777777777777778, \"#fb9f3a\"], [0.8888888888888888, \"#fdca26\"], [1.0, \"#f0f921\"]]}, \"colorway\": [\"#636efa\", \"#EF553B\", \"#00cc96\", \"#ab63fa\", \"#FFA15A\", \"#19d3f3\", \"#FF6692\", \"#B6E880\", \"#FF97FF\", \"#FECB52\"], \"font\": {\"color\": \"#2a3f5f\"}, \"geo\": {\"bgcolor\": \"white\", \"lakecolor\": \"white\", \"landcolor\": \"#E5ECF6\", \"showlakes\": true, \"showland\": true, \"subunitcolor\": \"white\"}, \"hoverlabel\": {\"align\": \"left\"}, \"hovermode\": \"closest\", \"mapbox\": {\"style\": \"light\"}, \"paper_bgcolor\": \"white\", \"plot_bgcolor\": \"#E5ECF6\", \"polar\": {\"angularaxis\": {\"gridcolor\": \"white\", \"linecolor\": \"white\", \"ticks\": \"\"}, \"bgcolor\": \"#E5ECF6\", \"radialaxis\": {\"gridcolor\": \"white\", \"linecolor\": \"white\", \"ticks\": \"\"}}, \"scene\": {\"xaxis\": {\"backgroundcolor\": \"#E5ECF6\", \"gridcolor\": \"white\", \"gridwidth\": 2, \"linecolor\": \"white\", \"showbackground\": true, \"ticks\": \"\", \"zerolinecolor\": \"white\"}, \"yaxis\": {\"backgroundcolor\": \"#E5ECF6\", \"gridcolor\": \"white\", \"gridwidth\": 2, \"linecolor\": \"white\", \"showbackground\": true, \"ticks\": \"\", \"zerolinecolor\": \"white\"}, \"zaxis\": {\"backgroundcolor\": \"#E5ECF6\", \"gridcolor\": \"white\", \"gridwidth\": 2, \"linecolor\": \"white\", \"showbackground\": true, \"ticks\": \"\", \"zerolinecolor\": \"white\"}}, \"shapedefaults\": {\"line\": {\"color\": \"#2a3f5f\"}}, \"ternary\": {\"aaxis\": {\"gridcolor\": \"white\", \"linecolor\": \"white\", \"ticks\": \"\"}, \"baxis\": {\"gridcolor\": \"white\", \"linecolor\": \"white\", \"ticks\": \"\"}, \"bgcolor\": \"#E5ECF6\", \"caxis\": {\"gridcolor\": \"white\", \"linecolor\": \"white\", \"ticks\": \"\"}}, \"title\": {\"x\": 0.05}, \"xaxis\": {\"automargin\": true, \"gridcolor\": \"white\", \"linecolor\": \"white\", \"ticks\": \"\", \"title\": {\"standoff\": 15}, \"zerolinecolor\": \"white\", \"zerolinewidth\": 2}, \"yaxis\": {\"automargin\": true, \"gridcolor\": \"white\", \"linecolor\": \"white\", \"ticks\": \"\", \"title\": {\"standoff\": 15}, \"zerolinecolor\": \"white\", \"zerolinewidth\": 2}}}},\n",
       "                        {\"responsive\": true}\n",
       "                    ).then(function(){\n",
       "                            \n",
       "var gd = document.getElementById('17aef760-dfca-495e-95b6-ae8fbc7310b7');\n",
       "var x = new MutationObserver(function (mutations, observer) {{\n",
       "        var display = window.getComputedStyle(gd).display;\n",
       "        if (!display || display === 'none') {{\n",
       "            console.log([gd, 'removed!']);\n",
       "            Plotly.purge(gd);\n",
       "            observer.disconnect();\n",
       "        }}\n",
       "}});\n",
       "\n",
       "// Listen for the removal of the full notebook cells\n",
       "var notebookContainer = gd.closest('#notebook-container');\n",
       "if (notebookContainer) {{\n",
       "    x.observe(notebookContainer, {childList: true});\n",
       "}}\n",
       "\n",
       "// Listen for the clearing of the current output cell\n",
       "var outputEl = gd.closest('.output');\n",
       "if (outputEl) {{\n",
       "    x.observe(outputEl, {childList: true});\n",
       "}}\n",
       "\n",
       "                        })\n",
       "                };\n",
       "                });\n",
       "            </script>\n",
       "        </div>"
      ]
     },
     "metadata": {},
     "output_type": "display_data"
    }
   ],
   "source": [
    "import plotly.graph_objects as go\n",
    "fig = go.Figure()\n",
    "fig.add_trace(go.Scatter(x=tweets.Date, y=tweets.polarity,\n",
    "                    mode='markers+lines'))\n",
    "fig.show()"
   ]
  },
  {
   "cell_type": "code",
   "execution_count": 13,
   "metadata": {},
   "outputs": [],
   "source": [
    "# api_link = 'https://api.coindesk.com/v1/bpi/historical/low_close.json'\n",
    "# priceList = []\n",
    "# days = []\n",
    "# response = requests.get(api_link).json()\n",
    "# for i in range(1, len(response[\"bpi\"])+1):\n",
    "#     dateInput = (date.today()-timedelta(days=i))\n",
    "#     data = response[\"bpi\"][str(dateInput)]\n",
    "#     priceList.append(data)\n",
    "#     days.append(str(dateInput))"
   ]
  },
  {
   "cell_type": "code",
   "execution_count": 14,
   "metadata": {},
   "outputs": [],
   "source": [
    "# df = pd.DataFrame()\n",
    "# df['Date'] = days\n",
    "# df['Price'] = priceList\n",
    "# df['Date'] = pd.to_datetime(df.Date)\n",
    "# df.head()"
   ]
  },
  {
   "cell_type": "code",
   "execution_count": 15,
   "metadata": {},
   "outputs": [
    {
     "data": {
      "text/html": [
       "<div>\n",
       "<style scoped>\n",
       "    .dataframe tbody tr th:only-of-type {\n",
       "        vertical-align: middle;\n",
       "    }\n",
       "\n",
       "    .dataframe tbody tr th {\n",
       "        vertical-align: top;\n",
       "    }\n",
       "\n",
       "    .dataframe thead th {\n",
       "        text-align: right;\n",
       "    }\n",
       "</style>\n",
       "<table border=\"1\" class=\"dataframe\">\n",
       "  <thead>\n",
       "    <tr style=\"text-align: right;\">\n",
       "      <th></th>\n",
       "      <th>avg</th>\n",
       "      <th>max</th>\n",
       "      <th>min</th>\n",
       "    </tr>\n",
       "    <tr>\n",
       "      <th>Time</th>\n",
       "      <th></th>\n",
       "      <th></th>\n",
       "      <th></th>\n",
       "    </tr>\n",
       "  </thead>\n",
       "  <tbody>\n",
       "    <tr>\n",
       "      <th>2020-06-01 03:00:00+00:00</th>\n",
       "      <td>9537.243070</td>\n",
       "      <td>9554.48</td>\n",
       "      <td>9510.04</td>\n",
       "    </tr>\n",
       "    <tr>\n",
       "      <th>2020-06-01 04:00:00+00:00</th>\n",
       "      <td>9565.817577</td>\n",
       "      <td>9615.00</td>\n",
       "      <td>9539.49</td>\n",
       "    </tr>\n",
       "    <tr>\n",
       "      <th>2020-06-01 05:00:00+00:00</th>\n",
       "      <td>9542.709558</td>\n",
       "      <td>9563.12</td>\n",
       "      <td>9526.39</td>\n",
       "    </tr>\n",
       "    <tr>\n",
       "      <th>2020-06-01 06:00:00+00:00</th>\n",
       "      <td>9541.966639</td>\n",
       "      <td>9557.80</td>\n",
       "      <td>9526.55</td>\n",
       "    </tr>\n",
       "    <tr>\n",
       "      <th>2020-06-01 07:00:00+00:00</th>\n",
       "      <td>9559.492843</td>\n",
       "      <td>9577.70</td>\n",
       "      <td>9530.92</td>\n",
       "    </tr>\n",
       "  </tbody>\n",
       "</table>\n",
       "</div>"
      ],
      "text/plain": [
       "                                   avg      max      min\n",
       "Time                                                    \n",
       "2020-06-01 03:00:00+00:00  9537.243070  9554.48  9510.04\n",
       "2020-06-01 04:00:00+00:00  9565.817577  9615.00  9539.49\n",
       "2020-06-01 05:00:00+00:00  9542.709558  9563.12  9526.39\n",
       "2020-06-01 06:00:00+00:00  9541.966639  9557.80  9526.55\n",
       "2020-06-01 07:00:00+00:00  9559.492843  9577.70  9530.92"
      ]
     },
     "execution_count": 15,
     "metadata": {},
     "output_type": "execute_result"
    }
   ],
   "source": [
    "df = pd.read_csv('http://data.bitcoinity.org/export_data.csv?currency=USD&data_type=price&exchange=coinbase&r=hour&t=l&timespan=30d',\n",
    "                 parse_dates=['Time'])\n",
    "df.set_index('Time', inplace=True)\n",
    "df.head()"
   ]
  },
  {
   "cell_type": "code",
   "execution_count": 106,
   "metadata": {
    "scrolled": false
   },
   "outputs": [
    {
     "data": {
      "text/html": [
       "<div>\n",
       "<style scoped>\n",
       "    .dataframe tbody tr th:only-of-type {\n",
       "        vertical-align: middle;\n",
       "    }\n",
       "\n",
       "    .dataframe tbody tr th {\n",
       "        vertical-align: top;\n",
       "    }\n",
       "\n",
       "    .dataframe thead th {\n",
       "        text-align: right;\n",
       "    }\n",
       "</style>\n",
       "<table border=\"1\" class=\"dataframe\">\n",
       "  <thead>\n",
       "    <tr style=\"text-align: right;\">\n",
       "      <th></th>\n",
       "      <th>ds</th>\n",
       "      <th>y</th>\n",
       "    </tr>\n",
       "  </thead>\n",
       "  <tbody>\n",
       "    <tr>\n",
       "      <th>0</th>\n",
       "      <td>2020-06-01 03:00:00+00:00</td>\n",
       "      <td>9537.243070</td>\n",
       "    </tr>\n",
       "    <tr>\n",
       "      <th>1</th>\n",
       "      <td>2020-06-01 04:00:00+00:00</td>\n",
       "      <td>9565.817577</td>\n",
       "    </tr>\n",
       "    <tr>\n",
       "      <th>2</th>\n",
       "      <td>2020-06-01 05:00:00+00:00</td>\n",
       "      <td>9542.709558</td>\n",
       "    </tr>\n",
       "    <tr>\n",
       "      <th>3</th>\n",
       "      <td>2020-06-01 06:00:00+00:00</td>\n",
       "      <td>9541.966639</td>\n",
       "    </tr>\n",
       "    <tr>\n",
       "      <th>4</th>\n",
       "      <td>2020-06-01 07:00:00+00:00</td>\n",
       "      <td>9559.492843</td>\n",
       "    </tr>\n",
       "  </tbody>\n",
       "</table>\n",
       "</div>"
      ],
      "text/plain": [
       "                         ds            y\n",
       "0 2020-06-01 03:00:00+00:00  9537.243070\n",
       "1 2020-06-01 04:00:00+00:00  9565.817577\n",
       "2 2020-06-01 05:00:00+00:00  9542.709558\n",
       "3 2020-06-01 06:00:00+00:00  9541.966639\n",
       "4 2020-06-01 07:00:00+00:00  9559.492843"
      ]
     },
     "execution_count": 106,
     "metadata": {},
     "output_type": "execute_result"
    }
   ],
   "source": [
    "df['ds'] = df.index\n",
    "df['y'] = df['avg']\n",
    "forecast_data = df[['ds', 'y']].copy()\n",
    "forecast_data.reset_index(inplace=True)\n",
    "del forecast_data['Time']\n",
    "forecast_data.head()"
   ]
  },
  {
   "cell_type": "code",
   "execution_count": 110,
   "metadata": {},
   "outputs": [
    {
     "data": {
      "application/vnd.plotly.v1+json": {
       "config": {
        "plotlyServerURL": "https://plot.ly"
       },
       "data": [
        {
         "hovertemplate": "ds=%{x}<br>y=%{y}<extra></extra>",
         "legendgroup": "",
         "line": {
          "color": "#636efa",
          "dash": "solid"
         },
         "mode": "lines",
         "name": "",
         "orientation": "v",
         "showlegend": false,
         "type": "scatter",
         "x": [
          "2020-06-01T03:00:00",
          "2020-06-01T04:00:00",
          "2020-06-01T05:00:00",
          "2020-06-01T06:00:00",
          "2020-06-01T07:00:00",
          "2020-06-01T08:00:00",
          "2020-06-01T09:00:00",
          "2020-06-01T10:00:00",
          "2020-06-01T11:00:00",
          "2020-06-01T12:00:00",
          "2020-06-01T13:00:00",
          "2020-06-01T14:00:00",
          "2020-06-01T15:00:00",
          "2020-06-01T16:00:00",
          "2020-06-01T17:00:00",
          "2020-06-01T18:00:00",
          "2020-06-01T19:00:00",
          "2020-06-01T20:00:00",
          "2020-06-01T21:00:00",
          "2020-06-01T22:00:00",
          "2020-06-01T23:00:00",
          "2020-06-02T00:00:00",
          "2020-06-02T01:00:00",
          "2020-06-02T02:00:00",
          "2020-06-02T03:00:00",
          "2020-06-02T04:00:00",
          "2020-06-02T05:00:00",
          "2020-06-02T06:00:00",
          "2020-06-02T07:00:00",
          "2020-06-02T08:00:00",
          "2020-06-02T09:00:00",
          "2020-06-02T10:00:00",
          "2020-06-02T11:00:00",
          "2020-06-02T12:00:00",
          "2020-06-02T13:00:00",
          "2020-06-02T14:00:00",
          "2020-06-02T15:00:00",
          "2020-06-02T16:00:00",
          "2020-06-02T17:00:00",
          "2020-06-02T18:00:00",
          "2020-06-02T19:00:00",
          "2020-06-02T20:00:00",
          "2020-06-02T21:00:00",
          "2020-06-02T22:00:00",
          "2020-06-02T23:00:00",
          "2020-06-03T00:00:00",
          "2020-06-03T01:00:00",
          "2020-06-03T02:00:00",
          "2020-06-03T03:00:00",
          "2020-06-03T04:00:00",
          "2020-06-03T05:00:00",
          "2020-06-03T06:00:00",
          "2020-06-03T07:00:00",
          "2020-06-03T08:00:00",
          "2020-06-03T09:00:00",
          "2020-06-03T10:00:00",
          "2020-06-03T11:00:00",
          "2020-06-03T12:00:00",
          "2020-06-03T13:00:00",
          "2020-06-03T14:00:00",
          "2020-06-03T15:00:00",
          "2020-06-03T16:00:00",
          "2020-06-03T17:00:00",
          "2020-06-03T18:00:00",
          "2020-06-03T19:00:00",
          "2020-06-03T20:00:00",
          "2020-06-03T21:00:00",
          "2020-06-03T22:00:00",
          "2020-06-03T23:00:00",
          "2020-06-04T00:00:00",
          "2020-06-04T01:00:00",
          "2020-06-04T02:00:00",
          "2020-06-04T03:00:00",
          "2020-06-04T04:00:00",
          "2020-06-04T05:00:00",
          "2020-06-04T06:00:00",
          "2020-06-04T07:00:00",
          "2020-06-04T08:00:00",
          "2020-06-04T09:00:00",
          "2020-06-04T10:00:00",
          "2020-06-04T11:00:00",
          "2020-06-04T12:00:00",
          "2020-06-04T13:00:00",
          "2020-06-04T14:00:00",
          "2020-06-04T15:00:00",
          "2020-06-04T16:00:00",
          "2020-06-04T17:00:00",
          "2020-06-04T18:00:00",
          "2020-06-04T19:00:00",
          "2020-06-04T20:00:00",
          "2020-06-04T21:00:00",
          "2020-06-04T22:00:00",
          "2020-06-04T23:00:00",
          "2020-06-05T00:00:00",
          "2020-06-05T01:00:00",
          "2020-06-05T02:00:00",
          "2020-06-05T03:00:00",
          "2020-06-05T04:00:00",
          "2020-06-05T05:00:00",
          "2020-06-05T06:00:00",
          "2020-06-05T07:00:00",
          "2020-06-05T08:00:00",
          "2020-06-05T09:00:00",
          "2020-06-05T10:00:00",
          "2020-06-05T11:00:00",
          "2020-06-05T12:00:00",
          "2020-06-05T13:00:00",
          "2020-06-05T14:00:00",
          "2020-06-05T15:00:00",
          "2020-06-05T16:00:00",
          "2020-06-05T17:00:00",
          "2020-06-05T18:00:00",
          "2020-06-05T19:00:00",
          "2020-06-05T20:00:00",
          "2020-06-05T21:00:00",
          "2020-06-05T22:00:00",
          "2020-06-05T23:00:00",
          "2020-06-06T00:00:00",
          "2020-06-06T01:00:00",
          "2020-06-06T02:00:00",
          "2020-06-06T03:00:00",
          "2020-06-06T04:00:00",
          "2020-06-06T05:00:00",
          "2020-06-06T06:00:00",
          "2020-06-06T07:00:00",
          "2020-06-06T08:00:00",
          "2020-06-06T09:00:00",
          "2020-06-06T10:00:00",
          "2020-06-06T11:00:00",
          "2020-06-06T12:00:00",
          "2020-06-06T13:00:00",
          "2020-06-06T14:00:00",
          "2020-06-06T15:00:00",
          "2020-06-06T16:00:00",
          "2020-06-06T17:00:00",
          "2020-06-06T18:00:00",
          "2020-06-06T19:00:00",
          "2020-06-06T20:00:00",
          "2020-06-06T21:00:00",
          "2020-06-06T22:00:00",
          "2020-06-06T23:00:00",
          "2020-06-07T00:00:00",
          "2020-06-07T01:00:00",
          "2020-06-07T02:00:00",
          "2020-06-07T03:00:00",
          "2020-06-07T04:00:00",
          "2020-06-07T05:00:00",
          "2020-06-07T06:00:00",
          "2020-06-07T07:00:00",
          "2020-06-07T08:00:00",
          "2020-06-07T09:00:00",
          "2020-06-07T10:00:00",
          "2020-06-07T11:00:00",
          "2020-06-07T12:00:00",
          "2020-06-07T13:00:00",
          "2020-06-07T14:00:00",
          "2020-06-07T15:00:00",
          "2020-06-07T16:00:00",
          "2020-06-07T17:00:00",
          "2020-06-07T18:00:00",
          "2020-06-07T19:00:00",
          "2020-06-07T20:00:00",
          "2020-06-07T21:00:00",
          "2020-06-07T22:00:00",
          "2020-06-07T23:00:00",
          "2020-06-08T00:00:00",
          "2020-06-08T01:00:00",
          "2020-06-08T02:00:00",
          "2020-06-08T03:00:00",
          "2020-06-08T04:00:00",
          "2020-06-08T05:00:00",
          "2020-06-08T06:00:00",
          "2020-06-08T07:00:00",
          "2020-06-08T08:00:00",
          "2020-06-08T09:00:00",
          "2020-06-08T10:00:00",
          "2020-06-08T11:00:00",
          "2020-06-08T12:00:00",
          "2020-06-08T13:00:00",
          "2020-06-08T14:00:00",
          "2020-06-08T15:00:00",
          "2020-06-08T16:00:00",
          "2020-06-08T17:00:00",
          "2020-06-08T18:00:00",
          "2020-06-08T19:00:00",
          "2020-06-08T20:00:00",
          "2020-06-08T21:00:00",
          "2020-06-08T22:00:00",
          "2020-06-08T23:00:00",
          "2020-06-09T00:00:00",
          "2020-06-09T01:00:00",
          "2020-06-09T02:00:00",
          "2020-06-09T03:00:00",
          "2020-06-09T04:00:00",
          "2020-06-09T05:00:00",
          "2020-06-09T06:00:00",
          "2020-06-09T07:00:00",
          "2020-06-09T08:00:00",
          "2020-06-09T09:00:00",
          "2020-06-09T10:00:00",
          "2020-06-09T11:00:00",
          "2020-06-09T12:00:00",
          "2020-06-09T13:00:00",
          "2020-06-09T14:00:00",
          "2020-06-09T15:00:00",
          "2020-06-09T16:00:00",
          "2020-06-09T17:00:00",
          "2020-06-09T18:00:00",
          "2020-06-09T19:00:00",
          "2020-06-09T20:00:00",
          "2020-06-09T21:00:00",
          "2020-06-09T22:00:00",
          "2020-06-09T23:00:00",
          "2020-06-10T00:00:00",
          "2020-06-10T01:00:00",
          "2020-06-10T02:00:00",
          "2020-06-10T03:00:00",
          "2020-06-10T04:00:00",
          "2020-06-10T05:00:00",
          "2020-06-10T06:00:00",
          "2020-06-10T07:00:00",
          "2020-06-10T08:00:00",
          "2020-06-10T09:00:00",
          "2020-06-10T10:00:00",
          "2020-06-10T11:00:00",
          "2020-06-10T12:00:00",
          "2020-06-10T13:00:00",
          "2020-06-10T14:00:00",
          "2020-06-10T15:00:00",
          "2020-06-10T16:00:00",
          "2020-06-10T17:00:00",
          "2020-06-10T18:00:00",
          "2020-06-10T19:00:00",
          "2020-06-10T20:00:00",
          "2020-06-10T21:00:00",
          "2020-06-10T22:00:00",
          "2020-06-10T23:00:00",
          "2020-06-11T00:00:00",
          "2020-06-11T01:00:00",
          "2020-06-11T02:00:00",
          "2020-06-11T03:00:00",
          "2020-06-11T04:00:00",
          "2020-06-11T05:00:00",
          "2020-06-11T06:00:00",
          "2020-06-11T07:00:00",
          "2020-06-11T08:00:00",
          "2020-06-11T09:00:00",
          "2020-06-11T10:00:00",
          "2020-06-11T11:00:00",
          "2020-06-11T12:00:00",
          "2020-06-11T13:00:00",
          "2020-06-11T14:00:00",
          "2020-06-11T15:00:00",
          "2020-06-11T16:00:00",
          "2020-06-11T17:00:00",
          "2020-06-11T18:00:00",
          "2020-06-11T19:00:00",
          "2020-06-11T20:00:00",
          "2020-06-11T21:00:00",
          "2020-06-11T22:00:00",
          "2020-06-11T23:00:00",
          "2020-06-12T00:00:00",
          "2020-06-12T01:00:00",
          "2020-06-12T02:00:00",
          "2020-06-12T03:00:00",
          "2020-06-12T04:00:00",
          "2020-06-12T05:00:00",
          "2020-06-12T06:00:00",
          "2020-06-12T07:00:00",
          "2020-06-12T08:00:00",
          "2020-06-12T09:00:00",
          "2020-06-12T10:00:00",
          "2020-06-12T11:00:00",
          "2020-06-12T12:00:00",
          "2020-06-12T13:00:00",
          "2020-06-12T14:00:00",
          "2020-06-12T15:00:00",
          "2020-06-12T16:00:00",
          "2020-06-12T17:00:00",
          "2020-06-12T18:00:00",
          "2020-06-12T19:00:00",
          "2020-06-12T20:00:00",
          "2020-06-12T21:00:00",
          "2020-06-12T22:00:00",
          "2020-06-12T23:00:00",
          "2020-06-13T00:00:00",
          "2020-06-13T01:00:00",
          "2020-06-13T02:00:00",
          "2020-06-13T03:00:00",
          "2020-06-13T04:00:00",
          "2020-06-13T05:00:00",
          "2020-06-13T06:00:00",
          "2020-06-13T07:00:00",
          "2020-06-13T08:00:00",
          "2020-06-13T09:00:00",
          "2020-06-13T10:00:00",
          "2020-06-13T11:00:00",
          "2020-06-13T12:00:00",
          "2020-06-13T13:00:00",
          "2020-06-13T14:00:00",
          "2020-06-13T15:00:00",
          "2020-06-13T16:00:00",
          "2020-06-13T17:00:00",
          "2020-06-13T18:00:00",
          "2020-06-13T19:00:00",
          "2020-06-13T20:00:00",
          "2020-06-13T21:00:00",
          "2020-06-13T22:00:00",
          "2020-06-13T23:00:00",
          "2020-06-14T00:00:00",
          "2020-06-14T01:00:00",
          "2020-06-14T02:00:00",
          "2020-06-14T03:00:00",
          "2020-06-14T04:00:00",
          "2020-06-14T05:00:00",
          "2020-06-14T06:00:00",
          "2020-06-14T07:00:00",
          "2020-06-14T08:00:00",
          "2020-06-14T09:00:00",
          "2020-06-14T10:00:00",
          "2020-06-14T11:00:00",
          "2020-06-14T12:00:00",
          "2020-06-14T13:00:00",
          "2020-06-14T14:00:00",
          "2020-06-14T15:00:00",
          "2020-06-14T16:00:00",
          "2020-06-14T17:00:00",
          "2020-06-14T18:00:00",
          "2020-06-14T19:00:00",
          "2020-06-14T20:00:00",
          "2020-06-14T21:00:00",
          "2020-06-14T22:00:00",
          "2020-06-14T23:00:00",
          "2020-06-15T00:00:00",
          "2020-06-15T01:00:00",
          "2020-06-15T02:00:00",
          "2020-06-15T03:00:00",
          "2020-06-15T04:00:00",
          "2020-06-15T05:00:00",
          "2020-06-15T06:00:00",
          "2020-06-15T07:00:00",
          "2020-06-15T08:00:00",
          "2020-06-15T09:00:00",
          "2020-06-15T10:00:00",
          "2020-06-15T11:00:00",
          "2020-06-15T12:00:00",
          "2020-06-15T13:00:00",
          "2020-06-15T14:00:00",
          "2020-06-15T15:00:00",
          "2020-06-15T16:00:00",
          "2020-06-15T17:00:00",
          "2020-06-15T18:00:00",
          "2020-06-15T19:00:00",
          "2020-06-15T20:00:00",
          "2020-06-15T21:00:00",
          "2020-06-15T22:00:00",
          "2020-06-15T23:00:00",
          "2020-06-16T00:00:00",
          "2020-06-16T01:00:00",
          "2020-06-16T02:00:00",
          "2020-06-16T03:00:00",
          "2020-06-16T04:00:00",
          "2020-06-16T05:00:00",
          "2020-06-16T06:00:00",
          "2020-06-16T07:00:00",
          "2020-06-16T08:00:00",
          "2020-06-16T09:00:00",
          "2020-06-16T10:00:00",
          "2020-06-16T11:00:00",
          "2020-06-16T12:00:00",
          "2020-06-16T13:00:00",
          "2020-06-16T14:00:00",
          "2020-06-16T15:00:00",
          "2020-06-16T16:00:00",
          "2020-06-16T17:00:00",
          "2020-06-16T18:00:00",
          "2020-06-16T19:00:00",
          "2020-06-16T20:00:00",
          "2020-06-16T21:00:00",
          "2020-06-16T22:00:00",
          "2020-06-16T23:00:00",
          "2020-06-17T00:00:00",
          "2020-06-17T01:00:00",
          "2020-06-17T02:00:00",
          "2020-06-17T03:00:00",
          "2020-06-17T04:00:00",
          "2020-06-17T05:00:00",
          "2020-06-17T06:00:00",
          "2020-06-17T07:00:00",
          "2020-06-17T08:00:00",
          "2020-06-17T09:00:00",
          "2020-06-17T10:00:00",
          "2020-06-17T11:00:00",
          "2020-06-17T12:00:00",
          "2020-06-17T13:00:00",
          "2020-06-17T14:00:00",
          "2020-06-17T15:00:00",
          "2020-06-17T16:00:00",
          "2020-06-17T17:00:00",
          "2020-06-17T18:00:00",
          "2020-06-17T19:00:00",
          "2020-06-17T20:00:00",
          "2020-06-17T21:00:00",
          "2020-06-17T22:00:00",
          "2020-06-17T23:00:00",
          "2020-06-18T00:00:00",
          "2020-06-18T01:00:00",
          "2020-06-18T02:00:00",
          "2020-06-18T03:00:00",
          "2020-06-18T04:00:00",
          "2020-06-18T05:00:00",
          "2020-06-18T06:00:00",
          "2020-06-18T07:00:00",
          "2020-06-18T08:00:00",
          "2020-06-18T09:00:00",
          "2020-06-18T10:00:00",
          "2020-06-18T11:00:00",
          "2020-06-18T12:00:00",
          "2020-06-18T13:00:00",
          "2020-06-18T14:00:00",
          "2020-06-18T15:00:00",
          "2020-06-18T16:00:00",
          "2020-06-18T17:00:00",
          "2020-06-18T18:00:00",
          "2020-06-18T19:00:00",
          "2020-06-18T20:00:00",
          "2020-06-18T21:00:00",
          "2020-06-18T22:00:00",
          "2020-06-18T23:00:00",
          "2020-06-19T00:00:00",
          "2020-06-19T01:00:00",
          "2020-06-19T02:00:00",
          "2020-06-19T03:00:00",
          "2020-06-19T04:00:00",
          "2020-06-19T05:00:00",
          "2020-06-19T06:00:00",
          "2020-06-19T07:00:00",
          "2020-06-19T08:00:00",
          "2020-06-19T09:00:00",
          "2020-06-19T10:00:00",
          "2020-06-19T11:00:00",
          "2020-06-19T12:00:00",
          "2020-06-19T13:00:00",
          "2020-06-19T14:00:00",
          "2020-06-19T15:00:00",
          "2020-06-19T16:00:00",
          "2020-06-19T17:00:00",
          "2020-06-19T18:00:00",
          "2020-06-19T19:00:00",
          "2020-06-19T20:00:00",
          "2020-06-19T21:00:00",
          "2020-06-19T22:00:00",
          "2020-06-19T23:00:00",
          "2020-06-20T00:00:00",
          "2020-06-20T01:00:00",
          "2020-06-20T02:00:00",
          "2020-06-20T03:00:00",
          "2020-06-20T04:00:00",
          "2020-06-20T05:00:00",
          "2020-06-20T06:00:00",
          "2020-06-20T07:00:00",
          "2020-06-20T08:00:00",
          "2020-06-20T09:00:00",
          "2020-06-20T10:00:00",
          "2020-06-20T11:00:00",
          "2020-06-20T12:00:00",
          "2020-06-20T13:00:00",
          "2020-06-20T14:00:00",
          "2020-06-20T15:00:00",
          "2020-06-20T16:00:00",
          "2020-06-20T17:00:00",
          "2020-06-20T18:00:00",
          "2020-06-20T19:00:00",
          "2020-06-20T20:00:00",
          "2020-06-20T21:00:00",
          "2020-06-20T22:00:00",
          "2020-06-20T23:00:00",
          "2020-06-21T00:00:00",
          "2020-06-21T01:00:00",
          "2020-06-21T02:00:00",
          "2020-06-21T03:00:00",
          "2020-06-21T04:00:00",
          "2020-06-21T05:00:00",
          "2020-06-21T06:00:00",
          "2020-06-21T07:00:00",
          "2020-06-21T08:00:00",
          "2020-06-21T09:00:00",
          "2020-06-21T10:00:00",
          "2020-06-21T11:00:00",
          "2020-06-21T12:00:00",
          "2020-06-21T13:00:00",
          "2020-06-21T14:00:00",
          "2020-06-21T15:00:00",
          "2020-06-21T16:00:00",
          "2020-06-21T17:00:00",
          "2020-06-21T18:00:00",
          "2020-06-21T19:00:00",
          "2020-06-21T20:00:00",
          "2020-06-21T21:00:00",
          "2020-06-21T22:00:00",
          "2020-06-21T23:00:00",
          "2020-06-22T00:00:00",
          "2020-06-22T01:00:00",
          "2020-06-22T02:00:00",
          "2020-06-22T03:00:00",
          "2020-06-22T04:00:00",
          "2020-06-22T05:00:00",
          "2020-06-22T06:00:00",
          "2020-06-22T07:00:00",
          "2020-06-22T08:00:00",
          "2020-06-22T09:00:00",
          "2020-06-22T10:00:00",
          "2020-06-22T11:00:00",
          "2020-06-22T12:00:00",
          "2020-06-22T13:00:00",
          "2020-06-22T14:00:00",
          "2020-06-22T15:00:00",
          "2020-06-22T16:00:00",
          "2020-06-22T17:00:00",
          "2020-06-22T18:00:00",
          "2020-06-22T19:00:00",
          "2020-06-22T20:00:00",
          "2020-06-22T21:00:00",
          "2020-06-22T22:00:00",
          "2020-06-22T23:00:00",
          "2020-06-23T00:00:00",
          "2020-06-23T01:00:00",
          "2020-06-23T02:00:00",
          "2020-06-23T03:00:00",
          "2020-06-23T04:00:00",
          "2020-06-23T05:00:00",
          "2020-06-23T06:00:00",
          "2020-06-23T07:00:00",
          "2020-06-23T08:00:00",
          "2020-06-23T09:00:00",
          "2020-06-23T10:00:00",
          "2020-06-23T11:00:00",
          "2020-06-23T12:00:00",
          "2020-06-23T13:00:00",
          "2020-06-23T14:00:00",
          "2020-06-23T15:00:00",
          "2020-06-23T16:00:00",
          "2020-06-23T17:00:00",
          "2020-06-23T18:00:00",
          "2020-06-23T19:00:00",
          "2020-06-23T20:00:00",
          "2020-06-23T21:00:00",
          "2020-06-23T22:00:00",
          "2020-06-23T23:00:00",
          "2020-06-24T00:00:00",
          "2020-06-24T01:00:00",
          "2020-06-24T02:00:00",
          "2020-06-24T03:00:00",
          "2020-06-24T04:00:00",
          "2020-06-24T05:00:00",
          "2020-06-24T06:00:00",
          "2020-06-24T07:00:00",
          "2020-06-24T08:00:00",
          "2020-06-24T09:00:00",
          "2020-06-24T10:00:00",
          "2020-06-24T11:00:00",
          "2020-06-24T12:00:00",
          "2020-06-24T13:00:00",
          "2020-06-24T14:00:00",
          "2020-06-24T15:00:00",
          "2020-06-24T16:00:00",
          "2020-06-24T17:00:00",
          "2020-06-24T18:00:00",
          "2020-06-24T19:00:00",
          "2020-06-24T20:00:00",
          "2020-06-24T21:00:00",
          "2020-06-24T22:00:00",
          "2020-06-24T23:00:00",
          "2020-06-25T00:00:00",
          "2020-06-25T01:00:00",
          "2020-06-25T02:00:00",
          "2020-06-25T03:00:00",
          "2020-06-25T04:00:00",
          "2020-06-25T05:00:00",
          "2020-06-25T06:00:00",
          "2020-06-25T07:00:00",
          "2020-06-25T08:00:00",
          "2020-06-25T09:00:00",
          "2020-06-25T10:00:00",
          "2020-06-25T11:00:00",
          "2020-06-25T12:00:00",
          "2020-06-25T13:00:00",
          "2020-06-25T14:00:00",
          "2020-06-25T15:00:00",
          "2020-06-25T16:00:00",
          "2020-06-25T17:00:00",
          "2020-06-25T18:00:00",
          "2020-06-25T19:00:00",
          "2020-06-25T20:00:00",
          "2020-06-25T21:00:00",
          "2020-06-25T22:00:00",
          "2020-06-25T23:00:00",
          "2020-06-26T00:00:00",
          "2020-06-26T01:00:00",
          "2020-06-26T02:00:00",
          "2020-06-26T03:00:00",
          "2020-06-26T04:00:00",
          "2020-06-26T05:00:00",
          "2020-06-26T06:00:00",
          "2020-06-26T07:00:00",
          "2020-06-26T08:00:00",
          "2020-06-26T09:00:00",
          "2020-06-26T10:00:00",
          "2020-06-26T11:00:00",
          "2020-06-26T12:00:00",
          "2020-06-26T13:00:00",
          "2020-06-26T14:00:00",
          "2020-06-26T15:00:00",
          "2020-06-26T16:00:00",
          "2020-06-26T17:00:00",
          "2020-06-26T18:00:00",
          "2020-06-26T19:00:00",
          "2020-06-26T20:00:00",
          "2020-06-26T21:00:00",
          "2020-06-26T22:00:00",
          "2020-06-26T23:00:00",
          "2020-06-27T00:00:00",
          "2020-06-27T01:00:00",
          "2020-06-27T02:00:00",
          "2020-06-27T03:00:00",
          "2020-06-27T04:00:00",
          "2020-06-27T05:00:00",
          "2020-06-27T06:00:00",
          "2020-06-27T07:00:00",
          "2020-06-27T08:00:00",
          "2020-06-27T09:00:00",
          "2020-06-27T10:00:00",
          "2020-06-27T11:00:00",
          "2020-06-27T12:00:00",
          "2020-06-27T13:00:00",
          "2020-06-27T14:00:00",
          "2020-06-27T15:00:00",
          "2020-06-27T16:00:00",
          "2020-06-27T17:00:00",
          "2020-06-27T18:00:00",
          "2020-06-27T19:00:00",
          "2020-06-27T20:00:00",
          "2020-06-27T21:00:00",
          "2020-06-27T22:00:00",
          "2020-06-27T23:00:00",
          "2020-06-28T00:00:00",
          "2020-06-28T01:00:00",
          "2020-06-28T02:00:00",
          "2020-06-28T03:00:00",
          "2020-06-28T04:00:00",
          "2020-06-28T05:00:00",
          "2020-06-28T06:00:00",
          "2020-06-28T07:00:00",
          "2020-06-28T08:00:00",
          "2020-06-28T09:00:00",
          "2020-06-28T10:00:00",
          "2020-06-28T11:00:00",
          "2020-06-28T12:00:00",
          "2020-06-28T13:00:00",
          "2020-06-28T14:00:00",
          "2020-06-28T15:00:00",
          "2020-06-28T16:00:00",
          "2020-06-28T17:00:00",
          "2020-06-28T18:00:00",
          "2020-06-28T19:00:00",
          "2020-06-28T20:00:00",
          "2020-06-28T21:00:00",
          "2020-06-28T22:00:00",
          "2020-06-28T23:00:00",
          "2020-06-29T00:00:00",
          "2020-06-29T01:00:00",
          "2020-06-29T02:00:00",
          "2020-06-29T03:00:00",
          "2020-06-29T04:00:00",
          "2020-06-29T05:00:00",
          "2020-06-29T06:00:00",
          "2020-06-29T07:00:00",
          "2020-06-29T08:00:00",
          "2020-06-29T09:00:00",
          "2020-06-29T10:00:00",
          "2020-06-29T11:00:00",
          "2020-06-29T12:00:00",
          "2020-06-29T13:00:00",
          "2020-06-29T14:00:00",
          "2020-06-29T15:00:00",
          "2020-06-29T16:00:00",
          "2020-06-29T17:00:00",
          "2020-06-29T18:00:00",
          "2020-06-29T19:00:00",
          "2020-06-29T20:00:00",
          "2020-06-29T21:00:00",
          "2020-06-29T22:00:00",
          "2020-06-29T23:00:00",
          "2020-06-30T00:00:00",
          "2020-06-30T01:00:00",
          "2020-06-30T02:00:00",
          "2020-06-30T03:00:00",
          "2020-06-30T04:00:00",
          "2020-06-30T05:00:00",
          "2020-06-30T06:00:00",
          "2020-06-30T07:00:00",
          "2020-06-30T08:00:00",
          "2020-06-30T09:00:00",
          "2020-06-30T10:00:00",
          "2020-06-30T11:00:00",
          "2020-06-30T12:00:00",
          "2020-06-30T13:00:00",
          "2020-06-30T14:00:00",
          "2020-06-30T15:00:00",
          "2020-06-30T16:00:00",
          "2020-06-30T17:00:00",
          "2020-06-30T18:00:00",
          "2020-06-30T19:00:00",
          "2020-06-30T20:00:00",
          "2020-06-30T21:00:00",
          "2020-06-30T22:00:00",
          "2020-06-30T23:00:00",
          "2020-07-01T00:00:00",
          "2020-07-01T01:00:00"
         ],
         "xaxis": "x",
         "y": [
          9537.24307021188,
          9565.81757694462,
          9542.70955833333,
          9541.96663920922,
          9559.49284293308,
          9552.39086340923,
          9538.9116956162,
          9528.58516925245,
          9522.31303407604,
          9545.38410415859,
          9557.15833533416,
          9560.9013160486,
          9526.83817186386,
          9575.21080308527,
          9578.96036159222,
          9576.30943885333,
          9589.88240152857,
          9626.073491920959,
          9666.99208341201,
          9707.911949856229,
          10126.9468173023,
          10175.5602837263,
          10101.462299692299,
          10100.6124418398,
          10071.2600564516,
          10092.4642437797,
          10093.167931763299,
          10101.4592680922,
          10104.3493024523,
          10123.4332568211,
          10109.2096903461,
          10114.3584113015,
          10104.9325860882,
          10114.716256765,
          10154.2075686448,
          9671.5242290937,
          9472.25070654473,
          9470.37539863635,
          9495.14539545803,
          9523.34969024703,
          9520.530840708001,
          9497.034624407259,
          9531.82563640976,
          9514.03977232922,
          9502.44542802024,
          9520.90646740596,
          9507.14041265062,
          9495.409187741841,
          9489.29150892553,
          9498.87368939395,
          9471.274918504309,
          9513.76635243702,
          9508.74381632656,
          9516.321696369641,
          9522.557846430742,
          9579.1869222973,
          9591.2174578867,
          9605.926720966942,
          9596.858194370709,
          9556.08759268061,
          9565.052227330749,
          9565.115481228571,
          9566.24234778368,
          9575.9891263537,
          9587.01110460679,
          9573.13895507506,
          9583.5458009921,
          9584.33016508708,
          9637.75990196077,
          9640.94289404937,
          9654.501546361558,
          9668.847365537891,
          9674.467655594979,
          9656.65581432577,
          9644.37058359618,
          9639.96587421387,
          9654.22257607925,
          9633.171660461641,
          9560.17662887629,
          9535.198043382059,
          9550.58744091974,
          9643.369340701222,
          9731.35379804449,
          9751.84756179307,
          9768.02246413504,
          9796.16477816844,
          9798.26185651835,
          9827.015543771071,
          9795.59634727505,
          9781.592079772121,
          9763.30094559583,
          9794.014572499449,
          9820.49607479222,
          9793.387141912059,
          9820.9208151156,
          9809.54374050847,
          9798.01987695376,
          9794.05566045379,
          9790.82979743081,
          9772.056561163421,
          9774.2602997416,
          9763.57589688761,
          9822.00013726835,
          9733.24131639725,
          9678.2262813059,
          9675.08394148428,
          9681.852925005409,
          9698.53062499998,
          9681.20210462876,
          9714.922794830329,
          9733.3946685509,
          9735.78278635468,
          9725.98509448041,
          9706.26239878299,
          9688.13206976756,
          9660.55566309912,
          9652.45120083355,
          9573.151207799341,
          9584.83756851313,
          9577.872137327471,
          9594.438473615359,
          9613.82862311559,
          9605.06884688992,
          9612.608187619659,
          9612.844494720981,
          9591.77435878426,
          9662.671495085351,
          9671.479542190309,
          9677.35081366965,
          9689.59209513025,
          9656.09582590454,
          9659.8361812922,
          9645.631085085892,
          9639.6869515571,
          9604.90766045548,
          9620.96706422024,
          9637.84111356931,
          9676.34146426092,
          9698.70839536302,
          9667.538762160359,
          9663.46197828708,
          9654.04474041532,
          9665.17844086019,
          9685.85376793769,
          9682.29353400736,
          9692.0557491289,
          9672.10999410032,
          9662.59481683555,
          9660.50239114391,
          9618.2711085714,
          9639.61239613525,
          9620.35167644592,
          9597.80264835165,
          9526.49448743126,
          9480.71612512124,
          9452.29772648223,
          9479.77411868402,
          9475.477274902809,
          9483.05669680699,
          9525.00955020074,
          9662.819883875649,
          9743.967250339641,
          9715.29928443002,
          9747.543493150692,
          9752.79614579438,
          9762.09058285326,
          9758.577950018109,
          9735.41981972431,
          9722.004964132,
          9748.014915184129,
          9739.49603061783,
          9734.29963573883,
          9731.287539267008,
          9685.64042040815,
          9753.4218073416,
          9744.98693528695,
          9736.062392982429,
          9737.20951578945,
          9710.05363489504,
          9684.35746853553,
          9684.980136882159,
          9686.05029645317,
          9724.311234185441,
          9721.85995625005,
          9701.752923773969,
          9708.109456832472,
          9698.77393566505,
          9713.949883790241,
          9755.157274320809,
          9734.494064935021,
          9705.41291473891,
          9705.486763392879,
          9685.49439888427,
          9677.59881574239,
          9689.25746530714,
          9690.50893401016,
          9692.90886283705,
          9679.69544690602,
          9668.14273678093,
          9662.33933333334,
          9686.869955,
          9733.05135135137,
          9712.838636216371,
          9706.14046149492,
          9721.445385232759,
          9711.39225988693,
          9711.33946546255,
          9710.21122060133,
          9711.94173544379,
          9737.62174035487,
          9784.581926796829,
          9778.948406072092,
          9776.891832298059,
          9779.44737081341,
          9801.12809141739,
          9778.15422027618,
          9763.582646144308,
          9753.472613636379,
          9768.09640310783,
          9770.94128595603,
          9754.66224787935,
          9750.144328259441,
          9725.50481178394,
          9736.22039021854,
          9740.51603197673,
          9756.40514335667,
          9763.48441717793,
          9750.07614701913,
          9750.48235266047,
          9769.37280380855,
          9763.13284552845,
          9872.83267056888,
          9853.05542694249,
          9880.56172494176,
          9860.80357440555,
          9887.009235467622,
          9889.98856565174,
          9895.707395035992,
          9927.80456351481,
          9928.31463359206,
          9902.43170460056,
          9891.11906119346,
          9881.28571916348,
          9808.51287883902,
          9808.97479648475,
          9806.54035616433,
          9793.88593709878,
          9745.731864500129,
          9772.84732824427,
          9748.72986493509,
          9648.909433703271,
          9622.16243398603,
          9530.647047190601,
          9366.20279988648,
          9272.7029661486,
          9335.678517668159,
          9287.90229209199,
          9266.78349618718,
          9336.630834990021,
          9324.46098568168,
          9281.64936963271,
          9288.937114695329,
          9314.66528132388,
          9329.97508177228,
          9359.06413103277,
          9360.61347161578,
          9358.474509336529,
          9367.87221617091,
          9414.38105070255,
          9455.39234219932,
          9452.24982698957,
          9463.80397019693,
          9491.4759429735,
          9459.714657441851,
          9482.42793437735,
          9489.24722103003,
          9409.36054573703,
          9418.344842939141,
          9360.897120848349,
          9372.657406490649,
          9414.22531607006,
          9443.70214303828,
          9454.858758244929,
          9456.68696596433,
          9457.34178954665,
          9446.1838033635,
          9435.76608309659,
          9426.664567055981,
          9419.44227484145,
          9387.94546780505,
          9392.606358024641,
          9413.075090568342,
          9432.10718878251,
          9433.334711895899,
          9445.434754944108,
          9425.50990405902,
          9411.00198058251,
          9425.305015608728,
          9419.39297426125,
          9441.4693373494,
          9446.50045099436,
          9435.929344323771,
          9440.29001212609,
          9444.986377118628,
          9441.127203365259,
          9392.084909813571,
          9416.48298559754,
          9432.0825,
          9455.95531417747,
          9457.23487912085,
          9445.37915465898,
          9447.98213063767,
          9433.9969625247,
          9432.666538461508,
          9430.46827201785,
          9411.12843237121,
          9399.01792776789,
          9418.9594202899,
          9417.44407766987,
          9420.18843137254,
          9431.997401448109,
          9412.55231372548,
          9390.48610086105,
          9367.5320620064,
          9382.20533956389,
          9402.65390645301,
          9393.61114088157,
          9379.738982469571,
          9388.86641181232,
          9393.92940149624,
          9353.04766700926,
          9326.67084229663,
          9352.409674449158,
          9330.02911504424,
          9272.88192751537,
          9251.10475122635,
          9194.62995803738,
          9180.04470164378,
          9080.679677771719,
          8980.33219258638,
          9060.78678330423,
          9106.56450678316,
          9118.22547735952,
          9105.42739700375,
          9105.35941762692,
          9098.372441721469,
          9098.91769230768,
          9203.598915162149,
          9265.91131659989,
          9359.20982805428,
          9354.83056164,
          9410.907967313578,
          9423.77744402989,
          9434.32393946729,
          9476.368139769731,
          9433.332236667571,
          9442.97808612438,
          9404.31947110331,
          9408.653404056171,
          9417.806885754559,
          9545.16677792808,
          9546.08638005783,
          9538.3274890447,
          9504.5060663842,
          9488.31185744014,
          9482.95392652125,
          9509.428474784741,
          9520.309732254009,
          9507.27772397095,
          9523.207534682071,
          9536.08748889872,
          9485.71271883296,
          9444.241782639001,
          9473.2536737332,
          9479.47855972264,
          9488.883840707951,
          9493.196353015479,
          9494.949177489201,
          9515.42212881162,
          9509.31294452884,
          9519.133583278051,
          9499.64891594393,
          9470.077633912759,
          9454.359320987629,
          9439.69908339077,
          9458.94610628024,
          9451.71936061381,
          9462.133632673771,
          9492.10556025369,
          9493.958324840749,
          9479.9317255892,
          9478.43220264313,
          9480.8633533333,
          9491.07437225208,
          9482.51570809876,
          9406.65591478697,
          9402.36315732761,
          9375.02879990496,
          9402.048023830308,
          9397.934916977321,
          9361.00390660886,
          9323.23870467172,
          9407.06797124973,
          9418.115619075841,
          9444.08039630115,
          9424.95626740045,
          9421.89776917397,
          9404.399640718579,
          9413.328093475251,
          9412.47833016185,
          9409.717386907942,
          9422.49575595239,
          9432.899487544491,
          9432.20404553418,
          9445.44631439897,
          9421.47137578172,
          9434.55439281292,
          9423.31154645127,
          9402.62623085543,
          9404.53314109164,
          9411.802656626529,
          9387.1576202532,
          9397.367282774409,
          9392.327951414041,
          9381.72733181303,
          9358.16225988707,
          9329.52424230465,
          9368.52300328827,
          9386.07278599788,
          9354.139406240542,
          9341.81772626227,
          9303.39799225663,
          9268.12127029124,
          9288.27978348625,
          9298.560707476128,
          9305.711920245409,
          9275.465690607729,
          9286.0316614223,
          9368.873843270841,
          9363.678343750009,
          9378.189375743199,
          9393.811626596551,
          9379.07082431308,
          9374.60542485842,
          9365.48051794175,
          9336.838522788192,
          9316.273902770241,
          9297.583759219571,
          9316.569162286429,
          9286.05938400678,
          9302.310954819259,
          9322.28474016851,
          9285.562798408491,
          9307.66576827755,
          9309.22585684063,
          9310.948494623559,
          9327.88076063604,
          9306.99138273837,
          9307.077375249492,
          9309.079871508391,
          9302.48104255319,
          9285.78144111192,
          9279.45447310245,
          9282.850826161779,
          9269.60403391885,
          9308.03148655503,
          9288.33378216913,
          9284.25650000001,
          9256.727601580122,
          9264.787400722,
          9266.331012805591,
          9279.06711040256,
          9297.98883175936,
          9310.01252138343,
          9330.672885689059,
          9364.395964721842,
          9357.03421583275,
          9361.76106953895,
          9365.47324278439,
          9380.18944191347,
          9364.35774447178,
          9371.50681628385,
          9377.96583509509,
          9386.14441638867,
          9371.16711864405,
          9363.02378706198,
          9366.31686143572,
          9344.86650494159,
          9347.68457894736,
          9345.36837573384,
          9338.033763688822,
          9342.11285355116,
          9356.889190476179,
          9354.27238664672,
          9345.2243226787,
          9317.90842938843,
          9324.80441638879,
          9322.577139959409,
          9321.38415480424,
          9299.43296774196,
          9286.18294658492,
          9304.06460133641,
          9338.724096848571,
          9368.057639148341,
          9370.5661727775,
          9388.56786747902,
          9423.80850471125,
          9411.040682128241,
          9418.33894025604,
          9413.91962037037,
          9418.29183410138,
          9422.233966244741,
          9443.918449174642,
          9475.79067320092,
          9477.08976764452,
          9468.98769949678,
          9477.322044403309,
          9555.94948968173,
          9585.33537529791,
          9587.381347695358,
          9571.73501413231,
          9607.965887310409,
          9703.3355231087,
          9664.0764403927,
          9680.247357838509,
          9691.083178315941,
          9637.08983244479,
          9641.150809792858,
          9637.93405649271,
          9633.9550490677,
          9626.2235585586,
          9621.94810668673,
          9638.815151320021,
          9616.29365366759,
          9599.11665112662,
          9593.30353419097,
          9619.51540492959,
          9632.69313570488,
          9632.37889968896,
          9649.061399747809,
          9666.014229898079,
          9668.93833531514,
          9655.005829371341,
          9661.81489624225,
          9658.19772549016,
          9649.077051765491,
          9631.78589219852,
          9631.46296460181,
          9608.94695652174,
          9628.79367527678,
          9627.55884536078,
          9643.82587516371,
          9644.87331516797,
          9643.8571038252,
          9641.99028455283,
          9649.37375949366,
          9566.20985796417,
          9515.34669135799,
          9503.38260407029,
          9406.1173703446,
          9357.60371452424,
          9346.99378953105,
          9387.39719790303,
          9322.43364669875,
          9266.43268457233,
          9274.86448391745,
          9290.46432460459,
          9307.652004364209,
          9307.313372291921,
          9301.00851242335,
          9258.465853238129,
          9271.84343233206,
          9292.96221138211,
          9267.44382912287,
          9275.66441268734,
          9248.19792694648,
          9090.44887017314,
          9110.11242847408,
          9138.27674132759,
          9171.9149934297,
          9157.16728845264,
          9260.213848275842,
          9274.37485798818,
          9259.61577944575,
          9264.65866391182,
          9193.92835723601,
          9204.13689226106,
          9236.931705448342,
          9226.69848234171,
          9251.65678139779,
          9273.03365083879,
          9259.216507122479,
          9276.187084295601,
          9281.629598021009,
          9304.38187562437,
          9252.41665176226,
          9246.91674626866,
          9238.29945553023,
          9263.4171638305,
          9238.133614579821,
          9233.98283333338,
          9235.55604465041,
          9222.07776072415,
          9207.31116169542,
          9131.257173012391,
          9123.042021336321,
          9146.72167466206,
          9213.31606908874,
          9171.993572,
          9193.467253474499,
          9184.80963837999,
          9077.89724900133,
          9142.62885604369,
          9124.07215486067,
          9157.115130729051,
          9151.60477429987,
          9147.020470392901,
          9189.09508316893,
          9187.56959398498,
          9180.167445283041,
          9159.797154706079,
          9124.63874132496,
          9126.16425547714,
          9123.72125051418,
          9148.623062589599,
          9145.51908246859,
          9149.78376700177,
          9163.61913366335,
          9165.96152582155,
          9168.648240165641,
          9145.87082294268,
          9140.73873538788,
          9144.75532640947,
          9152.117456556009,
          9154.84854636593,
          9145.12734565307,
          9134.849653199859,
          9088.26582422914,
          9087.36287667335,
          9081.64235878129,
          8958.831470501658,
          8951.77071840457,
          8974.10132137628,
          9011.1673423527,
          8989.67548857698,
          8977.34041079815,
          8961.00084345484,
          8960.57475614843,
          8962.29370044055,
          8954.676564716321,
          8962.74791713963,
          8985.7318072289,
          8998.57225247523,
          9024.814615981371,
          9054.090844841601,
          9056.127141666659,
          9056.70806001394,
          9037.627768154542,
          9046.94307609283,
          9126.53562007587,
          9144.40488281248,
          9160.10890963657,
          9137.966661163871,
          9153.98640501628,
          9143.85224554457,
          9117.620346643309,
          9106.3376212766,
          9091.27639419089,
          9105.00655856732,
          9107.490447035942,
          9121.477316213499,
          9124.67981739547,
          9101.60783448957,
          9095.54136416858,
          9107.57798392502,
          9090.546941529241,
          9079.242510548509,
          9069.47043057995,
          9100.678761904759,
          9105.207294520551,
          9079.96874999997,
          9092.96660721693,
          9044.069836645771,
          9059.811579745301,
          9089.10699389907,
          9117.164706392809,
          9130.09948324458,
          9147.524166405059,
          9142.57212651894,
          9165.70276860702,
          9212.82389296192,
          9209.42499999998,
          9181.94281397887,
          9180.40526075367,
          9176.817858064509,
          9178.438050314458,
          9169.634767667021,
          9165.25537842192,
          9142.3964521521,
          9129.67959466664,
          9133.912133421421,
          9128.625295238071,
          9147.71955611394,
          9153.35982323232,
          9142.053902439058,
          9127.881574199359,
          9109.77804108206,
          9154.28827774582,
          9175.091926163741,
          9165.90594791993,
          9149.77622727269,
          9138.82443428187,
          9129.36026881717,
          9146.353120649641,
          9160.99883174794,
          9137.57802840164,
          9144.30775578664,
          9112.79410380407,
          9115.57604002858
         ],
         "yaxis": "y"
        }
       ],
       "layout": {
        "legend": {
         "tracegroupgap": 0
        },
        "margin": {
         "t": 60
        },
        "template": {
         "data": {
          "bar": [
           {
            "error_x": {
             "color": "#2a3f5f"
            },
            "error_y": {
             "color": "#2a3f5f"
            },
            "marker": {
             "line": {
              "color": "#E5ECF6",
              "width": 0.5
             }
            },
            "type": "bar"
           }
          ],
          "barpolar": [
           {
            "marker": {
             "line": {
              "color": "#E5ECF6",
              "width": 0.5
             }
            },
            "type": "barpolar"
           }
          ],
          "carpet": [
           {
            "aaxis": {
             "endlinecolor": "#2a3f5f",
             "gridcolor": "white",
             "linecolor": "white",
             "minorgridcolor": "white",
             "startlinecolor": "#2a3f5f"
            },
            "baxis": {
             "endlinecolor": "#2a3f5f",
             "gridcolor": "white",
             "linecolor": "white",
             "minorgridcolor": "white",
             "startlinecolor": "#2a3f5f"
            },
            "type": "carpet"
           }
          ],
          "choropleth": [
           {
            "colorbar": {
             "outlinewidth": 0,
             "ticks": ""
            },
            "type": "choropleth"
           }
          ],
          "contour": [
           {
            "colorbar": {
             "outlinewidth": 0,
             "ticks": ""
            },
            "colorscale": [
             [
              0,
              "#0d0887"
             ],
             [
              0.1111111111111111,
              "#46039f"
             ],
             [
              0.2222222222222222,
              "#7201a8"
             ],
             [
              0.3333333333333333,
              "#9c179e"
             ],
             [
              0.4444444444444444,
              "#bd3786"
             ],
             [
              0.5555555555555556,
              "#d8576b"
             ],
             [
              0.6666666666666666,
              "#ed7953"
             ],
             [
              0.7777777777777778,
              "#fb9f3a"
             ],
             [
              0.8888888888888888,
              "#fdca26"
             ],
             [
              1,
              "#f0f921"
             ]
            ],
            "type": "contour"
           }
          ],
          "contourcarpet": [
           {
            "colorbar": {
             "outlinewidth": 0,
             "ticks": ""
            },
            "type": "contourcarpet"
           }
          ],
          "heatmap": [
           {
            "colorbar": {
             "outlinewidth": 0,
             "ticks": ""
            },
            "colorscale": [
             [
              0,
              "#0d0887"
             ],
             [
              0.1111111111111111,
              "#46039f"
             ],
             [
              0.2222222222222222,
              "#7201a8"
             ],
             [
              0.3333333333333333,
              "#9c179e"
             ],
             [
              0.4444444444444444,
              "#bd3786"
             ],
             [
              0.5555555555555556,
              "#d8576b"
             ],
             [
              0.6666666666666666,
              "#ed7953"
             ],
             [
              0.7777777777777778,
              "#fb9f3a"
             ],
             [
              0.8888888888888888,
              "#fdca26"
             ],
             [
              1,
              "#f0f921"
             ]
            ],
            "type": "heatmap"
           }
          ],
          "heatmapgl": [
           {
            "colorbar": {
             "outlinewidth": 0,
             "ticks": ""
            },
            "colorscale": [
             [
              0,
              "#0d0887"
             ],
             [
              0.1111111111111111,
              "#46039f"
             ],
             [
              0.2222222222222222,
              "#7201a8"
             ],
             [
              0.3333333333333333,
              "#9c179e"
             ],
             [
              0.4444444444444444,
              "#bd3786"
             ],
             [
              0.5555555555555556,
              "#d8576b"
             ],
             [
              0.6666666666666666,
              "#ed7953"
             ],
             [
              0.7777777777777778,
              "#fb9f3a"
             ],
             [
              0.8888888888888888,
              "#fdca26"
             ],
             [
              1,
              "#f0f921"
             ]
            ],
            "type": "heatmapgl"
           }
          ],
          "histogram": [
           {
            "marker": {
             "colorbar": {
              "outlinewidth": 0,
              "ticks": ""
             }
            },
            "type": "histogram"
           }
          ],
          "histogram2d": [
           {
            "colorbar": {
             "outlinewidth": 0,
             "ticks": ""
            },
            "colorscale": [
             [
              0,
              "#0d0887"
             ],
             [
              0.1111111111111111,
              "#46039f"
             ],
             [
              0.2222222222222222,
              "#7201a8"
             ],
             [
              0.3333333333333333,
              "#9c179e"
             ],
             [
              0.4444444444444444,
              "#bd3786"
             ],
             [
              0.5555555555555556,
              "#d8576b"
             ],
             [
              0.6666666666666666,
              "#ed7953"
             ],
             [
              0.7777777777777778,
              "#fb9f3a"
             ],
             [
              0.8888888888888888,
              "#fdca26"
             ],
             [
              1,
              "#f0f921"
             ]
            ],
            "type": "histogram2d"
           }
          ],
          "histogram2dcontour": [
           {
            "colorbar": {
             "outlinewidth": 0,
             "ticks": ""
            },
            "colorscale": [
             [
              0,
              "#0d0887"
             ],
             [
              0.1111111111111111,
              "#46039f"
             ],
             [
              0.2222222222222222,
              "#7201a8"
             ],
             [
              0.3333333333333333,
              "#9c179e"
             ],
             [
              0.4444444444444444,
              "#bd3786"
             ],
             [
              0.5555555555555556,
              "#d8576b"
             ],
             [
              0.6666666666666666,
              "#ed7953"
             ],
             [
              0.7777777777777778,
              "#fb9f3a"
             ],
             [
              0.8888888888888888,
              "#fdca26"
             ],
             [
              1,
              "#f0f921"
             ]
            ],
            "type": "histogram2dcontour"
           }
          ],
          "mesh3d": [
           {
            "colorbar": {
             "outlinewidth": 0,
             "ticks": ""
            },
            "type": "mesh3d"
           }
          ],
          "parcoords": [
           {
            "line": {
             "colorbar": {
              "outlinewidth": 0,
              "ticks": ""
             }
            },
            "type": "parcoords"
           }
          ],
          "pie": [
           {
            "automargin": true,
            "type": "pie"
           }
          ],
          "scatter": [
           {
            "marker": {
             "colorbar": {
              "outlinewidth": 0,
              "ticks": ""
             }
            },
            "type": "scatter"
           }
          ],
          "scatter3d": [
           {
            "line": {
             "colorbar": {
              "outlinewidth": 0,
              "ticks": ""
             }
            },
            "marker": {
             "colorbar": {
              "outlinewidth": 0,
              "ticks": ""
             }
            },
            "type": "scatter3d"
           }
          ],
          "scattercarpet": [
           {
            "marker": {
             "colorbar": {
              "outlinewidth": 0,
              "ticks": ""
             }
            },
            "type": "scattercarpet"
           }
          ],
          "scattergeo": [
           {
            "marker": {
             "colorbar": {
              "outlinewidth": 0,
              "ticks": ""
             }
            },
            "type": "scattergeo"
           }
          ],
          "scattergl": [
           {
            "marker": {
             "colorbar": {
              "outlinewidth": 0,
              "ticks": ""
             }
            },
            "type": "scattergl"
           }
          ],
          "scattermapbox": [
           {
            "marker": {
             "colorbar": {
              "outlinewidth": 0,
              "ticks": ""
             }
            },
            "type": "scattermapbox"
           }
          ],
          "scatterpolar": [
           {
            "marker": {
             "colorbar": {
              "outlinewidth": 0,
              "ticks": ""
             }
            },
            "type": "scatterpolar"
           }
          ],
          "scatterpolargl": [
           {
            "marker": {
             "colorbar": {
              "outlinewidth": 0,
              "ticks": ""
             }
            },
            "type": "scatterpolargl"
           }
          ],
          "scatterternary": [
           {
            "marker": {
             "colorbar": {
              "outlinewidth": 0,
              "ticks": ""
             }
            },
            "type": "scatterternary"
           }
          ],
          "surface": [
           {
            "colorbar": {
             "outlinewidth": 0,
             "ticks": ""
            },
            "colorscale": [
             [
              0,
              "#0d0887"
             ],
             [
              0.1111111111111111,
              "#46039f"
             ],
             [
              0.2222222222222222,
              "#7201a8"
             ],
             [
              0.3333333333333333,
              "#9c179e"
             ],
             [
              0.4444444444444444,
              "#bd3786"
             ],
             [
              0.5555555555555556,
              "#d8576b"
             ],
             [
              0.6666666666666666,
              "#ed7953"
             ],
             [
              0.7777777777777778,
              "#fb9f3a"
             ],
             [
              0.8888888888888888,
              "#fdca26"
             ],
             [
              1,
              "#f0f921"
             ]
            ],
            "type": "surface"
           }
          ],
          "table": [
           {
            "cells": {
             "fill": {
              "color": "#EBF0F8"
             },
             "line": {
              "color": "white"
             }
            },
            "header": {
             "fill": {
              "color": "#C8D4E3"
             },
             "line": {
              "color": "white"
             }
            },
            "type": "table"
           }
          ]
         },
         "layout": {
          "annotationdefaults": {
           "arrowcolor": "#2a3f5f",
           "arrowhead": 0,
           "arrowwidth": 1
          },
          "coloraxis": {
           "colorbar": {
            "outlinewidth": 0,
            "ticks": ""
           }
          },
          "colorscale": {
           "diverging": [
            [
             0,
             "#8e0152"
            ],
            [
             0.1,
             "#c51b7d"
            ],
            [
             0.2,
             "#de77ae"
            ],
            [
             0.3,
             "#f1b6da"
            ],
            [
             0.4,
             "#fde0ef"
            ],
            [
             0.5,
             "#f7f7f7"
            ],
            [
             0.6,
             "#e6f5d0"
            ],
            [
             0.7,
             "#b8e186"
            ],
            [
             0.8,
             "#7fbc41"
            ],
            [
             0.9,
             "#4d9221"
            ],
            [
             1,
             "#276419"
            ]
           ],
           "sequential": [
            [
             0,
             "#0d0887"
            ],
            [
             0.1111111111111111,
             "#46039f"
            ],
            [
             0.2222222222222222,
             "#7201a8"
            ],
            [
             0.3333333333333333,
             "#9c179e"
            ],
            [
             0.4444444444444444,
             "#bd3786"
            ],
            [
             0.5555555555555556,
             "#d8576b"
            ],
            [
             0.6666666666666666,
             "#ed7953"
            ],
            [
             0.7777777777777778,
             "#fb9f3a"
            ],
            [
             0.8888888888888888,
             "#fdca26"
            ],
            [
             1,
             "#f0f921"
            ]
           ],
           "sequentialminus": [
            [
             0,
             "#0d0887"
            ],
            [
             0.1111111111111111,
             "#46039f"
            ],
            [
             0.2222222222222222,
             "#7201a8"
            ],
            [
             0.3333333333333333,
             "#9c179e"
            ],
            [
             0.4444444444444444,
             "#bd3786"
            ],
            [
             0.5555555555555556,
             "#d8576b"
            ],
            [
             0.6666666666666666,
             "#ed7953"
            ],
            [
             0.7777777777777778,
             "#fb9f3a"
            ],
            [
             0.8888888888888888,
             "#fdca26"
            ],
            [
             1,
             "#f0f921"
            ]
           ]
          },
          "colorway": [
           "#636efa",
           "#EF553B",
           "#00cc96",
           "#ab63fa",
           "#FFA15A",
           "#19d3f3",
           "#FF6692",
           "#B6E880",
           "#FF97FF",
           "#FECB52"
          ],
          "font": {
           "color": "#2a3f5f"
          },
          "geo": {
           "bgcolor": "white",
           "lakecolor": "white",
           "landcolor": "#E5ECF6",
           "showlakes": true,
           "showland": true,
           "subunitcolor": "white"
          },
          "hoverlabel": {
           "align": "left"
          },
          "hovermode": "closest",
          "mapbox": {
           "style": "light"
          },
          "paper_bgcolor": "white",
          "plot_bgcolor": "#E5ECF6",
          "polar": {
           "angularaxis": {
            "gridcolor": "white",
            "linecolor": "white",
            "ticks": ""
           },
           "bgcolor": "#E5ECF6",
           "radialaxis": {
            "gridcolor": "white",
            "linecolor": "white",
            "ticks": ""
           }
          },
          "scene": {
           "xaxis": {
            "backgroundcolor": "#E5ECF6",
            "gridcolor": "white",
            "gridwidth": 2,
            "linecolor": "white",
            "showbackground": true,
            "ticks": "",
            "zerolinecolor": "white"
           },
           "yaxis": {
            "backgroundcolor": "#E5ECF6",
            "gridcolor": "white",
            "gridwidth": 2,
            "linecolor": "white",
            "showbackground": true,
            "ticks": "",
            "zerolinecolor": "white"
           },
           "zaxis": {
            "backgroundcolor": "#E5ECF6",
            "gridcolor": "white",
            "gridwidth": 2,
            "linecolor": "white",
            "showbackground": true,
            "ticks": "",
            "zerolinecolor": "white"
           }
          },
          "shapedefaults": {
           "line": {
            "color": "#2a3f5f"
           }
          },
          "ternary": {
           "aaxis": {
            "gridcolor": "white",
            "linecolor": "white",
            "ticks": ""
           },
           "baxis": {
            "gridcolor": "white",
            "linecolor": "white",
            "ticks": ""
           },
           "bgcolor": "#E5ECF6",
           "caxis": {
            "gridcolor": "white",
            "linecolor": "white",
            "ticks": ""
           }
          },
          "title": {
           "x": 0.05
          },
          "xaxis": {
           "automargin": true,
           "gridcolor": "white",
           "linecolor": "white",
           "ticks": "",
           "title": {
            "standoff": 15
           },
           "zerolinecolor": "white",
           "zerolinewidth": 2
          },
          "yaxis": {
           "automargin": true,
           "gridcolor": "white",
           "linecolor": "white",
           "ticks": "",
           "title": {
            "standoff": 15
           },
           "zerolinecolor": "white",
           "zerolinewidth": 2
          }
         }
        },
        "xaxis": {
         "anchor": "y",
         "domain": [
          0,
          1
         ],
         "title": {
          "text": "ds"
         }
        },
        "yaxis": {
         "anchor": "x",
         "domain": [
          0,
          1
         ],
         "title": {
          "text": "y"
         }
        }
       }
      },
      "text/html": [
       "<div>\n",
       "        \n",
       "        \n",
       "            <div id=\"1bff2869-ad50-4740-ab21-4b2d67cae6a5\" class=\"plotly-graph-div\" style=\"height:525px; width:100%;\"></div>\n",
       "            <script type=\"text/javascript\">\n",
       "                require([\"plotly\"], function(Plotly) {\n",
       "                    window.PLOTLYENV=window.PLOTLYENV || {};\n",
       "                    \n",
       "                if (document.getElementById(\"1bff2869-ad50-4740-ab21-4b2d67cae6a5\")) {\n",
       "                    Plotly.newPlot(\n",
       "                        '1bff2869-ad50-4740-ab21-4b2d67cae6a5',\n",
       "                        [{\"hovertemplate\": \"ds=%{x}<br>y=%{y}<extra></extra>\", \"legendgroup\": \"\", \"line\": {\"color\": \"#636efa\", \"dash\": \"solid\"}, \"mode\": \"lines\", \"name\": \"\", \"orientation\": \"v\", \"showlegend\": false, \"type\": \"scatter\", \"x\": [\"2020-06-01T03:00:00\", \"2020-06-01T04:00:00\", \"2020-06-01T05:00:00\", \"2020-06-01T06:00:00\", \"2020-06-01T07:00:00\", \"2020-06-01T08:00:00\", \"2020-06-01T09:00:00\", \"2020-06-01T10:00:00\", \"2020-06-01T11:00:00\", \"2020-06-01T12:00:00\", \"2020-06-01T13:00:00\", \"2020-06-01T14:00:00\", \"2020-06-01T15:00:00\", \"2020-06-01T16:00:00\", \"2020-06-01T17:00:00\", \"2020-06-01T18:00:00\", \"2020-06-01T19:00:00\", \"2020-06-01T20:00:00\", \"2020-06-01T21:00:00\", \"2020-06-01T22:00:00\", \"2020-06-01T23:00:00\", \"2020-06-02T00:00:00\", \"2020-06-02T01:00:00\", \"2020-06-02T02:00:00\", \"2020-06-02T03:00:00\", \"2020-06-02T04:00:00\", \"2020-06-02T05:00:00\", \"2020-06-02T06:00:00\", \"2020-06-02T07:00:00\", \"2020-06-02T08:00:00\", \"2020-06-02T09:00:00\", \"2020-06-02T10:00:00\", \"2020-06-02T11:00:00\", \"2020-06-02T12:00:00\", \"2020-06-02T13:00:00\", \"2020-06-02T14:00:00\", \"2020-06-02T15:00:00\", \"2020-06-02T16:00:00\", \"2020-06-02T17:00:00\", \"2020-06-02T18:00:00\", \"2020-06-02T19:00:00\", \"2020-06-02T20:00:00\", \"2020-06-02T21:00:00\", \"2020-06-02T22:00:00\", \"2020-06-02T23:00:00\", \"2020-06-03T00:00:00\", \"2020-06-03T01:00:00\", \"2020-06-03T02:00:00\", \"2020-06-03T03:00:00\", \"2020-06-03T04:00:00\", \"2020-06-03T05:00:00\", \"2020-06-03T06:00:00\", \"2020-06-03T07:00:00\", \"2020-06-03T08:00:00\", \"2020-06-03T09:00:00\", \"2020-06-03T10:00:00\", \"2020-06-03T11:00:00\", \"2020-06-03T12:00:00\", \"2020-06-03T13:00:00\", \"2020-06-03T14:00:00\", \"2020-06-03T15:00:00\", \"2020-06-03T16:00:00\", \"2020-06-03T17:00:00\", \"2020-06-03T18:00:00\", \"2020-06-03T19:00:00\", \"2020-06-03T20:00:00\", \"2020-06-03T21:00:00\", \"2020-06-03T22:00:00\", \"2020-06-03T23:00:00\", \"2020-06-04T00:00:00\", \"2020-06-04T01:00:00\", \"2020-06-04T02:00:00\", \"2020-06-04T03:00:00\", \"2020-06-04T04:00:00\", \"2020-06-04T05:00:00\", \"2020-06-04T06:00:00\", \"2020-06-04T07:00:00\", \"2020-06-04T08:00:00\", \"2020-06-04T09:00:00\", \"2020-06-04T10:00:00\", \"2020-06-04T11:00:00\", \"2020-06-04T12:00:00\", \"2020-06-04T13:00:00\", \"2020-06-04T14:00:00\", \"2020-06-04T15:00:00\", \"2020-06-04T16:00:00\", \"2020-06-04T17:00:00\", \"2020-06-04T18:00:00\", \"2020-06-04T19:00:00\", \"2020-06-04T20:00:00\", \"2020-06-04T21:00:00\", \"2020-06-04T22:00:00\", \"2020-06-04T23:00:00\", \"2020-06-05T00:00:00\", \"2020-06-05T01:00:00\", \"2020-06-05T02:00:00\", \"2020-06-05T03:00:00\", \"2020-06-05T04:00:00\", \"2020-06-05T05:00:00\", \"2020-06-05T06:00:00\", \"2020-06-05T07:00:00\", \"2020-06-05T08:00:00\", \"2020-06-05T09:00:00\", \"2020-06-05T10:00:00\", \"2020-06-05T11:00:00\", \"2020-06-05T12:00:00\", \"2020-06-05T13:00:00\", \"2020-06-05T14:00:00\", \"2020-06-05T15:00:00\", \"2020-06-05T16:00:00\", \"2020-06-05T17:00:00\", \"2020-06-05T18:00:00\", \"2020-06-05T19:00:00\", \"2020-06-05T20:00:00\", \"2020-06-05T21:00:00\", \"2020-06-05T22:00:00\", \"2020-06-05T23:00:00\", \"2020-06-06T00:00:00\", \"2020-06-06T01:00:00\", \"2020-06-06T02:00:00\", \"2020-06-06T03:00:00\", \"2020-06-06T04:00:00\", \"2020-06-06T05:00:00\", \"2020-06-06T06:00:00\", \"2020-06-06T07:00:00\", \"2020-06-06T08:00:00\", \"2020-06-06T09:00:00\", \"2020-06-06T10:00:00\", \"2020-06-06T11:00:00\", \"2020-06-06T12:00:00\", \"2020-06-06T13:00:00\", \"2020-06-06T14:00:00\", \"2020-06-06T15:00:00\", \"2020-06-06T16:00:00\", \"2020-06-06T17:00:00\", \"2020-06-06T18:00:00\", \"2020-06-06T19:00:00\", \"2020-06-06T20:00:00\", \"2020-06-06T21:00:00\", \"2020-06-06T22:00:00\", \"2020-06-06T23:00:00\", \"2020-06-07T00:00:00\", \"2020-06-07T01:00:00\", \"2020-06-07T02:00:00\", \"2020-06-07T03:00:00\", \"2020-06-07T04:00:00\", \"2020-06-07T05:00:00\", \"2020-06-07T06:00:00\", \"2020-06-07T07:00:00\", \"2020-06-07T08:00:00\", \"2020-06-07T09:00:00\", \"2020-06-07T10:00:00\", \"2020-06-07T11:00:00\", \"2020-06-07T12:00:00\", \"2020-06-07T13:00:00\", \"2020-06-07T14:00:00\", \"2020-06-07T15:00:00\", \"2020-06-07T16:00:00\", \"2020-06-07T17:00:00\", \"2020-06-07T18:00:00\", \"2020-06-07T19:00:00\", \"2020-06-07T20:00:00\", \"2020-06-07T21:00:00\", \"2020-06-07T22:00:00\", \"2020-06-07T23:00:00\", \"2020-06-08T00:00:00\", \"2020-06-08T01:00:00\", \"2020-06-08T02:00:00\", \"2020-06-08T03:00:00\", \"2020-06-08T04:00:00\", \"2020-06-08T05:00:00\", \"2020-06-08T06:00:00\", \"2020-06-08T07:00:00\", \"2020-06-08T08:00:00\", \"2020-06-08T09:00:00\", \"2020-06-08T10:00:00\", \"2020-06-08T11:00:00\", \"2020-06-08T12:00:00\", \"2020-06-08T13:00:00\", \"2020-06-08T14:00:00\", \"2020-06-08T15:00:00\", \"2020-06-08T16:00:00\", \"2020-06-08T17:00:00\", \"2020-06-08T18:00:00\", \"2020-06-08T19:00:00\", \"2020-06-08T20:00:00\", \"2020-06-08T21:00:00\", \"2020-06-08T22:00:00\", \"2020-06-08T23:00:00\", \"2020-06-09T00:00:00\", \"2020-06-09T01:00:00\", \"2020-06-09T02:00:00\", \"2020-06-09T03:00:00\", \"2020-06-09T04:00:00\", \"2020-06-09T05:00:00\", \"2020-06-09T06:00:00\", \"2020-06-09T07:00:00\", \"2020-06-09T08:00:00\", \"2020-06-09T09:00:00\", \"2020-06-09T10:00:00\", \"2020-06-09T11:00:00\", \"2020-06-09T12:00:00\", \"2020-06-09T13:00:00\", \"2020-06-09T14:00:00\", \"2020-06-09T15:00:00\", \"2020-06-09T16:00:00\", \"2020-06-09T17:00:00\", \"2020-06-09T18:00:00\", \"2020-06-09T19:00:00\", \"2020-06-09T20:00:00\", \"2020-06-09T21:00:00\", \"2020-06-09T22:00:00\", \"2020-06-09T23:00:00\", \"2020-06-10T00:00:00\", \"2020-06-10T01:00:00\", \"2020-06-10T02:00:00\", \"2020-06-10T03:00:00\", \"2020-06-10T04:00:00\", \"2020-06-10T05:00:00\", \"2020-06-10T06:00:00\", \"2020-06-10T07:00:00\", \"2020-06-10T08:00:00\", \"2020-06-10T09:00:00\", \"2020-06-10T10:00:00\", \"2020-06-10T11:00:00\", \"2020-06-10T12:00:00\", \"2020-06-10T13:00:00\", \"2020-06-10T14:00:00\", \"2020-06-10T15:00:00\", \"2020-06-10T16:00:00\", \"2020-06-10T17:00:00\", \"2020-06-10T18:00:00\", \"2020-06-10T19:00:00\", \"2020-06-10T20:00:00\", \"2020-06-10T21:00:00\", \"2020-06-10T22:00:00\", \"2020-06-10T23:00:00\", \"2020-06-11T00:00:00\", \"2020-06-11T01:00:00\", \"2020-06-11T02:00:00\", \"2020-06-11T03:00:00\", \"2020-06-11T04:00:00\", \"2020-06-11T05:00:00\", \"2020-06-11T06:00:00\", \"2020-06-11T07:00:00\", \"2020-06-11T08:00:00\", \"2020-06-11T09:00:00\", \"2020-06-11T10:00:00\", \"2020-06-11T11:00:00\", \"2020-06-11T12:00:00\", \"2020-06-11T13:00:00\", \"2020-06-11T14:00:00\", \"2020-06-11T15:00:00\", \"2020-06-11T16:00:00\", \"2020-06-11T17:00:00\", \"2020-06-11T18:00:00\", \"2020-06-11T19:00:00\", \"2020-06-11T20:00:00\", \"2020-06-11T21:00:00\", \"2020-06-11T22:00:00\", \"2020-06-11T23:00:00\", \"2020-06-12T00:00:00\", \"2020-06-12T01:00:00\", \"2020-06-12T02:00:00\", \"2020-06-12T03:00:00\", \"2020-06-12T04:00:00\", \"2020-06-12T05:00:00\", \"2020-06-12T06:00:00\", \"2020-06-12T07:00:00\", \"2020-06-12T08:00:00\", \"2020-06-12T09:00:00\", \"2020-06-12T10:00:00\", \"2020-06-12T11:00:00\", \"2020-06-12T12:00:00\", \"2020-06-12T13:00:00\", \"2020-06-12T14:00:00\", \"2020-06-12T15:00:00\", \"2020-06-12T16:00:00\", \"2020-06-12T17:00:00\", \"2020-06-12T18:00:00\", \"2020-06-12T19:00:00\", \"2020-06-12T20:00:00\", \"2020-06-12T21:00:00\", \"2020-06-12T22:00:00\", \"2020-06-12T23:00:00\", \"2020-06-13T00:00:00\", \"2020-06-13T01:00:00\", \"2020-06-13T02:00:00\", \"2020-06-13T03:00:00\", \"2020-06-13T04:00:00\", \"2020-06-13T05:00:00\", \"2020-06-13T06:00:00\", \"2020-06-13T07:00:00\", \"2020-06-13T08:00:00\", \"2020-06-13T09:00:00\", \"2020-06-13T10:00:00\", \"2020-06-13T11:00:00\", \"2020-06-13T12:00:00\", \"2020-06-13T13:00:00\", \"2020-06-13T14:00:00\", \"2020-06-13T15:00:00\", \"2020-06-13T16:00:00\", \"2020-06-13T17:00:00\", \"2020-06-13T18:00:00\", \"2020-06-13T19:00:00\", \"2020-06-13T20:00:00\", \"2020-06-13T21:00:00\", \"2020-06-13T22:00:00\", \"2020-06-13T23:00:00\", \"2020-06-14T00:00:00\", \"2020-06-14T01:00:00\", \"2020-06-14T02:00:00\", \"2020-06-14T03:00:00\", \"2020-06-14T04:00:00\", \"2020-06-14T05:00:00\", \"2020-06-14T06:00:00\", \"2020-06-14T07:00:00\", \"2020-06-14T08:00:00\", \"2020-06-14T09:00:00\", \"2020-06-14T10:00:00\", \"2020-06-14T11:00:00\", \"2020-06-14T12:00:00\", \"2020-06-14T13:00:00\", \"2020-06-14T14:00:00\", \"2020-06-14T15:00:00\", \"2020-06-14T16:00:00\", \"2020-06-14T17:00:00\", \"2020-06-14T18:00:00\", \"2020-06-14T19:00:00\", \"2020-06-14T20:00:00\", \"2020-06-14T21:00:00\", \"2020-06-14T22:00:00\", \"2020-06-14T23:00:00\", \"2020-06-15T00:00:00\", \"2020-06-15T01:00:00\", \"2020-06-15T02:00:00\", \"2020-06-15T03:00:00\", \"2020-06-15T04:00:00\", \"2020-06-15T05:00:00\", \"2020-06-15T06:00:00\", \"2020-06-15T07:00:00\", \"2020-06-15T08:00:00\", \"2020-06-15T09:00:00\", \"2020-06-15T10:00:00\", \"2020-06-15T11:00:00\", \"2020-06-15T12:00:00\", \"2020-06-15T13:00:00\", \"2020-06-15T14:00:00\", \"2020-06-15T15:00:00\", \"2020-06-15T16:00:00\", \"2020-06-15T17:00:00\", \"2020-06-15T18:00:00\", \"2020-06-15T19:00:00\", \"2020-06-15T20:00:00\", \"2020-06-15T21:00:00\", \"2020-06-15T22:00:00\", \"2020-06-15T23:00:00\", \"2020-06-16T00:00:00\", \"2020-06-16T01:00:00\", \"2020-06-16T02:00:00\", \"2020-06-16T03:00:00\", \"2020-06-16T04:00:00\", \"2020-06-16T05:00:00\", \"2020-06-16T06:00:00\", \"2020-06-16T07:00:00\", \"2020-06-16T08:00:00\", \"2020-06-16T09:00:00\", \"2020-06-16T10:00:00\", \"2020-06-16T11:00:00\", \"2020-06-16T12:00:00\", \"2020-06-16T13:00:00\", \"2020-06-16T14:00:00\", \"2020-06-16T15:00:00\", \"2020-06-16T16:00:00\", \"2020-06-16T17:00:00\", \"2020-06-16T18:00:00\", \"2020-06-16T19:00:00\", \"2020-06-16T20:00:00\", \"2020-06-16T21:00:00\", \"2020-06-16T22:00:00\", \"2020-06-16T23:00:00\", \"2020-06-17T00:00:00\", \"2020-06-17T01:00:00\", \"2020-06-17T02:00:00\", \"2020-06-17T03:00:00\", \"2020-06-17T04:00:00\", \"2020-06-17T05:00:00\", \"2020-06-17T06:00:00\", \"2020-06-17T07:00:00\", \"2020-06-17T08:00:00\", \"2020-06-17T09:00:00\", \"2020-06-17T10:00:00\", \"2020-06-17T11:00:00\", \"2020-06-17T12:00:00\", \"2020-06-17T13:00:00\", \"2020-06-17T14:00:00\", \"2020-06-17T15:00:00\", \"2020-06-17T16:00:00\", \"2020-06-17T17:00:00\", \"2020-06-17T18:00:00\", \"2020-06-17T19:00:00\", \"2020-06-17T20:00:00\", \"2020-06-17T21:00:00\", \"2020-06-17T22:00:00\", \"2020-06-17T23:00:00\", \"2020-06-18T00:00:00\", \"2020-06-18T01:00:00\", \"2020-06-18T02:00:00\", \"2020-06-18T03:00:00\", \"2020-06-18T04:00:00\", \"2020-06-18T05:00:00\", \"2020-06-18T06:00:00\", \"2020-06-18T07:00:00\", \"2020-06-18T08:00:00\", \"2020-06-18T09:00:00\", \"2020-06-18T10:00:00\", \"2020-06-18T11:00:00\", \"2020-06-18T12:00:00\", \"2020-06-18T13:00:00\", \"2020-06-18T14:00:00\", \"2020-06-18T15:00:00\", \"2020-06-18T16:00:00\", \"2020-06-18T17:00:00\", \"2020-06-18T18:00:00\", \"2020-06-18T19:00:00\", \"2020-06-18T20:00:00\", \"2020-06-18T21:00:00\", \"2020-06-18T22:00:00\", \"2020-06-18T23:00:00\", \"2020-06-19T00:00:00\", \"2020-06-19T01:00:00\", \"2020-06-19T02:00:00\", \"2020-06-19T03:00:00\", \"2020-06-19T04:00:00\", \"2020-06-19T05:00:00\", \"2020-06-19T06:00:00\", \"2020-06-19T07:00:00\", \"2020-06-19T08:00:00\", \"2020-06-19T09:00:00\", \"2020-06-19T10:00:00\", \"2020-06-19T11:00:00\", \"2020-06-19T12:00:00\", \"2020-06-19T13:00:00\", \"2020-06-19T14:00:00\", \"2020-06-19T15:00:00\", \"2020-06-19T16:00:00\", \"2020-06-19T17:00:00\", \"2020-06-19T18:00:00\", \"2020-06-19T19:00:00\", \"2020-06-19T20:00:00\", \"2020-06-19T21:00:00\", \"2020-06-19T22:00:00\", \"2020-06-19T23:00:00\", \"2020-06-20T00:00:00\", \"2020-06-20T01:00:00\", \"2020-06-20T02:00:00\", \"2020-06-20T03:00:00\", \"2020-06-20T04:00:00\", \"2020-06-20T05:00:00\", \"2020-06-20T06:00:00\", \"2020-06-20T07:00:00\", \"2020-06-20T08:00:00\", \"2020-06-20T09:00:00\", \"2020-06-20T10:00:00\", \"2020-06-20T11:00:00\", \"2020-06-20T12:00:00\", \"2020-06-20T13:00:00\", \"2020-06-20T14:00:00\", \"2020-06-20T15:00:00\", \"2020-06-20T16:00:00\", \"2020-06-20T17:00:00\", \"2020-06-20T18:00:00\", \"2020-06-20T19:00:00\", \"2020-06-20T20:00:00\", \"2020-06-20T21:00:00\", \"2020-06-20T22:00:00\", \"2020-06-20T23:00:00\", \"2020-06-21T00:00:00\", \"2020-06-21T01:00:00\", \"2020-06-21T02:00:00\", \"2020-06-21T03:00:00\", \"2020-06-21T04:00:00\", \"2020-06-21T05:00:00\", \"2020-06-21T06:00:00\", \"2020-06-21T07:00:00\", \"2020-06-21T08:00:00\", \"2020-06-21T09:00:00\", \"2020-06-21T10:00:00\", \"2020-06-21T11:00:00\", \"2020-06-21T12:00:00\", \"2020-06-21T13:00:00\", \"2020-06-21T14:00:00\", \"2020-06-21T15:00:00\", \"2020-06-21T16:00:00\", \"2020-06-21T17:00:00\", \"2020-06-21T18:00:00\", \"2020-06-21T19:00:00\", \"2020-06-21T20:00:00\", \"2020-06-21T21:00:00\", \"2020-06-21T22:00:00\", \"2020-06-21T23:00:00\", \"2020-06-22T00:00:00\", \"2020-06-22T01:00:00\", \"2020-06-22T02:00:00\", \"2020-06-22T03:00:00\", \"2020-06-22T04:00:00\", \"2020-06-22T05:00:00\", \"2020-06-22T06:00:00\", \"2020-06-22T07:00:00\", \"2020-06-22T08:00:00\", \"2020-06-22T09:00:00\", \"2020-06-22T10:00:00\", \"2020-06-22T11:00:00\", \"2020-06-22T12:00:00\", \"2020-06-22T13:00:00\", \"2020-06-22T14:00:00\", \"2020-06-22T15:00:00\", \"2020-06-22T16:00:00\", \"2020-06-22T17:00:00\", \"2020-06-22T18:00:00\", \"2020-06-22T19:00:00\", \"2020-06-22T20:00:00\", \"2020-06-22T21:00:00\", \"2020-06-22T22:00:00\", \"2020-06-22T23:00:00\", \"2020-06-23T00:00:00\", \"2020-06-23T01:00:00\", \"2020-06-23T02:00:00\", \"2020-06-23T03:00:00\", \"2020-06-23T04:00:00\", \"2020-06-23T05:00:00\", \"2020-06-23T06:00:00\", \"2020-06-23T07:00:00\", \"2020-06-23T08:00:00\", \"2020-06-23T09:00:00\", \"2020-06-23T10:00:00\", \"2020-06-23T11:00:00\", \"2020-06-23T12:00:00\", \"2020-06-23T13:00:00\", \"2020-06-23T14:00:00\", \"2020-06-23T15:00:00\", \"2020-06-23T16:00:00\", \"2020-06-23T17:00:00\", \"2020-06-23T18:00:00\", \"2020-06-23T19:00:00\", \"2020-06-23T20:00:00\", \"2020-06-23T21:00:00\", \"2020-06-23T22:00:00\", \"2020-06-23T23:00:00\", \"2020-06-24T00:00:00\", \"2020-06-24T01:00:00\", \"2020-06-24T02:00:00\", \"2020-06-24T03:00:00\", \"2020-06-24T04:00:00\", \"2020-06-24T05:00:00\", \"2020-06-24T06:00:00\", \"2020-06-24T07:00:00\", \"2020-06-24T08:00:00\", \"2020-06-24T09:00:00\", \"2020-06-24T10:00:00\", \"2020-06-24T11:00:00\", \"2020-06-24T12:00:00\", \"2020-06-24T13:00:00\", \"2020-06-24T14:00:00\", \"2020-06-24T15:00:00\", \"2020-06-24T16:00:00\", \"2020-06-24T17:00:00\", \"2020-06-24T18:00:00\", \"2020-06-24T19:00:00\", \"2020-06-24T20:00:00\", \"2020-06-24T21:00:00\", \"2020-06-24T22:00:00\", \"2020-06-24T23:00:00\", \"2020-06-25T00:00:00\", \"2020-06-25T01:00:00\", \"2020-06-25T02:00:00\", \"2020-06-25T03:00:00\", \"2020-06-25T04:00:00\", \"2020-06-25T05:00:00\", \"2020-06-25T06:00:00\", \"2020-06-25T07:00:00\", \"2020-06-25T08:00:00\", \"2020-06-25T09:00:00\", \"2020-06-25T10:00:00\", \"2020-06-25T11:00:00\", \"2020-06-25T12:00:00\", \"2020-06-25T13:00:00\", \"2020-06-25T14:00:00\", \"2020-06-25T15:00:00\", \"2020-06-25T16:00:00\", \"2020-06-25T17:00:00\", \"2020-06-25T18:00:00\", \"2020-06-25T19:00:00\", \"2020-06-25T20:00:00\", \"2020-06-25T21:00:00\", \"2020-06-25T22:00:00\", \"2020-06-25T23:00:00\", \"2020-06-26T00:00:00\", \"2020-06-26T01:00:00\", \"2020-06-26T02:00:00\", \"2020-06-26T03:00:00\", \"2020-06-26T04:00:00\", \"2020-06-26T05:00:00\", \"2020-06-26T06:00:00\", \"2020-06-26T07:00:00\", \"2020-06-26T08:00:00\", \"2020-06-26T09:00:00\", \"2020-06-26T10:00:00\", \"2020-06-26T11:00:00\", \"2020-06-26T12:00:00\", \"2020-06-26T13:00:00\", \"2020-06-26T14:00:00\", \"2020-06-26T15:00:00\", \"2020-06-26T16:00:00\", \"2020-06-26T17:00:00\", \"2020-06-26T18:00:00\", \"2020-06-26T19:00:00\", \"2020-06-26T20:00:00\", \"2020-06-26T21:00:00\", \"2020-06-26T22:00:00\", \"2020-06-26T23:00:00\", \"2020-06-27T00:00:00\", \"2020-06-27T01:00:00\", \"2020-06-27T02:00:00\", \"2020-06-27T03:00:00\", \"2020-06-27T04:00:00\", \"2020-06-27T05:00:00\", \"2020-06-27T06:00:00\", \"2020-06-27T07:00:00\", \"2020-06-27T08:00:00\", \"2020-06-27T09:00:00\", \"2020-06-27T10:00:00\", \"2020-06-27T11:00:00\", \"2020-06-27T12:00:00\", \"2020-06-27T13:00:00\", \"2020-06-27T14:00:00\", \"2020-06-27T15:00:00\", \"2020-06-27T16:00:00\", \"2020-06-27T17:00:00\", \"2020-06-27T18:00:00\", \"2020-06-27T19:00:00\", \"2020-06-27T20:00:00\", \"2020-06-27T21:00:00\", \"2020-06-27T22:00:00\", \"2020-06-27T23:00:00\", \"2020-06-28T00:00:00\", \"2020-06-28T01:00:00\", \"2020-06-28T02:00:00\", \"2020-06-28T03:00:00\", \"2020-06-28T04:00:00\", \"2020-06-28T05:00:00\", \"2020-06-28T06:00:00\", \"2020-06-28T07:00:00\", \"2020-06-28T08:00:00\", \"2020-06-28T09:00:00\", \"2020-06-28T10:00:00\", \"2020-06-28T11:00:00\", \"2020-06-28T12:00:00\", \"2020-06-28T13:00:00\", \"2020-06-28T14:00:00\", \"2020-06-28T15:00:00\", \"2020-06-28T16:00:00\", \"2020-06-28T17:00:00\", \"2020-06-28T18:00:00\", \"2020-06-28T19:00:00\", \"2020-06-28T20:00:00\", \"2020-06-28T21:00:00\", \"2020-06-28T22:00:00\", \"2020-06-28T23:00:00\", \"2020-06-29T00:00:00\", \"2020-06-29T01:00:00\", \"2020-06-29T02:00:00\", \"2020-06-29T03:00:00\", \"2020-06-29T04:00:00\", \"2020-06-29T05:00:00\", \"2020-06-29T06:00:00\", \"2020-06-29T07:00:00\", \"2020-06-29T08:00:00\", \"2020-06-29T09:00:00\", \"2020-06-29T10:00:00\", \"2020-06-29T11:00:00\", \"2020-06-29T12:00:00\", \"2020-06-29T13:00:00\", \"2020-06-29T14:00:00\", \"2020-06-29T15:00:00\", \"2020-06-29T16:00:00\", \"2020-06-29T17:00:00\", \"2020-06-29T18:00:00\", \"2020-06-29T19:00:00\", \"2020-06-29T20:00:00\", \"2020-06-29T21:00:00\", \"2020-06-29T22:00:00\", \"2020-06-29T23:00:00\", \"2020-06-30T00:00:00\", \"2020-06-30T01:00:00\", \"2020-06-30T02:00:00\", \"2020-06-30T03:00:00\", \"2020-06-30T04:00:00\", \"2020-06-30T05:00:00\", \"2020-06-30T06:00:00\", \"2020-06-30T07:00:00\", \"2020-06-30T08:00:00\", \"2020-06-30T09:00:00\", \"2020-06-30T10:00:00\", \"2020-06-30T11:00:00\", \"2020-06-30T12:00:00\", \"2020-06-30T13:00:00\", \"2020-06-30T14:00:00\", \"2020-06-30T15:00:00\", \"2020-06-30T16:00:00\", \"2020-06-30T17:00:00\", \"2020-06-30T18:00:00\", \"2020-06-30T19:00:00\", \"2020-06-30T20:00:00\", \"2020-06-30T21:00:00\", \"2020-06-30T22:00:00\", \"2020-06-30T23:00:00\", \"2020-07-01T00:00:00\", \"2020-07-01T01:00:00\"], \"xaxis\": \"x\", \"y\": [9537.24307021188, 9565.81757694462, 9542.70955833333, 9541.96663920922, 9559.49284293308, 9552.39086340923, 9538.9116956162, 9528.58516925245, 9522.31303407604, 9545.38410415859, 9557.15833533416, 9560.9013160486, 9526.83817186386, 9575.21080308527, 9578.96036159222, 9576.30943885333, 9589.88240152857, 9626.073491920959, 9666.99208341201, 9707.911949856229, 10126.9468173023, 10175.5602837263, 10101.462299692299, 10100.6124418398, 10071.2600564516, 10092.4642437797, 10093.167931763299, 10101.4592680922, 10104.3493024523, 10123.4332568211, 10109.2096903461, 10114.3584113015, 10104.9325860882, 10114.716256765, 10154.2075686448, 9671.5242290937, 9472.25070654473, 9470.37539863635, 9495.14539545803, 9523.34969024703, 9520.530840708001, 9497.034624407259, 9531.82563640976, 9514.03977232922, 9502.44542802024, 9520.90646740596, 9507.14041265062, 9495.409187741841, 9489.29150892553, 9498.87368939395, 9471.274918504309, 9513.76635243702, 9508.74381632656, 9516.321696369641, 9522.557846430742, 9579.1869222973, 9591.2174578867, 9605.926720966942, 9596.858194370709, 9556.08759268061, 9565.052227330749, 9565.115481228571, 9566.24234778368, 9575.9891263537, 9587.01110460679, 9573.13895507506, 9583.5458009921, 9584.33016508708, 9637.75990196077, 9640.94289404937, 9654.501546361558, 9668.847365537891, 9674.467655594979, 9656.65581432577, 9644.37058359618, 9639.96587421387, 9654.22257607925, 9633.171660461641, 9560.17662887629, 9535.198043382059, 9550.58744091974, 9643.369340701222, 9731.35379804449, 9751.84756179307, 9768.02246413504, 9796.16477816844, 9798.26185651835, 9827.015543771071, 9795.59634727505, 9781.592079772121, 9763.30094559583, 9794.014572499449, 9820.49607479222, 9793.387141912059, 9820.9208151156, 9809.54374050847, 9798.01987695376, 9794.05566045379, 9790.82979743081, 9772.056561163421, 9774.2602997416, 9763.57589688761, 9822.00013726835, 9733.24131639725, 9678.2262813059, 9675.08394148428, 9681.852925005409, 9698.53062499998, 9681.20210462876, 9714.922794830329, 9733.3946685509, 9735.78278635468, 9725.98509448041, 9706.26239878299, 9688.13206976756, 9660.55566309912, 9652.45120083355, 9573.151207799341, 9584.83756851313, 9577.872137327471, 9594.438473615359, 9613.82862311559, 9605.06884688992, 9612.608187619659, 9612.844494720981, 9591.77435878426, 9662.671495085351, 9671.479542190309, 9677.35081366965, 9689.59209513025, 9656.09582590454, 9659.8361812922, 9645.631085085892, 9639.6869515571, 9604.90766045548, 9620.96706422024, 9637.84111356931, 9676.34146426092, 9698.70839536302, 9667.538762160359, 9663.46197828708, 9654.04474041532, 9665.17844086019, 9685.85376793769, 9682.29353400736, 9692.0557491289, 9672.10999410032, 9662.59481683555, 9660.50239114391, 9618.2711085714, 9639.61239613525, 9620.35167644592, 9597.80264835165, 9526.49448743126, 9480.71612512124, 9452.29772648223, 9479.77411868402, 9475.477274902809, 9483.05669680699, 9525.00955020074, 9662.819883875649, 9743.967250339641, 9715.29928443002, 9747.543493150692, 9752.79614579438, 9762.09058285326, 9758.577950018109, 9735.41981972431, 9722.004964132, 9748.014915184129, 9739.49603061783, 9734.29963573883, 9731.287539267008, 9685.64042040815, 9753.4218073416, 9744.98693528695, 9736.062392982429, 9737.20951578945, 9710.05363489504, 9684.35746853553, 9684.980136882159, 9686.05029645317, 9724.311234185441, 9721.85995625005, 9701.752923773969, 9708.109456832472, 9698.77393566505, 9713.949883790241, 9755.157274320809, 9734.494064935021, 9705.41291473891, 9705.486763392879, 9685.49439888427, 9677.59881574239, 9689.25746530714, 9690.50893401016, 9692.90886283705, 9679.69544690602, 9668.14273678093, 9662.33933333334, 9686.869955, 9733.05135135137, 9712.838636216371, 9706.14046149492, 9721.445385232759, 9711.39225988693, 9711.33946546255, 9710.21122060133, 9711.94173544379, 9737.62174035487, 9784.581926796829, 9778.948406072092, 9776.891832298059, 9779.44737081341, 9801.12809141739, 9778.15422027618, 9763.582646144308, 9753.472613636379, 9768.09640310783, 9770.94128595603, 9754.66224787935, 9750.144328259441, 9725.50481178394, 9736.22039021854, 9740.51603197673, 9756.40514335667, 9763.48441717793, 9750.07614701913, 9750.48235266047, 9769.37280380855, 9763.13284552845, 9872.83267056888, 9853.05542694249, 9880.56172494176, 9860.80357440555, 9887.009235467622, 9889.98856565174, 9895.707395035992, 9927.80456351481, 9928.31463359206, 9902.43170460056, 9891.11906119346, 9881.28571916348, 9808.51287883902, 9808.97479648475, 9806.54035616433, 9793.88593709878, 9745.731864500129, 9772.84732824427, 9748.72986493509, 9648.909433703271, 9622.16243398603, 9530.647047190601, 9366.20279988648, 9272.7029661486, 9335.678517668159, 9287.90229209199, 9266.78349618718, 9336.630834990021, 9324.46098568168, 9281.64936963271, 9288.937114695329, 9314.66528132388, 9329.97508177228, 9359.06413103277, 9360.61347161578, 9358.474509336529, 9367.87221617091, 9414.38105070255, 9455.39234219932, 9452.24982698957, 9463.80397019693, 9491.4759429735, 9459.714657441851, 9482.42793437735, 9489.24722103003, 9409.36054573703, 9418.344842939141, 9360.897120848349, 9372.657406490649, 9414.22531607006, 9443.70214303828, 9454.858758244929, 9456.68696596433, 9457.34178954665, 9446.1838033635, 9435.76608309659, 9426.664567055981, 9419.44227484145, 9387.94546780505, 9392.606358024641, 9413.075090568342, 9432.10718878251, 9433.334711895899, 9445.434754944108, 9425.50990405902, 9411.00198058251, 9425.305015608728, 9419.39297426125, 9441.4693373494, 9446.50045099436, 9435.929344323771, 9440.29001212609, 9444.986377118628, 9441.127203365259, 9392.084909813571, 9416.48298559754, 9432.0825, 9455.95531417747, 9457.23487912085, 9445.37915465898, 9447.98213063767, 9433.9969625247, 9432.666538461508, 9430.46827201785, 9411.12843237121, 9399.01792776789, 9418.9594202899, 9417.44407766987, 9420.18843137254, 9431.997401448109, 9412.55231372548, 9390.48610086105, 9367.5320620064, 9382.20533956389, 9402.65390645301, 9393.61114088157, 9379.738982469571, 9388.86641181232, 9393.92940149624, 9353.04766700926, 9326.67084229663, 9352.409674449158, 9330.02911504424, 9272.88192751537, 9251.10475122635, 9194.62995803738, 9180.04470164378, 9080.679677771719, 8980.33219258638, 9060.78678330423, 9106.56450678316, 9118.22547735952, 9105.42739700375, 9105.35941762692, 9098.372441721469, 9098.91769230768, 9203.598915162149, 9265.91131659989, 9359.20982805428, 9354.83056164, 9410.907967313578, 9423.77744402989, 9434.32393946729, 9476.368139769731, 9433.332236667571, 9442.97808612438, 9404.31947110331, 9408.653404056171, 9417.806885754559, 9545.16677792808, 9546.08638005783, 9538.3274890447, 9504.5060663842, 9488.31185744014, 9482.95392652125, 9509.428474784741, 9520.309732254009, 9507.27772397095, 9523.207534682071, 9536.08748889872, 9485.71271883296, 9444.241782639001, 9473.2536737332, 9479.47855972264, 9488.883840707951, 9493.196353015479, 9494.949177489201, 9515.42212881162, 9509.31294452884, 9519.133583278051, 9499.64891594393, 9470.077633912759, 9454.359320987629, 9439.69908339077, 9458.94610628024, 9451.71936061381, 9462.133632673771, 9492.10556025369, 9493.958324840749, 9479.9317255892, 9478.43220264313, 9480.8633533333, 9491.07437225208, 9482.51570809876, 9406.65591478697, 9402.36315732761, 9375.02879990496, 9402.048023830308, 9397.934916977321, 9361.00390660886, 9323.23870467172, 9407.06797124973, 9418.115619075841, 9444.08039630115, 9424.95626740045, 9421.89776917397, 9404.399640718579, 9413.328093475251, 9412.47833016185, 9409.717386907942, 9422.49575595239, 9432.899487544491, 9432.20404553418, 9445.44631439897, 9421.47137578172, 9434.55439281292, 9423.31154645127, 9402.62623085543, 9404.53314109164, 9411.802656626529, 9387.1576202532, 9397.367282774409, 9392.327951414041, 9381.72733181303, 9358.16225988707, 9329.52424230465, 9368.52300328827, 9386.07278599788, 9354.139406240542, 9341.81772626227, 9303.39799225663, 9268.12127029124, 9288.27978348625, 9298.560707476128, 9305.711920245409, 9275.465690607729, 9286.0316614223, 9368.873843270841, 9363.678343750009, 9378.189375743199, 9393.811626596551, 9379.07082431308, 9374.60542485842, 9365.48051794175, 9336.838522788192, 9316.273902770241, 9297.583759219571, 9316.569162286429, 9286.05938400678, 9302.310954819259, 9322.28474016851, 9285.562798408491, 9307.66576827755, 9309.22585684063, 9310.948494623559, 9327.88076063604, 9306.99138273837, 9307.077375249492, 9309.079871508391, 9302.48104255319, 9285.78144111192, 9279.45447310245, 9282.850826161779, 9269.60403391885, 9308.03148655503, 9288.33378216913, 9284.25650000001, 9256.727601580122, 9264.787400722, 9266.331012805591, 9279.06711040256, 9297.98883175936, 9310.01252138343, 9330.672885689059, 9364.395964721842, 9357.03421583275, 9361.76106953895, 9365.47324278439, 9380.18944191347, 9364.35774447178, 9371.50681628385, 9377.96583509509, 9386.14441638867, 9371.16711864405, 9363.02378706198, 9366.31686143572, 9344.86650494159, 9347.68457894736, 9345.36837573384, 9338.033763688822, 9342.11285355116, 9356.889190476179, 9354.27238664672, 9345.2243226787, 9317.90842938843, 9324.80441638879, 9322.577139959409, 9321.38415480424, 9299.43296774196, 9286.18294658492, 9304.06460133641, 9338.724096848571, 9368.057639148341, 9370.5661727775, 9388.56786747902, 9423.80850471125, 9411.040682128241, 9418.33894025604, 9413.91962037037, 9418.29183410138, 9422.233966244741, 9443.918449174642, 9475.79067320092, 9477.08976764452, 9468.98769949678, 9477.322044403309, 9555.94948968173, 9585.33537529791, 9587.381347695358, 9571.73501413231, 9607.965887310409, 9703.3355231087, 9664.0764403927, 9680.247357838509, 9691.083178315941, 9637.08983244479, 9641.150809792858, 9637.93405649271, 9633.9550490677, 9626.2235585586, 9621.94810668673, 9638.815151320021, 9616.29365366759, 9599.11665112662, 9593.30353419097, 9619.51540492959, 9632.69313570488, 9632.37889968896, 9649.061399747809, 9666.014229898079, 9668.93833531514, 9655.005829371341, 9661.81489624225, 9658.19772549016, 9649.077051765491, 9631.78589219852, 9631.46296460181, 9608.94695652174, 9628.79367527678, 9627.55884536078, 9643.82587516371, 9644.87331516797, 9643.8571038252, 9641.99028455283, 9649.37375949366, 9566.20985796417, 9515.34669135799, 9503.38260407029, 9406.1173703446, 9357.60371452424, 9346.99378953105, 9387.39719790303, 9322.43364669875, 9266.43268457233, 9274.86448391745, 9290.46432460459, 9307.652004364209, 9307.313372291921, 9301.00851242335, 9258.465853238129, 9271.84343233206, 9292.96221138211, 9267.44382912287, 9275.66441268734, 9248.19792694648, 9090.44887017314, 9110.11242847408, 9138.27674132759, 9171.9149934297, 9157.16728845264, 9260.213848275842, 9274.37485798818, 9259.61577944575, 9264.65866391182, 9193.92835723601, 9204.13689226106, 9236.931705448342, 9226.69848234171, 9251.65678139779, 9273.03365083879, 9259.216507122479, 9276.187084295601, 9281.629598021009, 9304.38187562437, 9252.41665176226, 9246.91674626866, 9238.29945553023, 9263.4171638305, 9238.133614579821, 9233.98283333338, 9235.55604465041, 9222.07776072415, 9207.31116169542, 9131.257173012391, 9123.042021336321, 9146.72167466206, 9213.31606908874, 9171.993572, 9193.467253474499, 9184.80963837999, 9077.89724900133, 9142.62885604369, 9124.07215486067, 9157.115130729051, 9151.60477429987, 9147.020470392901, 9189.09508316893, 9187.56959398498, 9180.167445283041, 9159.797154706079, 9124.63874132496, 9126.16425547714, 9123.72125051418, 9148.623062589599, 9145.51908246859, 9149.78376700177, 9163.61913366335, 9165.96152582155, 9168.648240165641, 9145.87082294268, 9140.73873538788, 9144.75532640947, 9152.117456556009, 9154.84854636593, 9145.12734565307, 9134.849653199859, 9088.26582422914, 9087.36287667335, 9081.64235878129, 8958.831470501658, 8951.77071840457, 8974.10132137628, 9011.1673423527, 8989.67548857698, 8977.34041079815, 8961.00084345484, 8960.57475614843, 8962.29370044055, 8954.676564716321, 8962.74791713963, 8985.7318072289, 8998.57225247523, 9024.814615981371, 9054.090844841601, 9056.127141666659, 9056.70806001394, 9037.627768154542, 9046.94307609283, 9126.53562007587, 9144.40488281248, 9160.10890963657, 9137.966661163871, 9153.98640501628, 9143.85224554457, 9117.620346643309, 9106.3376212766, 9091.27639419089, 9105.00655856732, 9107.490447035942, 9121.477316213499, 9124.67981739547, 9101.60783448957, 9095.54136416858, 9107.57798392502, 9090.546941529241, 9079.242510548509, 9069.47043057995, 9100.678761904759, 9105.207294520551, 9079.96874999997, 9092.96660721693, 9044.069836645771, 9059.811579745301, 9089.10699389907, 9117.164706392809, 9130.09948324458, 9147.524166405059, 9142.57212651894, 9165.70276860702, 9212.82389296192, 9209.42499999998, 9181.94281397887, 9180.40526075367, 9176.817858064509, 9178.438050314458, 9169.634767667021, 9165.25537842192, 9142.3964521521, 9129.67959466664, 9133.912133421421, 9128.625295238071, 9147.71955611394, 9153.35982323232, 9142.053902439058, 9127.881574199359, 9109.77804108206, 9154.28827774582, 9175.091926163741, 9165.90594791993, 9149.77622727269, 9138.82443428187, 9129.36026881717, 9146.353120649641, 9160.99883174794, 9137.57802840164, 9144.30775578664, 9112.79410380407, 9115.57604002858], \"yaxis\": \"y\"}],\n",
       "                        {\"legend\": {\"tracegroupgap\": 0}, \"margin\": {\"t\": 60}, \"template\": {\"data\": {\"bar\": [{\"error_x\": {\"color\": \"#2a3f5f\"}, \"error_y\": {\"color\": \"#2a3f5f\"}, \"marker\": {\"line\": {\"color\": \"#E5ECF6\", \"width\": 0.5}}, \"type\": \"bar\"}], \"barpolar\": [{\"marker\": {\"line\": {\"color\": \"#E5ECF6\", \"width\": 0.5}}, \"type\": \"barpolar\"}], \"carpet\": [{\"aaxis\": {\"endlinecolor\": \"#2a3f5f\", \"gridcolor\": \"white\", \"linecolor\": \"white\", \"minorgridcolor\": \"white\", \"startlinecolor\": \"#2a3f5f\"}, \"baxis\": {\"endlinecolor\": \"#2a3f5f\", \"gridcolor\": \"white\", \"linecolor\": \"white\", \"minorgridcolor\": \"white\", \"startlinecolor\": \"#2a3f5f\"}, \"type\": \"carpet\"}], \"choropleth\": [{\"colorbar\": {\"outlinewidth\": 0, \"ticks\": \"\"}, \"type\": \"choropleth\"}], \"contour\": [{\"colorbar\": {\"outlinewidth\": 0, \"ticks\": \"\"}, \"colorscale\": [[0.0, \"#0d0887\"], [0.1111111111111111, \"#46039f\"], [0.2222222222222222, \"#7201a8\"], [0.3333333333333333, \"#9c179e\"], [0.4444444444444444, \"#bd3786\"], [0.5555555555555556, \"#d8576b\"], [0.6666666666666666, \"#ed7953\"], [0.7777777777777778, \"#fb9f3a\"], [0.8888888888888888, \"#fdca26\"], [1.0, \"#f0f921\"]], \"type\": \"contour\"}], \"contourcarpet\": [{\"colorbar\": {\"outlinewidth\": 0, \"ticks\": \"\"}, \"type\": \"contourcarpet\"}], \"heatmap\": [{\"colorbar\": {\"outlinewidth\": 0, \"ticks\": \"\"}, \"colorscale\": [[0.0, \"#0d0887\"], [0.1111111111111111, \"#46039f\"], [0.2222222222222222, \"#7201a8\"], [0.3333333333333333, \"#9c179e\"], [0.4444444444444444, \"#bd3786\"], [0.5555555555555556, \"#d8576b\"], [0.6666666666666666, \"#ed7953\"], [0.7777777777777778, \"#fb9f3a\"], [0.8888888888888888, \"#fdca26\"], [1.0, \"#f0f921\"]], \"type\": \"heatmap\"}], \"heatmapgl\": [{\"colorbar\": {\"outlinewidth\": 0, \"ticks\": \"\"}, \"colorscale\": [[0.0, \"#0d0887\"], [0.1111111111111111, \"#46039f\"], [0.2222222222222222, \"#7201a8\"], [0.3333333333333333, \"#9c179e\"], [0.4444444444444444, \"#bd3786\"], [0.5555555555555556, \"#d8576b\"], [0.6666666666666666, \"#ed7953\"], [0.7777777777777778, \"#fb9f3a\"], [0.8888888888888888, \"#fdca26\"], [1.0, \"#f0f921\"]], \"type\": \"heatmapgl\"}], \"histogram\": [{\"marker\": {\"colorbar\": {\"outlinewidth\": 0, \"ticks\": \"\"}}, \"type\": \"histogram\"}], \"histogram2d\": [{\"colorbar\": {\"outlinewidth\": 0, \"ticks\": \"\"}, \"colorscale\": [[0.0, \"#0d0887\"], [0.1111111111111111, \"#46039f\"], [0.2222222222222222, \"#7201a8\"], [0.3333333333333333, \"#9c179e\"], [0.4444444444444444, \"#bd3786\"], [0.5555555555555556, \"#d8576b\"], [0.6666666666666666, \"#ed7953\"], [0.7777777777777778, \"#fb9f3a\"], [0.8888888888888888, \"#fdca26\"], [1.0, \"#f0f921\"]], \"type\": \"histogram2d\"}], \"histogram2dcontour\": [{\"colorbar\": {\"outlinewidth\": 0, \"ticks\": \"\"}, \"colorscale\": [[0.0, \"#0d0887\"], [0.1111111111111111, \"#46039f\"], [0.2222222222222222, \"#7201a8\"], [0.3333333333333333, \"#9c179e\"], [0.4444444444444444, \"#bd3786\"], [0.5555555555555556, \"#d8576b\"], [0.6666666666666666, \"#ed7953\"], [0.7777777777777778, \"#fb9f3a\"], [0.8888888888888888, \"#fdca26\"], [1.0, \"#f0f921\"]], \"type\": \"histogram2dcontour\"}], \"mesh3d\": [{\"colorbar\": {\"outlinewidth\": 0, \"ticks\": \"\"}, \"type\": \"mesh3d\"}], \"parcoords\": [{\"line\": {\"colorbar\": {\"outlinewidth\": 0, \"ticks\": \"\"}}, \"type\": \"parcoords\"}], \"pie\": [{\"automargin\": true, \"type\": \"pie\"}], \"scatter\": [{\"marker\": {\"colorbar\": {\"outlinewidth\": 0, \"ticks\": \"\"}}, \"type\": \"scatter\"}], \"scatter3d\": [{\"line\": {\"colorbar\": {\"outlinewidth\": 0, \"ticks\": \"\"}}, \"marker\": {\"colorbar\": {\"outlinewidth\": 0, \"ticks\": \"\"}}, \"type\": \"scatter3d\"}], \"scattercarpet\": [{\"marker\": {\"colorbar\": {\"outlinewidth\": 0, \"ticks\": \"\"}}, \"type\": \"scattercarpet\"}], \"scattergeo\": [{\"marker\": {\"colorbar\": {\"outlinewidth\": 0, \"ticks\": \"\"}}, \"type\": \"scattergeo\"}], \"scattergl\": [{\"marker\": {\"colorbar\": {\"outlinewidth\": 0, \"ticks\": \"\"}}, \"type\": \"scattergl\"}], \"scattermapbox\": [{\"marker\": {\"colorbar\": {\"outlinewidth\": 0, \"ticks\": \"\"}}, \"type\": \"scattermapbox\"}], \"scatterpolar\": [{\"marker\": {\"colorbar\": {\"outlinewidth\": 0, \"ticks\": \"\"}}, \"type\": \"scatterpolar\"}], \"scatterpolargl\": [{\"marker\": {\"colorbar\": {\"outlinewidth\": 0, \"ticks\": \"\"}}, \"type\": \"scatterpolargl\"}], \"scatterternary\": [{\"marker\": {\"colorbar\": {\"outlinewidth\": 0, \"ticks\": \"\"}}, \"type\": \"scatterternary\"}], \"surface\": [{\"colorbar\": {\"outlinewidth\": 0, \"ticks\": \"\"}, \"colorscale\": [[0.0, \"#0d0887\"], [0.1111111111111111, \"#46039f\"], [0.2222222222222222, \"#7201a8\"], [0.3333333333333333, \"#9c179e\"], [0.4444444444444444, \"#bd3786\"], [0.5555555555555556, \"#d8576b\"], [0.6666666666666666, \"#ed7953\"], [0.7777777777777778, \"#fb9f3a\"], [0.8888888888888888, \"#fdca26\"], [1.0, \"#f0f921\"]], \"type\": \"surface\"}], \"table\": [{\"cells\": {\"fill\": {\"color\": \"#EBF0F8\"}, \"line\": {\"color\": \"white\"}}, \"header\": {\"fill\": {\"color\": \"#C8D4E3\"}, \"line\": {\"color\": \"white\"}}, \"type\": \"table\"}]}, \"layout\": {\"annotationdefaults\": {\"arrowcolor\": \"#2a3f5f\", \"arrowhead\": 0, \"arrowwidth\": 1}, \"coloraxis\": {\"colorbar\": {\"outlinewidth\": 0, \"ticks\": \"\"}}, \"colorscale\": {\"diverging\": [[0, \"#8e0152\"], [0.1, \"#c51b7d\"], [0.2, \"#de77ae\"], [0.3, \"#f1b6da\"], [0.4, \"#fde0ef\"], [0.5, \"#f7f7f7\"], [0.6, \"#e6f5d0\"], [0.7, \"#b8e186\"], [0.8, \"#7fbc41\"], [0.9, \"#4d9221\"], [1, \"#276419\"]], \"sequential\": [[0.0, \"#0d0887\"], [0.1111111111111111, \"#46039f\"], [0.2222222222222222, \"#7201a8\"], [0.3333333333333333, \"#9c179e\"], [0.4444444444444444, \"#bd3786\"], [0.5555555555555556, \"#d8576b\"], [0.6666666666666666, \"#ed7953\"], [0.7777777777777778, \"#fb9f3a\"], [0.8888888888888888, \"#fdca26\"], [1.0, \"#f0f921\"]], \"sequentialminus\": [[0.0, \"#0d0887\"], [0.1111111111111111, \"#46039f\"], [0.2222222222222222, \"#7201a8\"], [0.3333333333333333, \"#9c179e\"], [0.4444444444444444, \"#bd3786\"], [0.5555555555555556, \"#d8576b\"], [0.6666666666666666, \"#ed7953\"], [0.7777777777777778, \"#fb9f3a\"], [0.8888888888888888, \"#fdca26\"], [1.0, \"#f0f921\"]]}, \"colorway\": [\"#636efa\", \"#EF553B\", \"#00cc96\", \"#ab63fa\", \"#FFA15A\", \"#19d3f3\", \"#FF6692\", \"#B6E880\", \"#FF97FF\", \"#FECB52\"], \"font\": {\"color\": \"#2a3f5f\"}, \"geo\": {\"bgcolor\": \"white\", \"lakecolor\": \"white\", \"landcolor\": \"#E5ECF6\", \"showlakes\": true, \"showland\": true, \"subunitcolor\": \"white\"}, \"hoverlabel\": {\"align\": \"left\"}, \"hovermode\": \"closest\", \"mapbox\": {\"style\": \"light\"}, \"paper_bgcolor\": \"white\", \"plot_bgcolor\": \"#E5ECF6\", \"polar\": {\"angularaxis\": {\"gridcolor\": \"white\", \"linecolor\": \"white\", \"ticks\": \"\"}, \"bgcolor\": \"#E5ECF6\", \"radialaxis\": {\"gridcolor\": \"white\", \"linecolor\": \"white\", \"ticks\": \"\"}}, \"scene\": {\"xaxis\": {\"backgroundcolor\": \"#E5ECF6\", \"gridcolor\": \"white\", \"gridwidth\": 2, \"linecolor\": \"white\", \"showbackground\": true, \"ticks\": \"\", \"zerolinecolor\": \"white\"}, \"yaxis\": {\"backgroundcolor\": \"#E5ECF6\", \"gridcolor\": \"white\", \"gridwidth\": 2, \"linecolor\": \"white\", \"showbackground\": true, \"ticks\": \"\", \"zerolinecolor\": \"white\"}, \"zaxis\": {\"backgroundcolor\": \"#E5ECF6\", \"gridcolor\": \"white\", \"gridwidth\": 2, \"linecolor\": \"white\", \"showbackground\": true, \"ticks\": \"\", \"zerolinecolor\": \"white\"}}, \"shapedefaults\": {\"line\": {\"color\": \"#2a3f5f\"}}, \"ternary\": {\"aaxis\": {\"gridcolor\": \"white\", \"linecolor\": \"white\", \"ticks\": \"\"}, \"baxis\": {\"gridcolor\": \"white\", \"linecolor\": \"white\", \"ticks\": \"\"}, \"bgcolor\": \"#E5ECF6\", \"caxis\": {\"gridcolor\": \"white\", \"linecolor\": \"white\", \"ticks\": \"\"}}, \"title\": {\"x\": 0.05}, \"xaxis\": {\"automargin\": true, \"gridcolor\": \"white\", \"linecolor\": \"white\", \"ticks\": \"\", \"title\": {\"standoff\": 15}, \"zerolinecolor\": \"white\", \"zerolinewidth\": 2}, \"yaxis\": {\"automargin\": true, \"gridcolor\": \"white\", \"linecolor\": \"white\", \"ticks\": \"\", \"title\": {\"standoff\": 15}, \"zerolinecolor\": \"white\", \"zerolinewidth\": 2}}}, \"xaxis\": {\"anchor\": \"y\", \"domain\": [0.0, 1.0], \"title\": {\"text\": \"ds\"}}, \"yaxis\": {\"anchor\": \"x\", \"domain\": [0.0, 1.0], \"title\": {\"text\": \"y\"}}},\n",
       "                        {\"responsive\": true}\n",
       "                    ).then(function(){\n",
       "                            \n",
       "var gd = document.getElementById('1bff2869-ad50-4740-ab21-4b2d67cae6a5');\n",
       "var x = new MutationObserver(function (mutations, observer) {{\n",
       "        var display = window.getComputedStyle(gd).display;\n",
       "        if (!display || display === 'none') {{\n",
       "            console.log([gd, 'removed!']);\n",
       "            Plotly.purge(gd);\n",
       "            observer.disconnect();\n",
       "        }}\n",
       "}});\n",
       "\n",
       "// Listen for the removal of the full notebook cells\n",
       "var notebookContainer = gd.closest('#notebook-container');\n",
       "if (notebookContainer) {{\n",
       "    x.observe(notebookContainer, {childList: true});\n",
       "}}\n",
       "\n",
       "// Listen for the clearing of the current output cell\n",
       "var outputEl = gd.closest('.output');\n",
       "if (outputEl) {{\n",
       "    x.observe(outputEl, {childList: true});\n",
       "}}\n",
       "\n",
       "                        })\n",
       "                };\n",
       "                });\n",
       "            </script>\n",
       "        </div>"
      ]
     },
     "metadata": {},
     "output_type": "display_data"
    }
   ],
   "source": [
    "import plotly.express as px\n",
    "df_chart = df\n",
    "df_chart.ds = pd.to_datetime(df_chart.ds, unit=\"s\")\n",
    "btc_chart = px.line(df_chart, x='ds', y='y')\n",
    "btc_chart.show()"
   ]
  },
  {
   "cell_type": "code",
   "execution_count": 107,
   "metadata": {},
   "outputs": [
    {
     "name": "stdout",
     "output_type": "stream",
     "text": [
      "<class 'pandas.core.frame.DataFrame'>\n",
      "Int64Index: 31 entries, 0 to 30\n",
      "Data columns (total 2 columns):\n",
      " #   Column  Non-Null Count  Dtype         \n",
      "---  ------  --------------  -----         \n",
      " 0   ds      31 non-null     datetime64[ns]\n",
      " 1   y       31 non-null     float64       \n",
      "dtypes: datetime64[ns](1), float64(1)\n",
      "memory usage: 744.0 bytes\n"
     ]
    }
   ],
   "source": [
    "df_list = []\n",
    "for i in forecast_data.ds:\n",
    "    i = i.strftime('%Y-%m-%d')\n",
    "    df_list.append(i)\n",
    "forecast_data.ds = df_list\n",
    "forecast_data.ds = pd.to_datetime(forecast_data.ds)\n",
    "forecast_data = forecast_data.groupby('ds',as_index=False)['y'].mean()\n",
    "forecast_data.info()"
   ]
  },
  {
   "cell_type": "code",
   "execution_count": 108,
   "metadata": {},
   "outputs": [
    {
     "data": {
      "text/html": [
       "<div>\n",
       "<style scoped>\n",
       "    .dataframe tbody tr th:only-of-type {\n",
       "        vertical-align: middle;\n",
       "    }\n",
       "\n",
       "    .dataframe tbody tr th {\n",
       "        vertical-align: top;\n",
       "    }\n",
       "\n",
       "    .dataframe thead th {\n",
       "        text-align: right;\n",
       "    }\n",
       "</style>\n",
       "<table border=\"1\" class=\"dataframe\">\n",
       "  <thead>\n",
       "    <tr style=\"text-align: right;\">\n",
       "      <th></th>\n",
       "      <th>ds</th>\n",
       "      <th>y</th>\n",
       "    </tr>\n",
       "  </thead>\n",
       "  <tbody>\n",
       "    <tr>\n",
       "      <th>0</th>\n",
       "      <td>2020-06-01</td>\n",
       "      <td>9596.571415</td>\n",
       "    </tr>\n",
       "    <tr>\n",
       "      <th>1</th>\n",
       "      <td>2020-06-02</td>\n",
       "      <td>9864.988138</td>\n",
       "    </tr>\n",
       "    <tr>\n",
       "      <th>2</th>\n",
       "      <td>2020-06-03</td>\n",
       "      <td>9550.489496</td>\n",
       "    </tr>\n",
       "    <tr>\n",
       "      <th>3</th>\n",
       "      <td>2020-06-04</td>\n",
       "      <td>9699.339310</td>\n",
       "    </tr>\n",
       "    <tr>\n",
       "      <th>4</th>\n",
       "      <td>2020-06-05</td>\n",
       "      <td>9737.678075</td>\n",
       "    </tr>\n",
       "  </tbody>\n",
       "</table>\n",
       "</div>"
      ],
      "text/plain": [
       "          ds            y\n",
       "0 2020-06-01  9596.571415\n",
       "1 2020-06-02  9864.988138\n",
       "2 2020-06-03  9550.489496\n",
       "3 2020-06-04  9699.339310\n",
       "4 2020-06-05  9737.678075"
      ]
     },
     "execution_count": 108,
     "metadata": {},
     "output_type": "execute_result"
    }
   ],
   "source": [
    "forecast_data.head()"
   ]
  },
  {
   "cell_type": "code",
   "execution_count": 74,
   "metadata": {},
   "outputs": [
    {
     "name": "stderr",
     "output_type": "stream",
     "text": [
      "INFO:fbprophet:Disabling yearly seasonality. Run prophet with yearly_seasonality=True to override this.\n"
     ]
    }
   ],
   "source": [
    "m = Prophet(weekly_seasonality=True)\n",
    "m.fit(forecast_data);\n",
    "\n",
    "future = m.make_future_dataframe(periods=96, freq='H')\n",
    "future.tail()\n",
    "\n",
    "forecast = m.predict(future)"
   ]
  },
  {
   "cell_type": "code",
   "execution_count": 75,
   "metadata": {},
   "outputs": [
    {
     "data": {
      "image/png": "[encoded data removed]",
      "text/plain": [
       "<Figure size 720x432 with 1 Axes>"
      ]
     },
     "execution_count": 75,
     "metadata": {},
     "output_type": "execute_result"
    },
    {
     "data": {
      "image/png": "[encoded data removed]",
      "text/plain": [
       "<Figure size 720x432 with 1 Axes>"
      ]
     },
     "metadata": {},
     "output_type": "display_data"
    }
   ],
   "source": [
    "m.plot(forecast)"
   ]
  },
  {
   "cell_type": "code",
   "execution_count": 76,
   "metadata": {
    "scrolled": true
   },
   "outputs": [
    {
     "data": {
      "application/vnd.plotly.v1+json": {
       "config": {
        "plotlyServerURL": "https://plot.ly"
       },
       "data": [
        {
         "mode": "lines",
         "name": "Predictions",
         "type": "scatter",
         "x": [
          "2020-07-01T03:00:00",
          "2020-07-01T04:00:00",
          "2020-07-01T05:00:00",
          "2020-07-01T06:00:00",
          "2020-07-01T07:00:00",
          "2020-07-01T08:00:00",
          "2020-07-01T09:00:00",
          "2020-07-01T10:00:00",
          "2020-07-01T11:00:00",
          "2020-07-01T12:00:00",
          "2020-07-01T13:00:00",
          "2020-07-01T14:00:00",
          "2020-07-01T15:00:00",
          "2020-07-01T16:00:00",
          "2020-07-01T17:00:00",
          "2020-07-01T18:00:00",
          "2020-07-01T19:00:00",
          "2020-07-01T20:00:00",
          "2020-07-01T21:00:00",
          "2020-07-01T22:00:00",
          "2020-07-01T23:00:00",
          "2020-07-02T00:00:00",
          "2020-07-02T01:00:00",
          "2020-07-02T02:00:00",
          "2020-07-02T03:00:00",
          "2020-07-02T04:00:00",
          "2020-07-02T05:00:00",
          "2020-07-02T06:00:00",
          "2020-07-02T07:00:00",
          "2020-07-02T08:00:00",
          "2020-07-02T09:00:00",
          "2020-07-02T10:00:00",
          "2020-07-02T11:00:00",
          "2020-07-02T12:00:00",
          "2020-07-02T13:00:00",
          "2020-07-02T14:00:00",
          "2020-07-02T15:00:00",
          "2020-07-02T16:00:00",
          "2020-07-02T17:00:00",
          "2020-07-02T18:00:00",
          "2020-07-02T19:00:00",
          "2020-07-02T20:00:00",
          "2020-07-02T21:00:00",
          "2020-07-02T22:00:00",
          "2020-07-02T23:00:00",
          "2020-07-03T00:00:00",
          "2020-07-03T01:00:00",
          "2020-07-03T02:00:00",
          "2020-07-03T03:00:00",
          "2020-07-03T04:00:00",
          "2020-07-03T05:00:00",
          "2020-07-03T06:00:00",
          "2020-07-03T07:00:00",
          "2020-07-03T08:00:00",
          "2020-07-03T09:00:00",
          "2020-07-03T10:00:00",
          "2020-07-03T11:00:00",
          "2020-07-03T12:00:00",
          "2020-07-03T13:00:00",
          "2020-07-03T14:00:00",
          "2020-07-03T15:00:00",
          "2020-07-03T16:00:00",
          "2020-07-03T17:00:00",
          "2020-07-03T18:00:00",
          "2020-07-03T19:00:00",
          "2020-07-03T20:00:00",
          "2020-07-03T21:00:00",
          "2020-07-03T22:00:00",
          "2020-07-03T23:00:00",
          "2020-07-04T00:00:00",
          "2020-07-04T01:00:00",
          "2020-07-04T02:00:00",
          "2020-07-04T03:00:00",
          "2020-07-04T04:00:00",
          "2020-07-04T05:00:00",
          "2020-07-04T06:00:00",
          "2020-07-04T07:00:00",
          "2020-07-04T08:00:00",
          "2020-07-04T09:00:00",
          "2020-07-04T10:00:00",
          "2020-07-04T11:00:00",
          "2020-07-04T12:00:00",
          "2020-07-04T13:00:00",
          "2020-07-04T14:00:00",
          "2020-07-04T15:00:00",
          "2020-07-04T16:00:00",
          "2020-07-04T17:00:00",
          "2020-07-04T18:00:00",
          "2020-07-04T19:00:00",
          "2020-07-04T20:00:00",
          "2020-07-04T21:00:00",
          "2020-07-04T22:00:00",
          "2020-07-04T23:00:00",
          "2020-07-05T00:00:00",
          "2020-07-05T01:00:00",
          "2020-07-05T02:00:00"
         ],
         "y": [
          9104.780630781448,
          9093.960680177845,
          9084.578534662038,
          9075.025278973433,
          9065.006240548071,
          9056.021888130468,
          9049.521349160887,
          9044.64650547377,
          9038.088717178292,
          9026.588136946333,
          9009.938446326512,
          8991.675385205526,
          8976.67411491134,
          8967.722565159314,
          8964.039078967293,
          8962.81131787395,
          8962.011645654125,
          8961.72281977457,
          8962.902210130027,
          8965.158456794199,
          8966.05965781817,
          8962.841831347945,
          8954.861379591988,
          8944.310048134024,
          8934.416414197667,
          8926.858535587578,
          8920.871925393592,
          8914.787143689846,
          8908.251560127332,
          8902.710954910299,
          8899.56368343418,
          8897.905356345493,
          8894.386077989466,
          8885.710199499137,
          8871.641413189685,
          8855.691555503601,
          8842.718156251267,
          8835.497882720112,
          8833.244192361057,
          8833.146157098841,
          8833.183679343798,
          8833.452931955377,
          8834.930245787771,
          8837.248361655633,
          8838.004143836435,
          8834.466506314235,
          8826.028287024777,
          8814.920572000387,
          8804.413511992874,
          8796.228272718732,
          8789.644293560035,
          8783.036155894113,
          8776.09462496383,
          8770.307542721019,
          8767.113306676736,
          8765.644895949272,
          8762.58649646267,
          8754.672689976614,
          8741.693041364852,
          8727.180458376013,
          8716.008367729848,
          8710.963861314023,
          8711.265130343112,
          8714.100153633159,
          8717.441862063044,
          8721.373612333677,
          8726.853193374889,
          8733.489280814734,
          8738.849434074606,
          8740.168383664975,
          8736.800339252935,
          8730.93381472854,
          8725.793006278644,
          8723.050357185431,
          8721.934476061419,
          8720.767700916751,
          8719.187863683377,
          8718.629922964796,
          8720.48019009269,
          8723.82109959356,
          8725.288565933615,
          8721.571881246324,
          8712.418978738751,
          8701.32542667777,
          8693.132187969733,
          8690.599290879138,
          8692.923721257464,
          8697.27849577366,
          8701.628132460528,
          8706.054346943203,
          8711.52019399395,
          8717.646567241798,
          8722.020150171784,
          8721.901565711112,
          8716.67745589002,
          8708.574989899307
         ]
        },
        {
         "mode": "lines",
         "name": "Actual data",
         "type": "scatter",
         "x": [
          "2020-06-01T04:00:00",
          "2020-06-01T05:00:00",
          "2020-06-01T06:00:00",
          "2020-06-01T07:00:00",
          "2020-06-01T08:00:00",
          "2020-06-01T09:00:00",
          "2020-06-01T10:00:00",
          "2020-06-01T11:00:00",
          "2020-06-01T12:00:00",
          "2020-06-01T13:00:00",
          "2020-06-01T14:00:00",
          "2020-06-01T15:00:00",
          "2020-06-01T16:00:00",
          "2020-06-01T17:00:00",
          "2020-06-01T18:00:00",
          "2020-06-01T19:00:00",
          "2020-06-01T20:00:00",
          "2020-06-01T21:00:00",
          "2020-06-01T22:00:00",
          "2020-06-01T23:00:00",
          "2020-06-02T00:00:00",
          "2020-06-02T01:00:00",
          "2020-06-02T02:00:00",
          "2020-06-02T03:00:00",
          "2020-06-02T04:00:00",
          "2020-06-02T05:00:00",
          "2020-06-02T06:00:00",
          "2020-06-02T07:00:00",
          "2020-06-02T08:00:00",
          "2020-06-02T09:00:00",
          "2020-06-02T10:00:00",
          "2020-06-02T11:00:00",
          "2020-06-02T12:00:00",
          "2020-06-02T13:00:00",
          "2020-06-02T14:00:00",
          "2020-06-02T15:00:00",
          "2020-06-02T16:00:00",
          "2020-06-02T17:00:00",
          "2020-06-02T18:00:00",
          "2020-06-02T19:00:00",
          "2020-06-02T20:00:00",
          "2020-06-02T21:00:00",
          "2020-06-02T22:00:00",
          "2020-06-02T23:00:00",
          "2020-06-03T00:00:00",
          "2020-06-03T01:00:00",
          "2020-06-03T02:00:00",
          "2020-06-03T03:00:00",
          "2020-06-03T04:00:00",
          "2020-06-03T05:00:00",
          "2020-06-03T06:00:00",
          "2020-06-03T07:00:00",
          "2020-06-03T08:00:00",
          "2020-06-03T09:00:00",
          "2020-06-03T10:00:00",
          "2020-06-03T11:00:00",
          "2020-06-03T12:00:00",
          "2020-06-03T13:00:00",
          "2020-06-03T14:00:00",
          "2020-06-03T15:00:00",
          "2020-06-03T16:00:00",
          "2020-06-03T17:00:00",
          "2020-06-03T18:00:00",
          "2020-06-03T19:00:00",
          "2020-06-03T20:00:00",
          "2020-06-03T21:00:00",
          "2020-06-03T22:00:00",
          "2020-06-03T23:00:00",
          "2020-06-04T00:00:00",
          "2020-06-04T01:00:00",
          "2020-06-04T02:00:00",
          "2020-06-04T03:00:00",
          "2020-06-04T04:00:00",
          "2020-06-04T05:00:00",
          "2020-06-04T06:00:00",
          "2020-06-04T07:00:00",
          "2020-06-04T08:00:00",
          "2020-06-04T09:00:00",
          "2020-06-04T10:00:00",
          "2020-06-04T11:00:00",
          "2020-06-04T12:00:00",
          "2020-06-04T13:00:00",
          "2020-06-04T14:00:00",
          "2020-06-04T15:00:00",
          "2020-06-04T16:00:00",
          "2020-06-04T17:00:00",
          "2020-06-04T18:00:00",
          "2020-06-04T19:00:00",
          "2020-06-04T20:00:00",
          "2020-06-04T21:00:00",
          "2020-06-04T22:00:00",
          "2020-06-04T23:00:00",
          "2020-06-05T00:00:00",
          "2020-06-05T01:00:00",
          "2020-06-05T02:00:00",
          "2020-06-05T03:00:00",
          "2020-06-05T04:00:00",
          "2020-06-05T05:00:00",
          "2020-06-05T06:00:00",
          "2020-06-05T07:00:00",
          "2020-06-05T08:00:00",
          "2020-06-05T09:00:00",
          "2020-06-05T10:00:00",
          "2020-06-05T11:00:00",
          "2020-06-05T12:00:00",
          "2020-06-05T13:00:00",
          "2020-06-05T14:00:00",
          "2020-06-05T15:00:00",
          "2020-06-05T16:00:00",
          "2020-06-05T17:00:00",
          "2020-06-05T18:00:00",
          "2020-06-05T19:00:00",
          "2020-06-05T20:00:00",
          "2020-06-05T21:00:00",
          "2020-06-05T22:00:00",
          "2020-06-05T23:00:00",
          "2020-06-06T00:00:00",
          "2020-06-06T01:00:00",
          "2020-06-06T02:00:00",
          "2020-06-06T03:00:00",
          "2020-06-06T04:00:00",
          "2020-06-06T05:00:00",
          "2020-06-06T06:00:00",
          "2020-06-06T07:00:00",
          "2020-06-06T08:00:00",
          "2020-06-06T09:00:00",
          "2020-06-06T10:00:00",
          "2020-06-06T11:00:00",
          "2020-06-06T12:00:00",
          "2020-06-06T13:00:00",
          "2020-06-06T14:00:00",
          "2020-06-06T15:00:00",
          "2020-06-06T16:00:00",
          "2020-06-06T17:00:00",
          "2020-06-06T18:00:00",
          "2020-06-06T19:00:00",
          "2020-06-06T20:00:00",
          "2020-06-06T21:00:00",
          "2020-06-06T22:00:00",
          "2020-06-06T23:00:00",
          "2020-06-07T00:00:00",
          "2020-06-07T01:00:00",
          "2020-06-07T02:00:00",
          "2020-06-07T03:00:00",
          "2020-06-07T04:00:00",
          "2020-06-07T05:00:00",
          "2020-06-07T06:00:00",
          "2020-06-07T07:00:00",
          "2020-06-07T08:00:00",
          "2020-06-07T09:00:00",
          "2020-06-07T10:00:00",
          "2020-06-07T11:00:00",
          "2020-06-07T12:00:00",
          "2020-06-07T13:00:00",
          "2020-06-07T14:00:00",
          "2020-06-07T15:00:00",
          "2020-06-07T16:00:00",
          "2020-06-07T17:00:00",
          "2020-06-07T18:00:00",
          "2020-06-07T19:00:00",
          "2020-06-07T20:00:00",
          "2020-06-07T21:00:00",
          "2020-06-07T22:00:00",
          "2020-06-07T23:00:00",
          "2020-06-08T00:00:00",
          "2020-06-08T01:00:00",
          "2020-06-08T02:00:00",
          "2020-06-08T03:00:00",
          "2020-06-08T04:00:00",
          "2020-06-08T05:00:00",
          "2020-06-08T06:00:00",
          "2020-06-08T07:00:00",
          "2020-06-08T08:00:00",
          "2020-06-08T09:00:00",
          "2020-06-08T10:00:00",
          "2020-06-08T11:00:00",
          "2020-06-08T12:00:00",
          "2020-06-08T13:00:00",
          "2020-06-08T14:00:00",
          "2020-06-08T15:00:00",
          "2020-06-08T16:00:00",
          "2020-06-08T17:00:00",
          "2020-06-08T18:00:00",
          "2020-06-08T19:00:00",
          "2020-06-08T20:00:00",
          "2020-06-08T21:00:00",
          "2020-06-08T22:00:00",
          "2020-06-08T23:00:00",
          "2020-06-09T00:00:00",
          "2020-06-09T01:00:00",
          "2020-06-09T02:00:00",
          "2020-06-09T03:00:00",
          "2020-06-09T04:00:00",
          "2020-06-09T05:00:00",
          "2020-06-09T06:00:00",
          "2020-06-09T07:00:00",
          "2020-06-09T08:00:00",
          "2020-06-09T09:00:00",
          "2020-06-09T10:00:00",
          "2020-06-09T11:00:00",
          "2020-06-09T12:00:00",
          "2020-06-09T13:00:00",
          "2020-06-09T14:00:00",
          "2020-06-09T15:00:00",
          "2020-06-09T16:00:00",
          "2020-06-09T17:00:00",
          "2020-06-09T18:00:00",
          "2020-06-09T19:00:00",
          "2020-06-09T20:00:00",
          "2020-06-09T21:00:00",
          "2020-06-09T22:00:00",
          "2020-06-09T23:00:00",
          "2020-06-10T00:00:00",
          "2020-06-10T01:00:00",
          "2020-06-10T02:00:00",
          "2020-06-10T03:00:00",
          "2020-06-10T04:00:00",
          "2020-06-10T05:00:00",
          "2020-06-10T06:00:00",
          "2020-06-10T07:00:00",
          "2020-06-10T08:00:00",
          "2020-06-10T09:00:00",
          "2020-06-10T10:00:00",
          "2020-06-10T11:00:00",
          "2020-06-10T12:00:00",
          "2020-06-10T13:00:00",
          "2020-06-10T14:00:00",
          "2020-06-10T15:00:00",
          "2020-06-10T16:00:00",
          "2020-06-10T17:00:00",
          "2020-06-10T18:00:00",
          "2020-06-10T19:00:00",
          "2020-06-10T20:00:00",
          "2020-06-10T21:00:00",
          "2020-06-10T22:00:00",
          "2020-06-10T23:00:00",
          "2020-06-11T00:00:00",
          "2020-06-11T01:00:00",
          "2020-06-11T02:00:00",
          "2020-06-11T03:00:00",
          "2020-06-11T04:00:00",
          "2020-06-11T05:00:00",
          "2020-06-11T06:00:00",
          "2020-06-11T07:00:00",
          "2020-06-11T08:00:00",
          "2020-06-11T09:00:00",
          "2020-06-11T10:00:00",
          "2020-06-11T11:00:00",
          "2020-06-11T12:00:00",
          "2020-06-11T13:00:00",
          "2020-06-11T14:00:00",
          "2020-06-11T15:00:00",
          "2020-06-11T16:00:00",
          "2020-06-11T17:00:00",
          "2020-06-11T18:00:00",
          "2020-06-11T19:00:00",
          "2020-06-11T20:00:00",
          "2020-06-11T21:00:00",
          "2020-06-11T22:00:00",
          "2020-06-11T23:00:00",
          "2020-06-12T00:00:00",
          "2020-06-12T01:00:00",
          "2020-06-12T02:00:00",
          "2020-06-12T03:00:00",
          "2020-06-12T04:00:00",
          "2020-06-12T05:00:00",
          "2020-06-12T06:00:00",
          "2020-06-12T07:00:00",
          "2020-06-12T08:00:00",
          "2020-06-12T09:00:00",
          "2020-06-12T10:00:00",
          "2020-06-12T11:00:00",
          "2020-06-12T12:00:00",
          "2020-06-12T13:00:00",
          "2020-06-12T14:00:00",
          "2020-06-12T15:00:00",
          "2020-06-12T16:00:00",
          "2020-06-12T17:00:00",
          "2020-06-12T18:00:00",
          "2020-06-12T19:00:00",
          "2020-06-12T20:00:00",
          "2020-06-12T21:00:00",
          "2020-06-12T22:00:00",
          "2020-06-12T23:00:00",
          "2020-06-13T00:00:00",
          "2020-06-13T01:00:00",
          "2020-06-13T02:00:00",
          "2020-06-13T03:00:00",
          "2020-06-13T04:00:00",
          "2020-06-13T05:00:00",
          "2020-06-13T06:00:00",
          "2020-06-13T07:00:00",
          "2020-06-13T08:00:00",
          "2020-06-13T09:00:00",
          "2020-06-13T10:00:00",
          "2020-06-13T11:00:00",
          "2020-06-13T12:00:00",
          "2020-06-13T13:00:00",
          "2020-06-13T14:00:00",
          "2020-06-13T15:00:00",
          "2020-06-13T16:00:00",
          "2020-06-13T17:00:00",
          "2020-06-13T18:00:00",
          "2020-06-13T19:00:00",
          "2020-06-13T20:00:00",
          "2020-06-13T21:00:00",
          "2020-06-13T22:00:00",
          "2020-06-13T23:00:00",
          "2020-06-14T00:00:00",
          "2020-06-14T01:00:00",
          "2020-06-14T02:00:00",
          "2020-06-14T03:00:00",
          "2020-06-14T04:00:00",
          "2020-06-14T05:00:00",
          "2020-06-14T06:00:00",
          "2020-06-14T07:00:00",
          "2020-06-14T08:00:00",
          "2020-06-14T09:00:00",
          "2020-06-14T10:00:00",
          "2020-06-14T11:00:00",
          "2020-06-14T12:00:00",
          "2020-06-14T13:00:00",
          "2020-06-14T14:00:00",
          "2020-06-14T15:00:00",
          "2020-06-14T16:00:00",
          "2020-06-14T17:00:00",
          "2020-06-14T18:00:00",
          "2020-06-14T19:00:00",
          "2020-06-14T20:00:00",
          "2020-06-14T21:00:00",
          "2020-06-14T22:00:00",
          "2020-06-14T23:00:00",
          "2020-06-15T00:00:00",
          "2020-06-15T01:00:00",
          "2020-06-15T02:00:00",
          "2020-06-15T03:00:00",
          "2020-06-15T04:00:00",
          "2020-06-15T05:00:00",
          "2020-06-15T06:00:00",
          "2020-06-15T07:00:00",
          "2020-06-15T08:00:00",
          "2020-06-15T09:00:00",
          "2020-06-15T10:00:00",
          "2020-06-15T11:00:00",
          "2020-06-15T12:00:00",
          "2020-06-15T13:00:00",
          "2020-06-15T14:00:00",
          "2020-06-15T15:00:00",
          "2020-06-15T16:00:00",
          "2020-06-15T17:00:00",
          "2020-06-15T18:00:00",
          "2020-06-15T19:00:00",
          "2020-06-15T20:00:00",
          "2020-06-15T21:00:00",
          "2020-06-15T22:00:00",
          "2020-06-15T23:00:00",
          "2020-06-16T00:00:00",
          "2020-06-16T01:00:00",
          "2020-06-16T02:00:00",
          "2020-06-16T03:00:00",
          "2020-06-16T04:00:00",
          "2020-06-16T05:00:00",
          "2020-06-16T06:00:00",
          "2020-06-16T07:00:00",
          "2020-06-16T08:00:00",
          "2020-06-16T09:00:00",
          "2020-06-16T10:00:00",
          "2020-06-16T11:00:00",
          "2020-06-16T12:00:00",
          "2020-06-16T13:00:00",
          "2020-06-16T14:00:00",
          "2020-06-16T15:00:00",
          "2020-06-16T16:00:00",
          "2020-06-16T17:00:00",
          "2020-06-16T18:00:00",
          "2020-06-16T19:00:00",
          "2020-06-16T20:00:00",
          "2020-06-16T21:00:00",
          "2020-06-16T22:00:00",
          "2020-06-16T23:00:00",
          "2020-06-17T00:00:00",
          "2020-06-17T01:00:00",
          "2020-06-17T02:00:00",
          "2020-06-17T03:00:00",
          "2020-06-17T04:00:00",
          "2020-06-17T05:00:00",
          "2020-06-17T06:00:00",
          "2020-06-17T07:00:00",
          "2020-06-17T08:00:00",
          "2020-06-17T09:00:00",
          "2020-06-17T10:00:00",
          "2020-06-17T11:00:00",
          "2020-06-17T12:00:00",
          "2020-06-17T13:00:00",
          "2020-06-17T14:00:00",
          "2020-06-17T15:00:00",
          "2020-06-17T16:00:00",
          "2020-06-17T17:00:00",
          "2020-06-17T18:00:00",
          "2020-06-17T19:00:00",
          "2020-06-17T20:00:00",
          "2020-06-17T21:00:00",
          "2020-06-17T22:00:00",
          "2020-06-17T23:00:00",
          "2020-06-18T00:00:00",
          "2020-06-18T01:00:00",
          "2020-06-18T02:00:00",
          "2020-06-18T03:00:00",
          "2020-06-18T04:00:00",
          "2020-06-18T05:00:00",
          "2020-06-18T06:00:00",
          "2020-06-18T07:00:00",
          "2020-06-18T08:00:00",
          "2020-06-18T09:00:00",
          "2020-06-18T10:00:00",
          "2020-06-18T11:00:00",
          "2020-06-18T12:00:00",
          "2020-06-18T13:00:00",
          "2020-06-18T14:00:00",
          "2020-06-18T15:00:00",
          "2020-06-18T16:00:00",
          "2020-06-18T17:00:00",
          "2020-06-18T18:00:00",
          "2020-06-18T19:00:00",
          "2020-06-18T20:00:00",
          "2020-06-18T21:00:00",
          "2020-06-18T22:00:00",
          "2020-06-18T23:00:00",
          "2020-06-19T00:00:00",
          "2020-06-19T01:00:00",
          "2020-06-19T02:00:00",
          "2020-06-19T03:00:00",
          "2020-06-19T04:00:00",
          "2020-06-19T05:00:00",
          "2020-06-19T06:00:00",
          "2020-06-19T07:00:00",
          "2020-06-19T08:00:00",
          "2020-06-19T09:00:00",
          "2020-06-19T10:00:00",
          "2020-06-19T11:00:00",
          "2020-06-19T12:00:00",
          "2020-06-19T13:00:00",
          "2020-06-19T14:00:00",
          "2020-06-19T15:00:00",
          "2020-06-19T16:00:00",
          "2020-06-19T17:00:00",
          "2020-06-19T18:00:00",
          "2020-06-19T19:00:00",
          "2020-06-19T20:00:00",
          "2020-06-19T21:00:00",
          "2020-06-19T22:00:00",
          "2020-06-19T23:00:00",
          "2020-06-20T00:00:00",
          "2020-06-20T01:00:00",
          "2020-06-20T02:00:00",
          "2020-06-20T03:00:00",
          "2020-06-20T04:00:00",
          "2020-06-20T05:00:00",
          "2020-06-20T06:00:00",
          "2020-06-20T07:00:00",
          "2020-06-20T08:00:00",
          "2020-06-20T09:00:00",
          "2020-06-20T10:00:00",
          "2020-06-20T11:00:00",
          "2020-06-20T12:00:00",
          "2020-06-20T13:00:00",
          "2020-06-20T14:00:00",
          "2020-06-20T15:00:00",
          "2020-06-20T16:00:00",
          "2020-06-20T17:00:00",
          "2020-06-20T18:00:00",
          "2020-06-20T19:00:00",
          "2020-06-20T20:00:00",
          "2020-06-20T21:00:00",
          "2020-06-20T22:00:00",
          "2020-06-20T23:00:00",
          "2020-06-21T00:00:00",
          "2020-06-21T01:00:00",
          "2020-06-21T02:00:00",
          "2020-06-21T03:00:00",
          "2020-06-21T04:00:00",
          "2020-06-21T05:00:00",
          "2020-06-21T06:00:00",
          "2020-06-21T07:00:00",
          "2020-06-21T08:00:00",
          "2020-06-21T09:00:00",
          "2020-06-21T10:00:00",
          "2020-06-21T11:00:00",
          "2020-06-21T12:00:00",
          "2020-06-21T13:00:00",
          "2020-06-21T14:00:00",
          "2020-06-21T15:00:00",
          "2020-06-21T16:00:00",
          "2020-06-21T17:00:00",
          "2020-06-21T18:00:00",
          "2020-06-21T19:00:00",
          "2020-06-21T20:00:00",
          "2020-06-21T21:00:00",
          "2020-06-21T22:00:00",
          "2020-06-21T23:00:00",
          "2020-06-22T00:00:00",
          "2020-06-22T01:00:00",
          "2020-06-22T02:00:00",
          "2020-06-22T03:00:00",
          "2020-06-22T04:00:00",
          "2020-06-22T05:00:00",
          "2020-06-22T06:00:00",
          "2020-06-22T07:00:00",
          "2020-06-22T08:00:00",
          "2020-06-22T09:00:00",
          "2020-06-22T10:00:00",
          "2020-06-22T11:00:00",
          "2020-06-22T12:00:00",
          "2020-06-22T13:00:00",
          "2020-06-22T14:00:00",
          "2020-06-22T15:00:00",
          "2020-06-22T16:00:00",
          "2020-06-22T17:00:00",
          "2020-06-22T18:00:00",
          "2020-06-22T19:00:00",
          "2020-06-22T20:00:00",
          "2020-06-22T21:00:00",
          "2020-06-22T22:00:00",
          "2020-06-22T23:00:00",
          "2020-06-23T00:00:00",
          "2020-06-23T01:00:00",
          "2020-06-23T02:00:00",
          "2020-06-23T03:00:00",
          "2020-06-23T04:00:00",
          "2020-06-23T05:00:00",
          "2020-06-23T06:00:00",
          "2020-06-23T07:00:00",
          "2020-06-23T08:00:00",
          "2020-06-23T09:00:00",
          "2020-06-23T10:00:00",
          "2020-06-23T11:00:00",
          "2020-06-23T12:00:00",
          "2020-06-23T13:00:00",
          "2020-06-23T14:00:00",
          "2020-06-23T15:00:00",
          "2020-06-23T16:00:00",
          "2020-06-23T17:00:00",
          "2020-06-23T18:00:00",
          "2020-06-23T19:00:00",
          "2020-06-23T20:00:00",
          "2020-06-23T21:00:00",
          "2020-06-23T22:00:00",
          "2020-06-23T23:00:00",
          "2020-06-24T00:00:00",
          "2020-06-24T01:00:00",
          "2020-06-24T02:00:00",
          "2020-06-24T03:00:00",
          "2020-06-24T04:00:00",
          "2020-06-24T05:00:00",
          "2020-06-24T06:00:00",
          "2020-06-24T07:00:00",
          "2020-06-24T08:00:00",
          "2020-06-24T09:00:00",
          "2020-06-24T10:00:00",
          "2020-06-24T11:00:00",
          "2020-06-24T12:00:00",
          "2020-06-24T13:00:00",
          "2020-06-24T14:00:00",
          "2020-06-24T15:00:00",
          "2020-06-24T16:00:00",
          "2020-06-24T17:00:00",
          "2020-06-24T18:00:00",
          "2020-06-24T19:00:00",
          "2020-06-24T20:00:00",
          "2020-06-24T21:00:00",
          "2020-06-24T22:00:00",
          "2020-06-24T23:00:00",
          "2020-06-25T00:00:00",
          "2020-06-25T01:00:00",
          "2020-06-25T02:00:00",
          "2020-06-25T03:00:00",
          "2020-06-25T04:00:00",
          "2020-06-25T05:00:00",
          "2020-06-25T06:00:00",
          "2020-06-25T07:00:00",
          "2020-06-25T08:00:00",
          "2020-06-25T09:00:00",
          "2020-06-25T10:00:00",
          "2020-06-25T11:00:00",
          "2020-06-25T12:00:00",
          "2020-06-25T13:00:00",
          "2020-06-25T14:00:00",
          "2020-06-25T15:00:00",
          "2020-06-25T16:00:00",
          "2020-06-25T17:00:00",
          "2020-06-25T18:00:00",
          "2020-06-25T19:00:00",
          "2020-06-25T20:00:00",
          "2020-06-25T21:00:00",
          "2020-06-25T22:00:00",
          "2020-06-25T23:00:00",
          "2020-06-26T00:00:00",
          "2020-06-26T01:00:00",
          "2020-06-26T02:00:00",
          "2020-06-26T03:00:00",
          "2020-06-26T04:00:00",
          "2020-06-26T05:00:00",
          "2020-06-26T06:00:00",
          "2020-06-26T07:00:00",
          "2020-06-26T08:00:00",
          "2020-06-26T09:00:00",
          "2020-06-26T10:00:00",
          "2020-06-26T11:00:00",
          "2020-06-26T12:00:00",
          "2020-06-26T13:00:00",
          "2020-06-26T14:00:00",
          "2020-06-26T15:00:00",
          "2020-06-26T16:00:00",
          "2020-06-26T17:00:00",
          "2020-06-26T18:00:00",
          "2020-06-26T19:00:00",
          "2020-06-26T20:00:00",
          "2020-06-26T21:00:00",
          "2020-06-26T22:00:00",
          "2020-06-26T23:00:00",
          "2020-06-27T00:00:00",
          "2020-06-27T01:00:00",
          "2020-06-27T02:00:00",
          "2020-06-27T03:00:00",
          "2020-06-27T04:00:00",
          "2020-06-27T05:00:00",
          "2020-06-27T06:00:00",
          "2020-06-27T07:00:00",
          "2020-06-27T08:00:00",
          "2020-06-27T09:00:00",
          "2020-06-27T10:00:00",
          "2020-06-27T11:00:00",
          "2020-06-27T12:00:00",
          "2020-06-27T13:00:00",
          "2020-06-27T14:00:00",
          "2020-06-27T15:00:00",
          "2020-06-27T16:00:00",
          "2020-06-27T17:00:00",
          "2020-06-27T18:00:00",
          "2020-06-27T19:00:00",
          "2020-06-27T20:00:00",
          "2020-06-27T21:00:00",
          "2020-06-27T22:00:00",
          "2020-06-27T23:00:00",
          "2020-06-28T00:00:00",
          "2020-06-28T01:00:00",
          "2020-06-28T02:00:00",
          "2020-06-28T03:00:00",
          "2020-06-28T04:00:00",
          "2020-06-28T05:00:00",
          "2020-06-28T06:00:00",
          "2020-06-28T07:00:00",
          "2020-06-28T08:00:00",
          "2020-06-28T09:00:00",
          "2020-06-28T10:00:00",
          "2020-06-28T11:00:00",
          "2020-06-28T12:00:00",
          "2020-06-28T13:00:00",
          "2020-06-28T14:00:00",
          "2020-06-28T15:00:00",
          "2020-06-28T16:00:00",
          "2020-06-28T17:00:00",
          "2020-06-28T18:00:00",
          "2020-06-28T19:00:00",
          "2020-06-28T20:00:00",
          "2020-06-28T21:00:00",
          "2020-06-28T22:00:00",
          "2020-06-28T23:00:00",
          "2020-06-29T00:00:00",
          "2020-06-29T01:00:00",
          "2020-06-29T02:00:00",
          "2020-06-29T03:00:00",
          "2020-06-29T04:00:00",
          "2020-06-29T05:00:00",
          "2020-06-29T06:00:00",
          "2020-06-29T07:00:00",
          "2020-06-29T08:00:00",
          "2020-06-29T09:00:00",
          "2020-06-29T10:00:00",
          "2020-06-29T11:00:00",
          "2020-06-29T12:00:00",
          "2020-06-29T13:00:00",
          "2020-06-29T14:00:00",
          "2020-06-29T15:00:00",
          "2020-06-29T16:00:00",
          "2020-06-29T17:00:00",
          "2020-06-29T18:00:00",
          "2020-06-29T19:00:00",
          "2020-06-29T20:00:00",
          "2020-06-29T21:00:00",
          "2020-06-29T22:00:00",
          "2020-06-29T23:00:00",
          "2020-06-30T00:00:00",
          "2020-06-30T01:00:00",
          "2020-06-30T02:00:00",
          "2020-06-30T03:00:00",
          "2020-06-30T04:00:00",
          "2020-06-30T05:00:00",
          "2020-06-30T06:00:00",
          "2020-06-30T07:00:00",
          "2020-06-30T08:00:00",
          "2020-06-30T09:00:00",
          "2020-06-30T10:00:00",
          "2020-06-30T11:00:00",
          "2020-06-30T12:00:00",
          "2020-06-30T13:00:00",
          "2020-06-30T14:00:00",
          "2020-06-30T15:00:00",
          "2020-06-30T16:00:00",
          "2020-06-30T17:00:00",
          "2020-06-30T18:00:00",
          "2020-06-30T19:00:00",
          "2020-06-30T20:00:00",
          "2020-06-30T21:00:00",
          "2020-06-30T22:00:00",
          "2020-06-30T23:00:00",
          "2020-07-01T00:00:00",
          "2020-07-01T01:00:00",
          "2020-07-01T02:00:00"
         ],
         "y": [
          9565.81757694462,
          9542.70955833333,
          9541.96663920922,
          9559.49284293308,
          9552.39086340923,
          9538.9116956162,
          9528.58516925245,
          9522.31303407604,
          9545.38410415859,
          9557.15833533416,
          9560.9013160486,
          9526.83817186386,
          9575.21080308527,
          9578.96036159222,
          9576.30943885333,
          9589.88240152857,
          9626.073491920959,
          9666.99208341201,
          9707.911949856229,
          10126.9468173023,
          10175.5602837263,
          10101.462299692299,
          10100.6124418398,
          10071.2600564516,
          10092.4642437797,
          10093.167931763299,
          10101.4592680922,
          10104.3493024523,
          10123.4332568211,
          10109.2096903461,
          10114.3584113015,
          10104.9325860882,
          10114.716256765,
          10154.2075686448,
          9671.5242290937,
          9472.25070654473,
          9470.37539863635,
          9495.14539545803,
          9523.34969024703,
          9520.530840708001,
          9497.034624407259,
          9531.82563640976,
          9514.03977232922,
          9502.44542802024,
          9520.90646740596,
          9507.14041265062,
          9495.409187741841,
          9489.29150892553,
          9498.87368939395,
          9471.274918504309,
          9513.76635243702,
          9508.74381632656,
          9516.321696369641,
          9522.557846430742,
          9579.1869222973,
          9591.2174578867,
          9605.926720966942,
          9596.858194370709,
          9556.08759268061,
          9565.052227330749,
          9565.115481228571,
          9566.24234778368,
          9575.9891263537,
          9587.01110460679,
          9573.13895507506,
          9583.5458009921,
          9584.33016508708,
          9637.75990196077,
          9640.94289404937,
          9654.501546361558,
          9668.847365537891,
          9674.467655594979,
          9656.65581432577,
          9644.37058359618,
          9639.96587421387,
          9654.22257607925,
          9633.171660461641,
          9560.17662887629,
          9535.198043382059,
          9550.58744091974,
          9643.369340701222,
          9731.35379804449,
          9751.84756179307,
          9768.02246413504,
          9796.16477816844,
          9798.26185651835,
          9827.015543771071,
          9795.59634727505,
          9781.592079772121,
          9763.30094559583,
          9794.014572499449,
          9820.49607479222,
          9793.387141912059,
          9820.9208151156,
          9809.54374050847,
          9798.01987695376,
          9794.05566045379,
          9790.82979743081,
          9772.056561163421,
          9774.2602997416,
          9763.57589688761,
          9822.00013726835,
          9733.24131639725,
          9678.2262813059,
          9675.08394148428,
          9681.852925005409,
          9698.53062499998,
          9681.20210462876,
          9714.922794830329,
          9733.3946685509,
          9735.78278635468,
          9725.98509448041,
          9706.26239878299,
          9688.13206976756,
          9660.55566309912,
          9652.45120083355,
          9573.151207799341,
          9584.83756851313,
          9577.872137327471,
          9594.438473615359,
          9613.82862311559,
          9605.06884688992,
          9612.608187619659,
          9612.844494720981,
          9591.77435878426,
          9662.671495085351,
          9671.479542190309,
          9677.35081366965,
          9689.59209513025,
          9656.09582590454,
          9659.8361812922,
          9645.631085085892,
          9639.6869515571,
          9604.90766045548,
          9620.96706422024,
          9637.84111356931,
          9676.34146426092,
          9698.70839536302,
          9667.538762160359,
          9663.46197828708,
          9654.04474041532,
          9665.17844086019,
          9685.85376793769,
          9682.29353400736,
          9692.0557491289,
          9672.10999410032,
          9662.59481683555,
          9660.50239114391,
          9618.2711085714,
          9639.61239613525,
          9620.35167644592,
          9597.80264835165,
          9526.49448743126,
          9480.71612512124,
          9452.29772648223,
          9479.77411868402,
          9475.477274902809,
          9483.05669680699,
          9525.00955020074,
          9662.819883875649,
          9743.967250339641,
          9715.29928443002,
          9747.543493150692,
          9752.79614579438,
          9762.09058285326,
          9758.577950018109,
          9735.41981972431,
          9722.004964132,
          9748.014915184129,
          9739.49603061783,
          9734.29963573883,
          9731.287539267008,
          9685.64042040815,
          9753.4218073416,
          9744.98693528695,
          9736.062392982429,
          9737.20951578945,
          9710.05363489504,
          9684.35746853553,
          9684.980136882159,
          9686.05029645317,
          9724.311234185441,
          9721.85995625005,
          9701.752923773969,
          9708.109456832472,
          9698.77393566505,
          9713.949883790241,
          9755.157274320809,
          9734.494064935021,
          9705.41291473891,
          9705.486763392879,
          9685.49439888427,
          9677.59881574239,
          9689.25746530714,
          9690.50893401016,
          9692.90886283705,
          9679.69544690602,
          9668.14273678093,
          9662.33933333334,
          9686.869955,
          9733.05135135137,
          9712.838636216371,
          9706.14046149492,
          9721.445385232759,
          9711.39225988693,
          9711.33946546255,
          9710.21122060133,
          9711.94173544379,
          9737.62174035487,
          9784.581926796829,
          9778.948406072092,
          9776.891832298059,
          9779.44737081341,
          9801.12809141739,
          9778.15422027618,
          9763.582646144308,
          9753.472613636379,
          9768.09640310783,
          9770.94128595603,
          9754.66224787935,
          9750.144328259441,
          9725.50481178394,
          9736.22039021854,
          9740.51603197673,
          9756.40514335667,
          9763.48441717793,
          9750.07614701913,
          9750.48235266047,
          9769.37280380855,
          9763.13284552845,
          9872.83267056888,
          9853.05542694249,
          9880.56172494176,
          9860.80357440555,
          9887.009235467622,
          9889.98856565174,
          9895.707395035992,
          9927.80456351481,
          9928.31463359206,
          9902.43170460056,
          9891.11906119346,
          9881.28571916348,
          9808.51287883902,
          9808.97479648475,
          9806.54035616433,
          9793.88593709878,
          9745.731864500129,
          9772.84732824427,
          9748.72986493509,
          9648.909433703271,
          9622.16243398603,
          9530.647047190601,
          9366.20279988648,
          9272.7029661486,
          9335.678517668159,
          9287.90229209199,
          9266.78349618718,
          9336.630834990021,
          9324.46098568168,
          9281.64936963271,
          9288.937114695329,
          9314.66528132388,
          9329.97508177228,
          9359.06413103277,
          9360.61347161578,
          9358.474509336529,
          9367.87221617091,
          9414.38105070255,
          9455.39234219932,
          9452.24982698957,
          9463.80397019693,
          9491.4759429735,
          9459.714657441851,
          9482.42793437735,
          9489.24722103003,
          9409.36054573703,
          9418.344842939141,
          9360.897120848349,
          9372.657406490649,
          9414.22531607006,
          9443.70214303828,
          9454.858758244929,
          9456.68696596433,
          9457.34178954665,
          9446.1838033635,
          9435.76608309659,
          9426.664567055981,
          9419.44227484145,
          9387.94546780505,
          9392.606358024641,
          9413.075090568342,
          9432.10718878251,
          9433.334711895899,
          9445.434754944108,
          9425.50990405902,
          9411.00198058251,
          9425.305015608728,
          9419.39297426125,
          9441.4693373494,
          9446.50045099436,
          9435.929344323771,
          9440.29001212609,
          9444.986377118628,
          9441.127203365259,
          9392.084909813571,
          9416.48298559754,
          9432.0825,
          9455.95531417747,
          9457.23487912085,
          9445.37915465898,
          9447.98213063767,
          9433.9969625247,
          9432.666538461508,
          9430.46827201785,
          9411.12843237121,
          9399.01792776789,
          9418.9594202899,
          9417.44407766987,
          9420.18843137254,
          9431.997401448109,
          9412.55231372548,
          9390.48610086105,
          9367.5320620064,
          9382.20533956389,
          9402.65390645301,
          9393.61114088157,
          9379.738982469571,
          9388.86641181232,
          9393.92940149624,
          9353.04766700926,
          9326.67084229663,
          9352.409674449158,
          9330.02911504424,
          9272.88192751537,
          9251.10475122635,
          9194.62995803738,
          9180.04470164378,
          9080.679677771719,
          8980.33219258638,
          9060.78678330423,
          9106.56450678316,
          9118.22547735952,
          9105.42739700375,
          9105.35941762692,
          9098.372441721469,
          9098.91769230768,
          9203.598915162149,
          9265.91131659989,
          9359.20982805428,
          9354.83056164,
          9410.907967313578,
          9423.77744402989,
          9434.32393946729,
          9476.368139769731,
          9433.332236667571,
          9442.97808612438,
          9404.31947110331,
          9408.653404056171,
          9417.806885754559,
          9545.16677792808,
          9546.08638005783,
          9538.3274890447,
          9504.5060663842,
          9488.31185744014,
          9482.95392652125,
          9509.428474784741,
          9520.309732254009,
          9507.27772397095,
          9523.207534682071,
          9536.08748889872,
          9485.71271883296,
          9444.241782639001,
          9473.2536737332,
          9479.47855972264,
          9488.883840707951,
          9493.196353015479,
          9494.949177489201,
          9515.42212881162,
          9509.31294452884,
          9519.133583278051,
          9499.64891594393,
          9470.077633912759,
          9454.359320987629,
          9439.69908339077,
          9458.94610628024,
          9451.71936061381,
          9462.133632673771,
          9492.10556025369,
          9493.958324840749,
          9479.9317255892,
          9478.43220264313,
          9480.8633533333,
          9491.07437225208,
          9482.51570809876,
          9406.65591478697,
          9402.36315732761,
          9375.02879990496,
          9402.048023830308,
          9397.934916977321,
          9361.00390660886,
          9323.23870467172,
          9407.06797124973,
          9418.115619075841,
          9444.08039630115,
          9424.95626740045,
          9421.89776917397,
          9404.399640718579,
          9413.328093475251,
          9412.47833016185,
          9409.717386907942,
          9422.49575595239,
          9432.899487544491,
          9432.20404553418,
          9445.44631439897,
          9421.47137578172,
          9434.55439281292,
          9423.31154645127,
          9402.62623085543,
          9404.53314109164,
          9411.802656626529,
          9387.1576202532,
          9397.367282774409,
          9392.327951414041,
          9381.72733181303,
          9358.16225988707,
          9329.52424230465,
          9368.52300328827,
          9386.07278599788,
          9354.139406240542,
          9341.81772626227,
          9303.39799225663,
          9268.12127029124,
          9288.27978348625,
          9298.560707476128,
          9305.711920245409,
          9275.465690607729,
          9286.0316614223,
          9368.873843270841,
          9363.678343750009,
          9378.189375743199,
          9393.811626596551,
          9379.07082431308,
          9374.60542485842,
          9365.48051794175,
          9336.838522788192,
          9316.273902770241,
          9297.583759219571,
          9316.569162286429,
          9286.05938400678,
          9302.310954819259,
          9322.28474016851,
          9285.562798408491,
          9307.66576827755,
          9309.22585684063,
          9310.948494623559,
          9327.88076063604,
          9306.99138273837,
          9307.077375249492,
          9309.079871508391,
          9302.48104255319,
          9285.78144111192,
          9279.45447310245,
          9282.850826161779,
          9269.60403391885,
          9308.03148655503,
          9288.33378216913,
          9284.25650000001,
          9256.727601580122,
          9264.787400722,
          9266.331012805591,
          9279.06711040256,
          9297.98883175936,
          9310.01252138343,
          9330.672885689059,
          9364.395964721842,
          9357.03421583275,
          9361.76106953895,
          9365.47324278439,
          9380.18944191347,
          9364.35774447178,
          9371.50681628385,
          9377.96583509509,
          9386.14441638867,
          9371.16711864405,
          9363.02378706198,
          9366.31686143572,
          9344.86650494159,
          9347.68457894736,
          9345.36837573384,
          9338.033763688822,
          9342.11285355116,
          9356.889190476179,
          9354.27238664672,
          9345.2243226787,
          9317.90842938843,
          9324.80441638879,
          9322.577139959409,
          9321.38415480424,
          9299.43296774196,
          9286.18294658492,
          9304.06460133641,
          9338.724096848571,
          9368.057639148341,
          9370.5661727775,
          9388.56786747902,
          9423.80850471125,
          9411.040682128241,
          9418.33894025604,
          9413.91962037037,
          9418.29183410138,
          9422.233966244741,
          9443.918449174642,
          9475.79067320092,
          9477.08976764452,
          9468.98769949678,
          9477.322044403309,
          9555.94948968173,
          9585.33537529791,
          9587.381347695358,
          9571.73501413231,
          9607.965887310409,
          9703.3355231087,
          9664.0764403927,
          9680.247357838509,
          9691.083178315941,
          9637.08983244479,
          9641.150809792858,
          9637.93405649271,
          9633.9550490677,
          9626.2235585586,
          9621.94810668673,
          9638.815151320021,
          9616.29365366759,
          9599.11665112662,
          9593.30353419097,
          9619.51540492959,
          9632.69313570488,
          9632.37889968896,
          9649.061399747809,
          9666.014229898079,
          9668.93833531514,
          9655.005829371341,
          9661.81489624225,
          9658.19772549016,
          9649.077051765491,
          9631.78589219852,
          9631.46296460181,
          9608.94695652174,
          9628.79367527678,
          9627.55884536078,
          9643.82587516371,
          9644.87331516797,
          9643.8571038252,
          9641.99028455283,
          9649.37375949366,
          9566.20985796417,
          9515.34669135799,
          9503.38260407029,
          9406.1173703446,
          9357.60371452424,
          9346.99378953105,
          9387.39719790303,
          9322.43364669875,
          9266.43268457233,
          9274.86448391745,
          9290.46432460459,
          9307.652004364209,
          9307.313372291921,
          9301.00851242335,
          9258.465853238129,
          9271.84343233206,
          9292.96221138211,
          9267.44382912287,
          9275.66441268734,
          9248.19792694648,
          9090.44887017314,
          9110.11242847408,
          9138.27674132759,
          9171.9149934297,
          9157.16728845264,
          9260.213848275842,
          9274.37485798818,
          9259.61577944575,
          9264.65866391182,
          9193.92835723601,
          9204.13689226106,
          9236.931705448342,
          9226.69848234171,
          9251.65678139779,
          9273.03365083879,
          9259.216507122479,
          9276.187084295601,
          9281.629598021009,
          9304.38187562437,
          9252.41665176226,
          9246.91674626866,
          9238.29945553023,
          9263.4171638305,
          9238.133614579821,
          9233.98283333338,
          9235.55604465041,
          9222.07776072415,
          9207.31116169542,
          9131.257173012391,
          9123.042021336321,
          9146.72167466206,
          9213.31606908874,
          9171.993572,
          9193.467253474499,
          9184.80963837999,
          9077.89724900133,
          9142.62885604369,
          9124.07215486067,
          9157.115130729051,
          9151.60477429987,
          9147.020470392901,
          9189.09508316893,
          9187.56959398498,
          9180.167445283041,
          9159.797154706079,
          9124.63874132496,
          9126.16425547714,
          9123.72125051418,
          9148.623062589599,
          9145.51908246859,
          9149.78376700177,
          9163.61913366335,
          9165.96152582155,
          9168.648240165641,
          9145.87082294268,
          9140.73873538788,
          9144.75532640947,
          9152.117456556009,
          9154.84854636593,
          9145.12734565307,
          9134.849653199859,
          9088.26582422914,
          9087.36287667335,
          9081.64235878129,
          8958.831470501658,
          8951.77071840457,
          8974.10132137628,
          9011.1673423527,
          8989.67548857698,
          8977.34041079815,
          8961.00084345484,
          8960.57475614843,
          8962.29370044055,
          8954.676564716321,
          8962.74791713963,
          8985.7318072289,
          8998.57225247523,
          9024.814615981371,
          9054.090844841601,
          9056.127141666659,
          9056.70806001394,
          9037.627768154542,
          9046.94307609283,
          9126.53562007587,
          9144.40488281248,
          9160.10890963657,
          9137.966661163871,
          9153.98640501628,
          9143.85224554457,
          9117.620346643309,
          9106.3376212766,
          9091.27639419089,
          9105.00655856732,
          9107.490447035942,
          9121.477316213499,
          9124.67981739547,
          9101.60783448957,
          9095.54136416858,
          9107.57798392502,
          9090.546941529241,
          9079.242510548509,
          9069.47043057995,
          9100.678761904759,
          9105.207294520551,
          9079.96874999997,
          9092.96660721693,
          9044.069836645771,
          9059.811579745301,
          9089.10699389907,
          9117.164706392809,
          9130.09948324458,
          9147.524166405059,
          9142.57212651894,
          9165.70276860702,
          9212.82389296192,
          9209.42499999998,
          9181.94281397887,
          9180.40526075367,
          9176.817858064509,
          9178.438050314458,
          9169.634767667021,
          9165.25537842192,
          9142.3964521521,
          9129.67959466664,
          9133.912133421421,
          9128.625295238071,
          9147.71955611394,
          9153.35982323232,
          9142.053902439058,
          9127.881574199359,
          9109.77804108206,
          9154.28827774582,
          9175.091926163741,
          9165.90594791993,
          9149.77622727269,
          9138.82443428187,
          9129.36026881717,
          9146.353120649641,
          9160.99883174794,
          9137.57802840164,
          9144.30775578664,
          9112.79410380407,
          9115.57604002858,
          9131.32859387272
         ]
        }
       ],
       "layout": {
        "template": {
         "data": {
          "bar": [
           {
            "error_x": {
             "color": "#2a3f5f"
            },
            "error_y": {
             "color": "#2a3f5f"
            },
            "marker": {
             "line": {
              "color": "#E5ECF6",
              "width": 0.5
             }
            },
            "type": "bar"
           }
          ],
          "barpolar": [
           {
            "marker": {
             "line": {
              "color": "#E5ECF6",
              "width": 0.5
             }
            },
            "type": "barpolar"
           }
          ],
          "carpet": [
           {
            "aaxis": {
             "endlinecolor": "#2a3f5f",
             "gridcolor": "white",
             "linecolor": "white",
             "minorgridcolor": "white",
             "startlinecolor": "#2a3f5f"
            },
            "baxis": {
             "endlinecolor": "#2a3f5f",
             "gridcolor": "white",
             "linecolor": "white",
             "minorgridcolor": "white",
             "startlinecolor": "#2a3f5f"
            },
            "type": "carpet"
           }
          ],
          "choropleth": [
           {
            "colorbar": {
             "outlinewidth": 0,
             "ticks": ""
            },
            "type": "choropleth"
           }
          ],
          "contour": [
           {
            "colorbar": {
             "outlinewidth": 0,
             "ticks": ""
            },
            "colorscale": [
             [
              0,
              "#0d0887"
             ],
             [
              0.1111111111111111,
              "#46039f"
             ],
             [
              0.2222222222222222,
              "#7201a8"
             ],
             [
              0.3333333333333333,
              "#9c179e"
             ],
             [
              0.4444444444444444,
              "#bd3786"
             ],
             [
              0.5555555555555556,
              "#d8576b"
             ],
             [
              0.6666666666666666,
              "#ed7953"
             ],
             [
              0.7777777777777778,
              "#fb9f3a"
             ],
             [
              0.8888888888888888,
              "#fdca26"
             ],
             [
              1,
              "#f0f921"
             ]
            ],
            "type": "contour"
           }
          ],
          "contourcarpet": [
           {
            "colorbar": {
             "outlinewidth": 0,
             "ticks": ""
            },
            "type": "contourcarpet"
           }
          ],
          "heatmap": [
           {
            "colorbar": {
             "outlinewidth": 0,
             "ticks": ""
            },
            "colorscale": [
             [
              0,
              "#0d0887"
             ],
             [
              0.1111111111111111,
              "#46039f"
             ],
             [
              0.2222222222222222,
              "#7201a8"
             ],
             [
              0.3333333333333333,
              "#9c179e"
             ],
             [
              0.4444444444444444,
              "#bd3786"
             ],
             [
              0.5555555555555556,
              "#d8576b"
             ],
             [
              0.6666666666666666,
              "#ed7953"
             ],
             [
              0.7777777777777778,
              "#fb9f3a"
             ],
             [
              0.8888888888888888,
              "#fdca26"
             ],
             [
              1,
              "#f0f921"
             ]
            ],
            "type": "heatmap"
           }
          ],
          "heatmapgl": [
           {
            "colorbar": {
             "outlinewidth": 0,
             "ticks": ""
            },
            "colorscale": [
             [
              0,
              "#0d0887"
             ],
             [
              0.1111111111111111,
              "#46039f"
             ],
             [
              0.2222222222222222,
              "#7201a8"
             ],
             [
              0.3333333333333333,
              "#9c179e"
             ],
             [
              0.4444444444444444,
              "#bd3786"
             ],
             [
              0.5555555555555556,
              "#d8576b"
             ],
             [
              0.6666666666666666,
              "#ed7953"
             ],
             [
              0.7777777777777778,
              "#fb9f3a"
             ],
             [
              0.8888888888888888,
              "#fdca26"
             ],
             [
              1,
              "#f0f921"
             ]
            ],
            "type": "heatmapgl"
           }
          ],
          "histogram": [
           {
            "marker": {
             "colorbar": {
              "outlinewidth": 0,
              "ticks": ""
             }
            },
            "type": "histogram"
           }
          ],
          "histogram2d": [
           {
            "colorbar": {
             "outlinewidth": 0,
             "ticks": ""
            },
            "colorscale": [
             [
              0,
              "#0d0887"
             ],
             [
              0.1111111111111111,
              "#46039f"
             ],
             [
              0.2222222222222222,
              "#7201a8"
             ],
             [
              0.3333333333333333,
              "#9c179e"
             ],
             [
              0.4444444444444444,
              "#bd3786"
             ],
             [
              0.5555555555555556,
              "#d8576b"
             ],
             [
              0.6666666666666666,
              "#ed7953"
             ],
             [
              0.7777777777777778,
              "#fb9f3a"
             ],
             [
              0.8888888888888888,
              "#fdca26"
             ],
             [
              1,
              "#f0f921"
             ]
            ],
            "type": "histogram2d"
           }
          ],
          "histogram2dcontour": [
           {
            "colorbar": {
             "outlinewidth": 0,
             "ticks": ""
            },
            "colorscale": [
             [
              0,
              "#0d0887"
             ],
             [
              0.1111111111111111,
              "#46039f"
             ],
             [
              0.2222222222222222,
              "#7201a8"
             ],
             [
              0.3333333333333333,
              "#9c179e"
             ],
             [
              0.4444444444444444,
              "#bd3786"
             ],
             [
              0.5555555555555556,
              "#d8576b"
             ],
             [
              0.6666666666666666,
              "#ed7953"
             ],
             [
              0.7777777777777778,
              "#fb9f3a"
             ],
             [
              0.8888888888888888,
              "#fdca26"
             ],
             [
              1,
              "#f0f921"
             ]
            ],
            "type": "histogram2dcontour"
           }
          ],
          "mesh3d": [
           {
            "colorbar": {
             "outlinewidth": 0,
             "ticks": ""
            },
            "type": "mesh3d"
           }
          ],
          "parcoords": [
           {
            "line": {
             "colorbar": {
              "outlinewidth": 0,
              "ticks": ""
             }
            },
            "type": "parcoords"
           }
          ],
          "pie": [
           {
            "automargin": true,
            "type": "pie"
           }
          ],
          "scatter": [
           {
            "marker": {
             "colorbar": {
              "outlinewidth": 0,
              "ticks": ""
             }
            },
            "type": "scatter"
           }
          ],
          "scatter3d": [
           {
            "line": {
             "colorbar": {
              "outlinewidth": 0,
              "ticks": ""
             }
            },
            "marker": {
             "colorbar": {
              "outlinewidth": 0,
              "ticks": ""
             }
            },
            "type": "scatter3d"
           }
          ],
          "scattercarpet": [
           {
            "marker": {
             "colorbar": {
              "outlinewidth": 0,
              "ticks": ""
             }
            },
            "type": "scattercarpet"
           }
          ],
          "scattergeo": [
           {
            "marker": {
             "colorbar": {
              "outlinewidth": 0,
              "ticks": ""
             }
            },
            "type": "scattergeo"
           }
          ],
          "scattergl": [
           {
            "marker": {
             "colorbar": {
              "outlinewidth": 0,
              "ticks": ""
             }
            },
            "type": "scattergl"
           }
          ],
          "scattermapbox": [
           {
            "marker": {
             "colorbar": {
              "outlinewidth": 0,
              "ticks": ""
             }
            },
            "type": "scattermapbox"
           }
          ],
          "scatterpolar": [
           {
            "marker": {
             "colorbar": {
              "outlinewidth": 0,
              "ticks": ""
             }
            },
            "type": "scatterpolar"
           }
          ],
          "scatterpolargl": [
           {
            "marker": {
             "colorbar": {
              "outlinewidth": 0,
              "ticks": ""
             }
            },
            "type": "scatterpolargl"
           }
          ],
          "scatterternary": [
           {
            "marker": {
             "colorbar": {
              "outlinewidth": 0,
              "ticks": ""
             }
            },
            "type": "scatterternary"
           }
          ],
          "surface": [
           {
            "colorbar": {
             "outlinewidth": 0,
             "ticks": ""
            },
            "colorscale": [
             [
              0,
              "#0d0887"
             ],
             [
              0.1111111111111111,
              "#46039f"
             ],
             [
              0.2222222222222222,
              "#7201a8"
             ],
             [
              0.3333333333333333,
              "#9c179e"
             ],
             [
              0.4444444444444444,
              "#bd3786"
             ],
             [
              0.5555555555555556,
              "#d8576b"
             ],
             [
              0.6666666666666666,
              "#ed7953"
             ],
             [
              0.7777777777777778,
              "#fb9f3a"
             ],
             [
              0.8888888888888888,
              "#fdca26"
             ],
             [
              1,
              "#f0f921"
             ]
            ],
            "type": "surface"
           }
          ],
          "table": [
           {
            "cells": {
             "fill": {
              "color": "#EBF0F8"
             },
             "line": {
              "color": "white"
             }
            },
            "header": {
             "fill": {
              "color": "#C8D4E3"
             },
             "line": {
              "color": "white"
             }
            },
            "type": "table"
           }
          ]
         },
         "layout": {
          "annotationdefaults": {
           "arrowcolor": "#2a3f5f",
           "arrowhead": 0,
           "arrowwidth": 1
          },
          "coloraxis": {
           "colorbar": {
            "outlinewidth": 0,
            "ticks": ""
           }
          },
          "colorscale": {
           "diverging": [
            [
             0,
             "#8e0152"
            ],
            [
             0.1,
             "#c51b7d"
            ],
            [
             0.2,
             "#de77ae"
            ],
            [
             0.3,
             "#f1b6da"
            ],
            [
             0.4,
             "#fde0ef"
            ],
            [
             0.5,
             "#f7f7f7"
            ],
            [
             0.6,
             "#e6f5d0"
            ],
            [
             0.7,
             "#b8e186"
            ],
            [
             0.8,
             "#7fbc41"
            ],
            [
             0.9,
             "#4d9221"
            ],
            [
             1,
             "#276419"
            ]
           ],
           "sequential": [
            [
             0,
             "#0d0887"
            ],
            [
             0.1111111111111111,
             "#46039f"
            ],
            [
             0.2222222222222222,
             "#7201a8"
            ],
            [
             0.3333333333333333,
             "#9c179e"
            ],
            [
             0.4444444444444444,
             "#bd3786"
            ],
            [
             0.5555555555555556,
             "#d8576b"
            ],
            [
             0.6666666666666666,
             "#ed7953"
            ],
            [
             0.7777777777777778,
             "#fb9f3a"
            ],
            [
             0.8888888888888888,
             "#fdca26"
            ],
            [
             1,
             "#f0f921"
            ]
           ],
           "sequentialminus": [
            [
             0,
             "#0d0887"
            ],
            [
             0.1111111111111111,
             "#46039f"
            ],
            [
             0.2222222222222222,
             "#7201a8"
            ],
            [
             0.3333333333333333,
             "#9c179e"
            ],
            [
             0.4444444444444444,
             "#bd3786"
            ],
            [
             0.5555555555555556,
             "#d8576b"
            ],
            [
             0.6666666666666666,
             "#ed7953"
            ],
            [
             0.7777777777777778,
             "#fb9f3a"
            ],
            [
             0.8888888888888888,
             "#fdca26"
            ],
            [
             1,
             "#f0f921"
            ]
           ]
          },
          "colorway": [
           "#636efa",
           "#EF553B",
           "#00cc96",
           "#ab63fa",
           "#FFA15A",
           "#19d3f3",
           "#FF6692",
           "#B6E880",
           "#FF97FF",
           "#FECB52"
          ],
          "font": {
           "color": "#2a3f5f"
          },
          "geo": {
           "bgcolor": "white",
           "lakecolor": "white",
           "landcolor": "#E5ECF6",
           "showlakes": true,
           "showland": true,
           "subunitcolor": "white"
          },
          "hoverlabel": {
           "align": "left"
          },
          "hovermode": "closest",
          "mapbox": {
           "style": "light"
          },
          "paper_bgcolor": "white",
          "plot_bgcolor": "#E5ECF6",
          "polar": {
           "angularaxis": {
            "gridcolor": "white",
            "linecolor": "white",
            "ticks": ""
           },
           "bgcolor": "#E5ECF6",
           "radialaxis": {
            "gridcolor": "white",
            "linecolor": "white",
            "ticks": ""
           }
          },
          "scene": {
           "xaxis": {
            "backgroundcolor": "#E5ECF6",
            "gridcolor": "white",
            "gridwidth": 2,
            "linecolor": "white",
            "showbackground": true,
            "ticks": "",
            "zerolinecolor": "white"
           },
           "yaxis": {
            "backgroundcolor": "#E5ECF6",
            "gridcolor": "white",
            "gridwidth": 2,
            "linecolor": "white",
            "showbackground": true,
            "ticks": "",
            "zerolinecolor": "white"
           },
           "zaxis": {
            "backgroundcolor": "#E5ECF6",
            "gridcolor": "white",
            "gridwidth": 2,
            "linecolor": "white",
            "showbackground": true,
            "ticks": "",
            "zerolinecolor": "white"
           }
          },
          "shapedefaults": {
           "line": {
            "color": "#2a3f5f"
           }
          },
          "ternary": {
           "aaxis": {
            "gridcolor": "white",
            "linecolor": "white",
            "ticks": ""
           },
           "baxis": {
            "gridcolor": "white",
            "linecolor": "white",
            "ticks": ""
           },
           "bgcolor": "#E5ECF6",
           "caxis": {
            "gridcolor": "white",
            "linecolor": "white",
            "ticks": ""
           }
          },
          "title": {
           "x": 0.05
          },
          "xaxis": {
           "automargin": true,
           "gridcolor": "white",
           "linecolor": "white",
           "ticks": "",
           "title": {
            "standoff": 15
           },
           "zerolinecolor": "white",
           "zerolinewidth": 2
          },
          "yaxis": {
           "automargin": true,
           "gridcolor": "white",
           "linecolor": "white",
           "ticks": "",
           "title": {
            "standoff": 15
           },
           "zerolinecolor": "white",
           "zerolinewidth": 2
          }
         }
        }
       }
      },
      "text/html": [
       "<div>\n",
       "        \n",
       "        \n",
       "            <div id=\"5e6a4d96-7614-4f16-acaf-810c6bfcb6e4\" class=\"plotly-graph-div\" style=\"height:525px; width:100%;\"></div>\n",
       "            <script type=\"text/javascript\">\n",
       "                require([\"plotly\"], function(Plotly) {\n",
       "                    window.PLOTLYENV=window.PLOTLYENV || {};\n",
       "                    \n",
       "                if (document.getElementById(\"5e6a4d96-7614-4f16-acaf-810c6bfcb6e4\")) {\n",
       "                    Plotly.newPlot(\n",
       "                        '5e6a4d96-7614-4f16-acaf-810c6bfcb6e4',\n",
       "                        [{\"mode\": \"lines\", \"name\": \"Predictions\", \"type\": \"scatter\", \"x\": [\"2020-07-01T03:00:00\", \"2020-07-01T04:00:00\", \"2020-07-01T05:00:00\", \"2020-07-01T06:00:00\", \"2020-07-01T07:00:00\", \"2020-07-01T08:00:00\", \"2020-07-01T09:00:00\", \"2020-07-01T10:00:00\", \"2020-07-01T11:00:00\", \"2020-07-01T12:00:00\", \"2020-07-01T13:00:00\", \"2020-07-01T14:00:00\", \"2020-07-01T15:00:00\", \"2020-07-01T16:00:00\", \"2020-07-01T17:00:00\", \"2020-07-01T18:00:00\", \"2020-07-01T19:00:00\", \"2020-07-01T20:00:00\", \"2020-07-01T21:00:00\", \"2020-07-01T22:00:00\", \"2020-07-01T23:00:00\", \"2020-07-02T00:00:00\", \"2020-07-02T01:00:00\", \"2020-07-02T02:00:00\", \"2020-07-02T03:00:00\", \"2020-07-02T04:00:00\", \"2020-07-02T05:00:00\", \"2020-07-02T06:00:00\", \"2020-07-02T07:00:00\", \"2020-07-02T08:00:00\", \"2020-07-02T09:00:00\", \"2020-07-02T10:00:00\", \"2020-07-02T11:00:00\", \"2020-07-02T12:00:00\", \"2020-07-02T13:00:00\", \"2020-07-02T14:00:00\", \"2020-07-02T15:00:00\", \"2020-07-02T16:00:00\", \"2020-07-02T17:00:00\", \"2020-07-02T18:00:00\", \"2020-07-02T19:00:00\", \"2020-07-02T20:00:00\", \"2020-07-02T21:00:00\", \"2020-07-02T22:00:00\", \"2020-07-02T23:00:00\", \"2020-07-03T00:00:00\", \"2020-07-03T01:00:00\", \"2020-07-03T02:00:00\", \"2020-07-03T03:00:00\", \"2020-07-03T04:00:00\", \"2020-07-03T05:00:00\", \"2020-07-03T06:00:00\", \"2020-07-03T07:00:00\", \"2020-07-03T08:00:00\", \"2020-07-03T09:00:00\", \"2020-07-03T10:00:00\", \"2020-07-03T11:00:00\", \"2020-07-03T12:00:00\", \"2020-07-03T13:00:00\", \"2020-07-03T14:00:00\", \"2020-07-03T15:00:00\", \"2020-07-03T16:00:00\", \"2020-07-03T17:00:00\", \"2020-07-03T18:00:00\", \"2020-07-03T19:00:00\", \"2020-07-03T20:00:00\", \"2020-07-03T21:00:00\", \"2020-07-03T22:00:00\", \"2020-07-03T23:00:00\", \"2020-07-04T00:00:00\", \"2020-07-04T01:00:00\", \"2020-07-04T02:00:00\", \"2020-07-04T03:00:00\", \"2020-07-04T04:00:00\", \"2020-07-04T05:00:00\", \"2020-07-04T06:00:00\", \"2020-07-04T07:00:00\", \"2020-07-04T08:00:00\", \"2020-07-04T09:00:00\", \"2020-07-04T10:00:00\", \"2020-07-04T11:00:00\", \"2020-07-04T12:00:00\", \"2020-07-04T13:00:00\", \"2020-07-04T14:00:00\", \"2020-07-04T15:00:00\", \"2020-07-04T16:00:00\", \"2020-07-04T17:00:00\", \"2020-07-04T18:00:00\", \"2020-07-04T19:00:00\", \"2020-07-04T20:00:00\", \"2020-07-04T21:00:00\", \"2020-07-04T22:00:00\", \"2020-07-04T23:00:00\", \"2020-07-05T00:00:00\", \"2020-07-05T01:00:00\", \"2020-07-05T02:00:00\"], \"y\": [9104.780630781448, 9093.960680177845, 9084.578534662038, 9075.025278973433, 9065.006240548071, 9056.021888130468, 9049.521349160887, 9044.64650547377, 9038.088717178292, 9026.588136946333, 9009.938446326512, 8991.675385205526, 8976.67411491134, 8967.722565159314, 8964.039078967293, 8962.81131787395, 8962.011645654125, 8961.72281977457, 8962.902210130027, 8965.158456794199, 8966.05965781817, 8962.841831347945, 8954.861379591988, 8944.310048134024, 8934.416414197667, 8926.858535587578, 8920.871925393592, 8914.787143689846, 8908.251560127332, 8902.710954910299, 8899.56368343418, 8897.905356345493, 8894.386077989466, 8885.710199499137, 8871.641413189685, 8855.691555503601, 8842.718156251267, 8835.497882720112, 8833.244192361057, 8833.146157098841, 8833.183679343798, 8833.452931955377, 8834.930245787771, 8837.248361655633, 8838.004143836435, 8834.466506314235, 8826.028287024777, 8814.920572000387, 8804.413511992874, 8796.228272718732, 8789.644293560035, 8783.036155894113, 8776.09462496383, 8770.307542721019, 8767.113306676736, 8765.644895949272, 8762.58649646267, 8754.672689976614, 8741.693041364852, 8727.180458376013, 8716.008367729848, 8710.963861314023, 8711.265130343112, 8714.100153633159, 8717.441862063044, 8721.373612333677, 8726.853193374889, 8733.489280814734, 8738.849434074606, 8740.168383664975, 8736.800339252935, 8730.93381472854, 8725.793006278644, 8723.050357185431, 8721.934476061419, 8720.767700916751, 8719.187863683377, 8718.629922964796, 8720.48019009269, 8723.82109959356, 8725.288565933615, 8721.571881246324, 8712.418978738751, 8701.32542667777, 8693.132187969733, 8690.599290879138, 8692.923721257464, 8697.27849577366, 8701.628132460528, 8706.054346943203, 8711.52019399395, 8717.646567241798, 8722.020150171784, 8721.901565711112, 8716.67745589002, 8708.574989899307]}, {\"mode\": \"lines\", \"name\": \"Actual data\", \"type\": \"scatter\", \"x\": [\"2020-06-01T04:00:00\", \"2020-06-01T05:00:00\", \"2020-06-01T06:00:00\", \"2020-06-01T07:00:00\", \"2020-06-01T08:00:00\", \"2020-06-01T09:00:00\", \"2020-06-01T10:00:00\", \"2020-06-01T11:00:00\", \"2020-06-01T12:00:00\", \"2020-06-01T13:00:00\", \"2020-06-01T14:00:00\", \"2020-06-01T15:00:00\", \"2020-06-01T16:00:00\", \"2020-06-01T17:00:00\", \"2020-06-01T18:00:00\", \"2020-06-01T19:00:00\", \"2020-06-01T20:00:00\", \"2020-06-01T21:00:00\", \"2020-06-01T22:00:00\", \"2020-06-01T23:00:00\", \"2020-06-02T00:00:00\", \"2020-06-02T01:00:00\", \"2020-06-02T02:00:00\", \"2020-06-02T03:00:00\", \"2020-06-02T04:00:00\", \"2020-06-02T05:00:00\", \"2020-06-02T06:00:00\", \"2020-06-02T07:00:00\", \"2020-06-02T08:00:00\", \"2020-06-02T09:00:00\", \"2020-06-02T10:00:00\", \"2020-06-02T11:00:00\", \"2020-06-02T12:00:00\", \"2020-06-02T13:00:00\", \"2020-06-02T14:00:00\", \"2020-06-02T15:00:00\", \"2020-06-02T16:00:00\", \"2020-06-02T17:00:00\", \"2020-06-02T18:00:00\", \"2020-06-02T19:00:00\", \"2020-06-02T20:00:00\", \"2020-06-02T21:00:00\", \"2020-06-02T22:00:00\", \"2020-06-02T23:00:00\", \"2020-06-03T00:00:00\", \"2020-06-03T01:00:00\", \"2020-06-03T02:00:00\", \"2020-06-03T03:00:00\", \"2020-06-03T04:00:00\", \"2020-06-03T05:00:00\", \"2020-06-03T06:00:00\", \"2020-06-03T07:00:00\", \"2020-06-03T08:00:00\", \"2020-06-03T09:00:00\", \"2020-06-03T10:00:00\", \"2020-06-03T11:00:00\", \"2020-06-03T12:00:00\", \"2020-06-03T13:00:00\", \"2020-06-03T14:00:00\", \"2020-06-03T15:00:00\", \"2020-06-03T16:00:00\", \"2020-06-03T17:00:00\", \"2020-06-03T18:00:00\", \"2020-06-03T19:00:00\", \"2020-06-03T20:00:00\", \"2020-06-03T21:00:00\", \"2020-06-03T22:00:00\", \"2020-06-03T23:00:00\", \"2020-06-04T00:00:00\", \"2020-06-04T01:00:00\", \"2020-06-04T02:00:00\", \"2020-06-04T03:00:00\", \"2020-06-04T04:00:00\", \"2020-06-04T05:00:00\", \"2020-06-04T06:00:00\", \"2020-06-04T07:00:00\", \"2020-06-04T08:00:00\", \"2020-06-04T09:00:00\", \"2020-06-04T10:00:00\", \"2020-06-04T11:00:00\", \"2020-06-04T12:00:00\", \"2020-06-04T13:00:00\", \"2020-06-04T14:00:00\", \"2020-06-04T15:00:00\", \"2020-06-04T16:00:00\", \"2020-06-04T17:00:00\", \"2020-06-04T18:00:00\", \"2020-06-04T19:00:00\", \"2020-06-04T20:00:00\", \"2020-06-04T21:00:00\", \"2020-06-04T22:00:00\", \"2020-06-04T23:00:00\", \"2020-06-05T00:00:00\", \"2020-06-05T01:00:00\", \"2020-06-05T02:00:00\", \"2020-06-05T03:00:00\", \"2020-06-05T04:00:00\", \"2020-06-05T05:00:00\", \"2020-06-05T06:00:00\", \"2020-06-05T07:00:00\", \"2020-06-05T08:00:00\", \"2020-06-05T09:00:00\", \"2020-06-05T10:00:00\", \"2020-06-05T11:00:00\", \"2020-06-05T12:00:00\", \"2020-06-05T13:00:00\", \"2020-06-05T14:00:00\", \"2020-06-05T15:00:00\", \"2020-06-05T16:00:00\", \"2020-06-05T17:00:00\", \"2020-06-05T18:00:00\", \"2020-06-05T19:00:00\", \"2020-06-05T20:00:00\", \"2020-06-05T21:00:00\", \"2020-06-05T22:00:00\", \"2020-06-05T23:00:00\", \"2020-06-06T00:00:00\", \"2020-06-06T01:00:00\", \"2020-06-06T02:00:00\", \"2020-06-06T03:00:00\", \"2020-06-06T04:00:00\", \"2020-06-06T05:00:00\", \"2020-06-06T06:00:00\", \"2020-06-06T07:00:00\", \"2020-06-06T08:00:00\", \"2020-06-06T09:00:00\", \"2020-06-06T10:00:00\", \"2020-06-06T11:00:00\", \"2020-06-06T12:00:00\", \"2020-06-06T13:00:00\", \"2020-06-06T14:00:00\", \"2020-06-06T15:00:00\", \"2020-06-06T16:00:00\", \"2020-06-06T17:00:00\", \"2020-06-06T18:00:00\", \"2020-06-06T19:00:00\", \"2020-06-06T20:00:00\", \"2020-06-06T21:00:00\", \"2020-06-06T22:00:00\", \"2020-06-06T23:00:00\", \"2020-06-07T00:00:00\", \"2020-06-07T01:00:00\", \"2020-06-07T02:00:00\", \"2020-06-07T03:00:00\", \"2020-06-07T04:00:00\", \"2020-06-07T05:00:00\", \"2020-06-07T06:00:00\", \"2020-06-07T07:00:00\", \"2020-06-07T08:00:00\", \"2020-06-07T09:00:00\", \"2020-06-07T10:00:00\", \"2020-06-07T11:00:00\", \"2020-06-07T12:00:00\", \"2020-06-07T13:00:00\", \"2020-06-07T14:00:00\", \"2020-06-07T15:00:00\", \"2020-06-07T16:00:00\", \"2020-06-07T17:00:00\", \"2020-06-07T18:00:00\", \"2020-06-07T19:00:00\", \"2020-06-07T20:00:00\", \"2020-06-07T21:00:00\", \"2020-06-07T22:00:00\", \"2020-06-07T23:00:00\", \"2020-06-08T00:00:00\", \"2020-06-08T01:00:00\", \"2020-06-08T02:00:00\", \"2020-06-08T03:00:00\", \"2020-06-08T04:00:00\", \"2020-06-08T05:00:00\", \"2020-06-08T06:00:00\", \"2020-06-08T07:00:00\", \"2020-06-08T08:00:00\", \"2020-06-08T09:00:00\", \"2020-06-08T10:00:00\", \"2020-06-08T11:00:00\", \"2020-06-08T12:00:00\", \"2020-06-08T13:00:00\", \"2020-06-08T14:00:00\", \"2020-06-08T15:00:00\", \"2020-06-08T16:00:00\", \"2020-06-08T17:00:00\", \"2020-06-08T18:00:00\", \"2020-06-08T19:00:00\", \"2020-06-08T20:00:00\", \"2020-06-08T21:00:00\", \"2020-06-08T22:00:00\", \"2020-06-08T23:00:00\", \"2020-06-09T00:00:00\", \"2020-06-09T01:00:00\", \"2020-06-09T02:00:00\", \"2020-06-09T03:00:00\", \"2020-06-09T04:00:00\", \"2020-06-09T05:00:00\", \"2020-06-09T06:00:00\", \"2020-06-09T07:00:00\", \"2020-06-09T08:00:00\", \"2020-06-09T09:00:00\", \"2020-06-09T10:00:00\", \"2020-06-09T11:00:00\", \"2020-06-09T12:00:00\", \"2020-06-09T13:00:00\", \"2020-06-09T14:00:00\", \"2020-06-09T15:00:00\", \"2020-06-09T16:00:00\", \"2020-06-09T17:00:00\", \"2020-06-09T18:00:00\", \"2020-06-09T19:00:00\", \"2020-06-09T20:00:00\", \"2020-06-09T21:00:00\", \"2020-06-09T22:00:00\", \"2020-06-09T23:00:00\", \"2020-06-10T00:00:00\", \"2020-06-10T01:00:00\", \"2020-06-10T02:00:00\", \"2020-06-10T03:00:00\", \"2020-06-10T04:00:00\", \"2020-06-10T05:00:00\", \"2020-06-10T06:00:00\", \"2020-06-10T07:00:00\", \"2020-06-10T08:00:00\", \"2020-06-10T09:00:00\", \"2020-06-10T10:00:00\", \"2020-06-10T11:00:00\", \"2020-06-10T12:00:00\", \"2020-06-10T13:00:00\", \"2020-06-10T14:00:00\", \"2020-06-10T15:00:00\", \"2020-06-10T16:00:00\", \"2020-06-10T17:00:00\", \"2020-06-10T18:00:00\", \"2020-06-10T19:00:00\", \"2020-06-10T20:00:00\", \"2020-06-10T21:00:00\", \"2020-06-10T22:00:00\", \"2020-06-10T23:00:00\", \"2020-06-11T00:00:00\", \"2020-06-11T01:00:00\", \"2020-06-11T02:00:00\", \"2020-06-11T03:00:00\", \"2020-06-11T04:00:00\", \"2020-06-11T05:00:00\", \"2020-06-11T06:00:00\", \"2020-06-11T07:00:00\", \"2020-06-11T08:00:00\", \"2020-06-11T09:00:00\", \"2020-06-11T10:00:00\", \"2020-06-11T11:00:00\", \"2020-06-11T12:00:00\", \"2020-06-11T13:00:00\", \"2020-06-11T14:00:00\", \"2020-06-11T15:00:00\", \"2020-06-11T16:00:00\", \"2020-06-11T17:00:00\", \"2020-06-11T18:00:00\", \"2020-06-11T19:00:00\", \"2020-06-11T20:00:00\", \"2020-06-11T21:00:00\", \"2020-06-11T22:00:00\", \"2020-06-11T23:00:00\", \"2020-06-12T00:00:00\", \"2020-06-12T01:00:00\", \"2020-06-12T02:00:00\", \"2020-06-12T03:00:00\", \"2020-06-12T04:00:00\", \"2020-06-12T05:00:00\", \"2020-06-12T06:00:00\", \"2020-06-12T07:00:00\", \"2020-06-12T08:00:00\", \"2020-06-12T09:00:00\", \"2020-06-12T10:00:00\", \"2020-06-12T11:00:00\", \"2020-06-12T12:00:00\", \"2020-06-12T13:00:00\", \"2020-06-12T14:00:00\", \"2020-06-12T15:00:00\", \"2020-06-12T16:00:00\", \"2020-06-12T17:00:00\", \"2020-06-12T18:00:00\", \"2020-06-12T19:00:00\", \"2020-06-12T20:00:00\", \"2020-06-12T21:00:00\", \"2020-06-12T22:00:00\", \"2020-06-12T23:00:00\", \"2020-06-13T00:00:00\", \"2020-06-13T01:00:00\", \"2020-06-13T02:00:00\", \"2020-06-13T03:00:00\", \"2020-06-13T04:00:00\", \"2020-06-13T05:00:00\", \"2020-06-13T06:00:00\", \"2020-06-13T07:00:00\", \"2020-06-13T08:00:00\", \"2020-06-13T09:00:00\", \"2020-06-13T10:00:00\", \"2020-06-13T11:00:00\", \"2020-06-13T12:00:00\", \"2020-06-13T13:00:00\", \"2020-06-13T14:00:00\", \"2020-06-13T15:00:00\", \"2020-06-13T16:00:00\", \"2020-06-13T17:00:00\", \"2020-06-13T18:00:00\", \"2020-06-13T19:00:00\", \"2020-06-13T20:00:00\", \"2020-06-13T21:00:00\", \"2020-06-13T22:00:00\", \"2020-06-13T23:00:00\", \"2020-06-14T00:00:00\", \"2020-06-14T01:00:00\", \"2020-06-14T02:00:00\", \"2020-06-14T03:00:00\", \"2020-06-14T04:00:00\", \"2020-06-14T05:00:00\", \"2020-06-14T06:00:00\", \"2020-06-14T07:00:00\", \"2020-06-14T08:00:00\", \"2020-06-14T09:00:00\", \"2020-06-14T10:00:00\", \"2020-06-14T11:00:00\", \"2020-06-14T12:00:00\", \"2020-06-14T13:00:00\", \"2020-06-14T14:00:00\", \"2020-06-14T15:00:00\", \"2020-06-14T16:00:00\", \"2020-06-14T17:00:00\", \"2020-06-14T18:00:00\", \"2020-06-14T19:00:00\", \"2020-06-14T20:00:00\", \"2020-06-14T21:00:00\", \"2020-06-14T22:00:00\", \"2020-06-14T23:00:00\", \"2020-06-15T00:00:00\", \"2020-06-15T01:00:00\", \"2020-06-15T02:00:00\", \"2020-06-15T03:00:00\", \"2020-06-15T04:00:00\", \"2020-06-15T05:00:00\", \"2020-06-15T06:00:00\", \"2020-06-15T07:00:00\", \"2020-06-15T08:00:00\", \"2020-06-15T09:00:00\", \"2020-06-15T10:00:00\", \"2020-06-15T11:00:00\", \"2020-06-15T12:00:00\", \"2020-06-15T13:00:00\", \"2020-06-15T14:00:00\", \"2020-06-15T15:00:00\", \"2020-06-15T16:00:00\", \"2020-06-15T17:00:00\", \"2020-06-15T18:00:00\", \"2020-06-15T19:00:00\", \"2020-06-15T20:00:00\", \"2020-06-15T21:00:00\", \"2020-06-15T22:00:00\", \"2020-06-15T23:00:00\", \"2020-06-16T00:00:00\", \"2020-06-16T01:00:00\", \"2020-06-16T02:00:00\", \"2020-06-16T03:00:00\", \"2020-06-16T04:00:00\", \"2020-06-16T05:00:00\", \"2020-06-16T06:00:00\", \"2020-06-16T07:00:00\", \"2020-06-16T08:00:00\", \"2020-06-16T09:00:00\", \"2020-06-16T10:00:00\", \"2020-06-16T11:00:00\", \"2020-06-16T12:00:00\", \"2020-06-16T13:00:00\", \"2020-06-16T14:00:00\", \"2020-06-16T15:00:00\", \"2020-06-16T16:00:00\", \"2020-06-16T17:00:00\", \"2020-06-16T18:00:00\", \"2020-06-16T19:00:00\", \"2020-06-16T20:00:00\", \"2020-06-16T21:00:00\", \"2020-06-16T22:00:00\", \"2020-06-16T23:00:00\", \"2020-06-17T00:00:00\", \"2020-06-17T01:00:00\", \"2020-06-17T02:00:00\", \"2020-06-17T03:00:00\", \"2020-06-17T04:00:00\", \"2020-06-17T05:00:00\", \"2020-06-17T06:00:00\", \"2020-06-17T07:00:00\", \"2020-06-17T08:00:00\", \"2020-06-17T09:00:00\", \"2020-06-17T10:00:00\", \"2020-06-17T11:00:00\", \"2020-06-17T12:00:00\", \"2020-06-17T13:00:00\", \"2020-06-17T14:00:00\", \"2020-06-17T15:00:00\", \"2020-06-17T16:00:00\", \"2020-06-17T17:00:00\", \"2020-06-17T18:00:00\", \"2020-06-17T19:00:00\", \"2020-06-17T20:00:00\", \"2020-06-17T21:00:00\", \"2020-06-17T22:00:00\", \"2020-06-17T23:00:00\", \"2020-06-18T00:00:00\", \"2020-06-18T01:00:00\", \"2020-06-18T02:00:00\", \"2020-06-18T03:00:00\", \"2020-06-18T04:00:00\", \"2020-06-18T05:00:00\", \"2020-06-18T06:00:00\", \"2020-06-18T07:00:00\", \"2020-06-18T08:00:00\", \"2020-06-18T09:00:00\", \"2020-06-18T10:00:00\", \"2020-06-18T11:00:00\", \"2020-06-18T12:00:00\", \"2020-06-18T13:00:00\", \"2020-06-18T14:00:00\", \"2020-06-18T15:00:00\", \"2020-06-18T16:00:00\", \"2020-06-18T17:00:00\", \"2020-06-18T18:00:00\", \"2020-06-18T19:00:00\", \"2020-06-18T20:00:00\", \"2020-06-18T21:00:00\", \"2020-06-18T22:00:00\", \"2020-06-18T23:00:00\", \"2020-06-19T00:00:00\", \"2020-06-19T01:00:00\", \"2020-06-19T02:00:00\", \"2020-06-19T03:00:00\", \"2020-06-19T04:00:00\", \"2020-06-19T05:00:00\", \"2020-06-19T06:00:00\", \"2020-06-19T07:00:00\", \"2020-06-19T08:00:00\", \"2020-06-19T09:00:00\", \"2020-06-19T10:00:00\", \"2020-06-19T11:00:00\", \"2020-06-19T12:00:00\", \"2020-06-19T13:00:00\", \"2020-06-19T14:00:00\", \"2020-06-19T15:00:00\", \"2020-06-19T16:00:00\", \"2020-06-19T17:00:00\", \"2020-06-19T18:00:00\", \"2020-06-19T19:00:00\", \"2020-06-19T20:00:00\", \"2020-06-19T21:00:00\", \"2020-06-19T22:00:00\", \"2020-06-19T23:00:00\", \"2020-06-20T00:00:00\", \"2020-06-20T01:00:00\", \"2020-06-20T02:00:00\", \"2020-06-20T03:00:00\", \"2020-06-20T04:00:00\", \"2020-06-20T05:00:00\", \"2020-06-20T06:00:00\", \"2020-06-20T07:00:00\", \"2020-06-20T08:00:00\", \"2020-06-20T09:00:00\", \"2020-06-20T10:00:00\", \"2020-06-20T11:00:00\", \"2020-06-20T12:00:00\", \"2020-06-20T13:00:00\", \"2020-06-20T14:00:00\", \"2020-06-20T15:00:00\", \"2020-06-20T16:00:00\", \"2020-06-20T17:00:00\", \"2020-06-20T18:00:00\", \"2020-06-20T19:00:00\", \"2020-06-20T20:00:00\", \"2020-06-20T21:00:00\", \"2020-06-20T22:00:00\", \"2020-06-20T23:00:00\", \"2020-06-21T00:00:00\", \"2020-06-21T01:00:00\", \"2020-06-21T02:00:00\", \"2020-06-21T03:00:00\", \"2020-06-21T04:00:00\", \"2020-06-21T05:00:00\", \"2020-06-21T06:00:00\", \"2020-06-21T07:00:00\", \"2020-06-21T08:00:00\", \"2020-06-21T09:00:00\", \"2020-06-21T10:00:00\", \"2020-06-21T11:00:00\", \"2020-06-21T12:00:00\", \"2020-06-21T13:00:00\", \"2020-06-21T14:00:00\", \"2020-06-21T15:00:00\", \"2020-06-21T16:00:00\", \"2020-06-21T17:00:00\", \"2020-06-21T18:00:00\", \"2020-06-21T19:00:00\", \"2020-06-21T20:00:00\", \"2020-06-21T21:00:00\", \"2020-06-21T22:00:00\", \"2020-06-21T23:00:00\", \"2020-06-22T00:00:00\", \"2020-06-22T01:00:00\", \"2020-06-22T02:00:00\", \"2020-06-22T03:00:00\", \"2020-06-22T04:00:00\", \"2020-06-22T05:00:00\", \"2020-06-22T06:00:00\", \"2020-06-22T07:00:00\", \"2020-06-22T08:00:00\", \"2020-06-22T09:00:00\", \"2020-06-22T10:00:00\", \"2020-06-22T11:00:00\", \"2020-06-22T12:00:00\", \"2020-06-22T13:00:00\", \"2020-06-22T14:00:00\", \"2020-06-22T15:00:00\", \"2020-06-22T16:00:00\", \"2020-06-22T17:00:00\", \"2020-06-22T18:00:00\", \"2020-06-22T19:00:00\", \"2020-06-22T20:00:00\", \"2020-06-22T21:00:00\", \"2020-06-22T22:00:00\", \"2020-06-22T23:00:00\", \"2020-06-23T00:00:00\", \"2020-06-23T01:00:00\", \"2020-06-23T02:00:00\", \"2020-06-23T03:00:00\", \"2020-06-23T04:00:00\", \"2020-06-23T05:00:00\", \"2020-06-23T06:00:00\", \"2020-06-23T07:00:00\", \"2020-06-23T08:00:00\", \"2020-06-23T09:00:00\", \"2020-06-23T10:00:00\", \"2020-06-23T11:00:00\", \"2020-06-23T12:00:00\", \"2020-06-23T13:00:00\", \"2020-06-23T14:00:00\", \"2020-06-23T15:00:00\", \"2020-06-23T16:00:00\", \"2020-06-23T17:00:00\", \"2020-06-23T18:00:00\", \"2020-06-23T19:00:00\", \"2020-06-23T20:00:00\", \"2020-06-23T21:00:00\", \"2020-06-23T22:00:00\", \"2020-06-23T23:00:00\", \"2020-06-24T00:00:00\", \"2020-06-24T01:00:00\", \"2020-06-24T02:00:00\", \"2020-06-24T03:00:00\", \"2020-06-24T04:00:00\", \"2020-06-24T05:00:00\", \"2020-06-24T06:00:00\", \"2020-06-24T07:00:00\", \"2020-06-24T08:00:00\", \"2020-06-24T09:00:00\", \"2020-06-24T10:00:00\", \"2020-06-24T11:00:00\", \"2020-06-24T12:00:00\", \"2020-06-24T13:00:00\", \"2020-06-24T14:00:00\", \"2020-06-24T15:00:00\", \"2020-06-24T16:00:00\", \"2020-06-24T17:00:00\", \"2020-06-24T18:00:00\", \"2020-06-24T19:00:00\", \"2020-06-24T20:00:00\", \"2020-06-24T21:00:00\", \"2020-06-24T22:00:00\", \"2020-06-24T23:00:00\", \"2020-06-25T00:00:00\", \"2020-06-25T01:00:00\", \"2020-06-25T02:00:00\", \"2020-06-25T03:00:00\", \"2020-06-25T04:00:00\", \"2020-06-25T05:00:00\", \"2020-06-25T06:00:00\", \"2020-06-25T07:00:00\", \"2020-06-25T08:00:00\", \"2020-06-25T09:00:00\", \"2020-06-25T10:00:00\", \"2020-06-25T11:00:00\", \"2020-06-25T12:00:00\", \"2020-06-25T13:00:00\", \"2020-06-25T14:00:00\", \"2020-06-25T15:00:00\", \"2020-06-25T16:00:00\", \"2020-06-25T17:00:00\", \"2020-06-25T18:00:00\", \"2020-06-25T19:00:00\", \"2020-06-25T20:00:00\", \"2020-06-25T21:00:00\", \"2020-06-25T22:00:00\", \"2020-06-25T23:00:00\", \"2020-06-26T00:00:00\", \"2020-06-26T01:00:00\", \"2020-06-26T02:00:00\", \"2020-06-26T03:00:00\", \"2020-06-26T04:00:00\", \"2020-06-26T05:00:00\", \"2020-06-26T06:00:00\", \"2020-06-26T07:00:00\", \"2020-06-26T08:00:00\", \"2020-06-26T09:00:00\", \"2020-06-26T10:00:00\", \"2020-06-26T11:00:00\", \"2020-06-26T12:00:00\", \"2020-06-26T13:00:00\", \"2020-06-26T14:00:00\", \"2020-06-26T15:00:00\", \"2020-06-26T16:00:00\", \"2020-06-26T17:00:00\", \"2020-06-26T18:00:00\", \"2020-06-26T19:00:00\", \"2020-06-26T20:00:00\", \"2020-06-26T21:00:00\", \"2020-06-26T22:00:00\", \"2020-06-26T23:00:00\", \"2020-06-27T00:00:00\", \"2020-06-27T01:00:00\", \"2020-06-27T02:00:00\", \"2020-06-27T03:00:00\", \"2020-06-27T04:00:00\", \"2020-06-27T05:00:00\", \"2020-06-27T06:00:00\", \"2020-06-27T07:00:00\", \"2020-06-27T08:00:00\", \"2020-06-27T09:00:00\", \"2020-06-27T10:00:00\", \"2020-06-27T11:00:00\", \"2020-06-27T12:00:00\", \"2020-06-27T13:00:00\", \"2020-06-27T14:00:00\", \"2020-06-27T15:00:00\", \"2020-06-27T16:00:00\", \"2020-06-27T17:00:00\", \"2020-06-27T18:00:00\", \"2020-06-27T19:00:00\", \"2020-06-27T20:00:00\", \"2020-06-27T21:00:00\", \"2020-06-27T22:00:00\", \"2020-06-27T23:00:00\", \"2020-06-28T00:00:00\", \"2020-06-28T01:00:00\", \"2020-06-28T02:00:00\", \"2020-06-28T03:00:00\", \"2020-06-28T04:00:00\", \"2020-06-28T05:00:00\", \"2020-06-28T06:00:00\", \"2020-06-28T07:00:00\", \"2020-06-28T08:00:00\", \"2020-06-28T09:00:00\", \"2020-06-28T10:00:00\", \"2020-06-28T11:00:00\", \"2020-06-28T12:00:00\", \"2020-06-28T13:00:00\", \"2020-06-28T14:00:00\", \"2020-06-28T15:00:00\", \"2020-06-28T16:00:00\", \"2020-06-28T17:00:00\", \"2020-06-28T18:00:00\", \"2020-06-28T19:00:00\", \"2020-06-28T20:00:00\", \"2020-06-28T21:00:00\", \"2020-06-28T22:00:00\", \"2020-06-28T23:00:00\", \"2020-06-29T00:00:00\", \"2020-06-29T01:00:00\", \"2020-06-29T02:00:00\", \"2020-06-29T03:00:00\", \"2020-06-29T04:00:00\", \"2020-06-29T05:00:00\", \"2020-06-29T06:00:00\", \"2020-06-29T07:00:00\", \"2020-06-29T08:00:00\", \"2020-06-29T09:00:00\", \"2020-06-29T10:00:00\", \"2020-06-29T11:00:00\", \"2020-06-29T12:00:00\", \"2020-06-29T13:00:00\", \"2020-06-29T14:00:00\", \"2020-06-29T15:00:00\", \"2020-06-29T16:00:00\", \"2020-06-29T17:00:00\", \"2020-06-29T18:00:00\", \"2020-06-29T19:00:00\", \"2020-06-29T20:00:00\", \"2020-06-29T21:00:00\", \"2020-06-29T22:00:00\", \"2020-06-29T23:00:00\", \"2020-06-30T00:00:00\", \"2020-06-30T01:00:00\", \"2020-06-30T02:00:00\", \"2020-06-30T03:00:00\", \"2020-06-30T04:00:00\", \"2020-06-30T05:00:00\", \"2020-06-30T06:00:00\", \"2020-06-30T07:00:00\", \"2020-06-30T08:00:00\", \"2020-06-30T09:00:00\", \"2020-06-30T10:00:00\", \"2020-06-30T11:00:00\", \"2020-06-30T12:00:00\", \"2020-06-30T13:00:00\", \"2020-06-30T14:00:00\", \"2020-06-30T15:00:00\", \"2020-06-30T16:00:00\", \"2020-06-30T17:00:00\", \"2020-06-30T18:00:00\", \"2020-06-30T19:00:00\", \"2020-06-30T20:00:00\", \"2020-06-30T21:00:00\", \"2020-06-30T22:00:00\", \"2020-06-30T23:00:00\", \"2020-07-01T00:00:00\", \"2020-07-01T01:00:00\", \"2020-07-01T02:00:00\"], \"y\": [9565.81757694462, 9542.70955833333, 9541.96663920922, 9559.49284293308, 9552.39086340923, 9538.9116956162, 9528.58516925245, 9522.31303407604, 9545.38410415859, 9557.15833533416, 9560.9013160486, 9526.83817186386, 9575.21080308527, 9578.96036159222, 9576.30943885333, 9589.88240152857, 9626.073491920959, 9666.99208341201, 9707.911949856229, 10126.9468173023, 10175.5602837263, 10101.462299692299, 10100.6124418398, 10071.2600564516, 10092.4642437797, 10093.167931763299, 10101.4592680922, 10104.3493024523, 10123.4332568211, 10109.2096903461, 10114.3584113015, 10104.9325860882, 10114.716256765, 10154.2075686448, 9671.5242290937, 9472.25070654473, 9470.37539863635, 9495.14539545803, 9523.34969024703, 9520.530840708001, 9497.034624407259, 9531.82563640976, 9514.03977232922, 9502.44542802024, 9520.90646740596, 9507.14041265062, 9495.409187741841, 9489.29150892553, 9498.87368939395, 9471.274918504309, 9513.76635243702, 9508.74381632656, 9516.321696369641, 9522.557846430742, 9579.1869222973, 9591.2174578867, 9605.926720966942, 9596.858194370709, 9556.08759268061, 9565.052227330749, 9565.115481228571, 9566.24234778368, 9575.9891263537, 9587.01110460679, 9573.13895507506, 9583.5458009921, 9584.33016508708, 9637.75990196077, 9640.94289404937, 9654.501546361558, 9668.847365537891, 9674.467655594979, 9656.65581432577, 9644.37058359618, 9639.96587421387, 9654.22257607925, 9633.171660461641, 9560.17662887629, 9535.198043382059, 9550.58744091974, 9643.369340701222, 9731.35379804449, 9751.84756179307, 9768.02246413504, 9796.16477816844, 9798.26185651835, 9827.015543771071, 9795.59634727505, 9781.592079772121, 9763.30094559583, 9794.014572499449, 9820.49607479222, 9793.387141912059, 9820.9208151156, 9809.54374050847, 9798.01987695376, 9794.05566045379, 9790.82979743081, 9772.056561163421, 9774.2602997416, 9763.57589688761, 9822.00013726835, 9733.24131639725, 9678.2262813059, 9675.08394148428, 9681.852925005409, 9698.53062499998, 9681.20210462876, 9714.922794830329, 9733.3946685509, 9735.78278635468, 9725.98509448041, 9706.26239878299, 9688.13206976756, 9660.55566309912, 9652.45120083355, 9573.151207799341, 9584.83756851313, 9577.872137327471, 9594.438473615359, 9613.82862311559, 9605.06884688992, 9612.608187619659, 9612.844494720981, 9591.77435878426, 9662.671495085351, 9671.479542190309, 9677.35081366965, 9689.59209513025, 9656.09582590454, 9659.8361812922, 9645.631085085892, 9639.6869515571, 9604.90766045548, 9620.96706422024, 9637.84111356931, 9676.34146426092, 9698.70839536302, 9667.538762160359, 9663.46197828708, 9654.04474041532, 9665.17844086019, 9685.85376793769, 9682.29353400736, 9692.0557491289, 9672.10999410032, 9662.59481683555, 9660.50239114391, 9618.2711085714, 9639.61239613525, 9620.35167644592, 9597.80264835165, 9526.49448743126, 9480.71612512124, 9452.29772648223, 9479.77411868402, 9475.477274902809, 9483.05669680699, 9525.00955020074, 9662.819883875649, 9743.967250339641, 9715.29928443002, 9747.543493150692, 9752.79614579438, 9762.09058285326, 9758.577950018109, 9735.41981972431, 9722.004964132, 9748.014915184129, 9739.49603061783, 9734.29963573883, 9731.287539267008, 9685.64042040815, 9753.4218073416, 9744.98693528695, 9736.062392982429, 9737.20951578945, 9710.05363489504, 9684.35746853553, 9684.980136882159, 9686.05029645317, 9724.311234185441, 9721.85995625005, 9701.752923773969, 9708.109456832472, 9698.77393566505, 9713.949883790241, 9755.157274320809, 9734.494064935021, 9705.41291473891, 9705.486763392879, 9685.49439888427, 9677.59881574239, 9689.25746530714, 9690.50893401016, 9692.90886283705, 9679.69544690602, 9668.14273678093, 9662.33933333334, 9686.869955, 9733.05135135137, 9712.838636216371, 9706.14046149492, 9721.445385232759, 9711.39225988693, 9711.33946546255, 9710.21122060133, 9711.94173544379, 9737.62174035487, 9784.581926796829, 9778.948406072092, 9776.891832298059, 9779.44737081341, 9801.12809141739, 9778.15422027618, 9763.582646144308, 9753.472613636379, 9768.09640310783, 9770.94128595603, 9754.66224787935, 9750.144328259441, 9725.50481178394, 9736.22039021854, 9740.51603197673, 9756.40514335667, 9763.48441717793, 9750.07614701913, 9750.48235266047, 9769.37280380855, 9763.13284552845, 9872.83267056888, 9853.05542694249, 9880.56172494176, 9860.80357440555, 9887.009235467622, 9889.98856565174, 9895.707395035992, 9927.80456351481, 9928.31463359206, 9902.43170460056, 9891.11906119346, 9881.28571916348, 9808.51287883902, 9808.97479648475, 9806.54035616433, 9793.88593709878, 9745.731864500129, 9772.84732824427, 9748.72986493509, 9648.909433703271, 9622.16243398603, 9530.647047190601, 9366.20279988648, 9272.7029661486, 9335.678517668159, 9287.90229209199, 9266.78349618718, 9336.630834990021, 9324.46098568168, 9281.64936963271, 9288.937114695329, 9314.66528132388, 9329.97508177228, 9359.06413103277, 9360.61347161578, 9358.474509336529, 9367.87221617091, 9414.38105070255, 9455.39234219932, 9452.24982698957, 9463.80397019693, 9491.4759429735, 9459.714657441851, 9482.42793437735, 9489.24722103003, 9409.36054573703, 9418.344842939141, 9360.897120848349, 9372.657406490649, 9414.22531607006, 9443.70214303828, 9454.858758244929, 9456.68696596433, 9457.34178954665, 9446.1838033635, 9435.76608309659, 9426.664567055981, 9419.44227484145, 9387.94546780505, 9392.606358024641, 9413.075090568342, 9432.10718878251, 9433.334711895899, 9445.434754944108, 9425.50990405902, 9411.00198058251, 9425.305015608728, 9419.39297426125, 9441.4693373494, 9446.50045099436, 9435.929344323771, 9440.29001212609, 9444.986377118628, 9441.127203365259, 9392.084909813571, 9416.48298559754, 9432.0825, 9455.95531417747, 9457.23487912085, 9445.37915465898, 9447.98213063767, 9433.9969625247, 9432.666538461508, 9430.46827201785, 9411.12843237121, 9399.01792776789, 9418.9594202899, 9417.44407766987, 9420.18843137254, 9431.997401448109, 9412.55231372548, 9390.48610086105, 9367.5320620064, 9382.20533956389, 9402.65390645301, 9393.61114088157, 9379.738982469571, 9388.86641181232, 9393.92940149624, 9353.04766700926, 9326.67084229663, 9352.409674449158, 9330.02911504424, 9272.88192751537, 9251.10475122635, 9194.62995803738, 9180.04470164378, 9080.679677771719, 8980.33219258638, 9060.78678330423, 9106.56450678316, 9118.22547735952, 9105.42739700375, 9105.35941762692, 9098.372441721469, 9098.91769230768, 9203.598915162149, 9265.91131659989, 9359.20982805428, 9354.83056164, 9410.907967313578, 9423.77744402989, 9434.32393946729, 9476.368139769731, 9433.332236667571, 9442.97808612438, 9404.31947110331, 9408.653404056171, 9417.806885754559, 9545.16677792808, 9546.08638005783, 9538.3274890447, 9504.5060663842, 9488.31185744014, 9482.95392652125, 9509.428474784741, 9520.309732254009, 9507.27772397095, 9523.207534682071, 9536.08748889872, 9485.71271883296, 9444.241782639001, 9473.2536737332, 9479.47855972264, 9488.883840707951, 9493.196353015479, 9494.949177489201, 9515.42212881162, 9509.31294452884, 9519.133583278051, 9499.64891594393, 9470.077633912759, 9454.359320987629, 9439.69908339077, 9458.94610628024, 9451.71936061381, 9462.133632673771, 9492.10556025369, 9493.958324840749, 9479.9317255892, 9478.43220264313, 9480.8633533333, 9491.07437225208, 9482.51570809876, 9406.65591478697, 9402.36315732761, 9375.02879990496, 9402.048023830308, 9397.934916977321, 9361.00390660886, 9323.23870467172, 9407.06797124973, 9418.115619075841, 9444.08039630115, 9424.95626740045, 9421.89776917397, 9404.399640718579, 9413.328093475251, 9412.47833016185, 9409.717386907942, 9422.49575595239, 9432.899487544491, 9432.20404553418, 9445.44631439897, 9421.47137578172, 9434.55439281292, 9423.31154645127, 9402.62623085543, 9404.53314109164, 9411.802656626529, 9387.1576202532, 9397.367282774409, 9392.327951414041, 9381.72733181303, 9358.16225988707, 9329.52424230465, 9368.52300328827, 9386.07278599788, 9354.139406240542, 9341.81772626227, 9303.39799225663, 9268.12127029124, 9288.27978348625, 9298.560707476128, 9305.711920245409, 9275.465690607729, 9286.0316614223, 9368.873843270841, 9363.678343750009, 9378.189375743199, 9393.811626596551, 9379.07082431308, 9374.60542485842, 9365.48051794175, 9336.838522788192, 9316.273902770241, 9297.583759219571, 9316.569162286429, 9286.05938400678, 9302.310954819259, 9322.28474016851, 9285.562798408491, 9307.66576827755, 9309.22585684063, 9310.948494623559, 9327.88076063604, 9306.99138273837, 9307.077375249492, 9309.079871508391, 9302.48104255319, 9285.78144111192, 9279.45447310245, 9282.850826161779, 9269.60403391885, 9308.03148655503, 9288.33378216913, 9284.25650000001, 9256.727601580122, 9264.787400722, 9266.331012805591, 9279.06711040256, 9297.98883175936, 9310.01252138343, 9330.672885689059, 9364.395964721842, 9357.03421583275, 9361.76106953895, 9365.47324278439, 9380.18944191347, 9364.35774447178, 9371.50681628385, 9377.96583509509, 9386.14441638867, 9371.16711864405, 9363.02378706198, 9366.31686143572, 9344.86650494159, 9347.68457894736, 9345.36837573384, 9338.033763688822, 9342.11285355116, 9356.889190476179, 9354.27238664672, 9345.2243226787, 9317.90842938843, 9324.80441638879, 9322.577139959409, 9321.38415480424, 9299.43296774196, 9286.18294658492, 9304.06460133641, 9338.724096848571, 9368.057639148341, 9370.5661727775, 9388.56786747902, 9423.80850471125, 9411.040682128241, 9418.33894025604, 9413.91962037037, 9418.29183410138, 9422.233966244741, 9443.918449174642, 9475.79067320092, 9477.08976764452, 9468.98769949678, 9477.322044403309, 9555.94948968173, 9585.33537529791, 9587.381347695358, 9571.73501413231, 9607.965887310409, 9703.3355231087, 9664.0764403927, 9680.247357838509, 9691.083178315941, 9637.08983244479, 9641.150809792858, 9637.93405649271, 9633.9550490677, 9626.2235585586, 9621.94810668673, 9638.815151320021, 9616.29365366759, 9599.11665112662, 9593.30353419097, 9619.51540492959, 9632.69313570488, 9632.37889968896, 9649.061399747809, 9666.014229898079, 9668.93833531514, 9655.005829371341, 9661.81489624225, 9658.19772549016, 9649.077051765491, 9631.78589219852, 9631.46296460181, 9608.94695652174, 9628.79367527678, 9627.55884536078, 9643.82587516371, 9644.87331516797, 9643.8571038252, 9641.99028455283, 9649.37375949366, 9566.20985796417, 9515.34669135799, 9503.38260407029, 9406.1173703446, 9357.60371452424, 9346.99378953105, 9387.39719790303, 9322.43364669875, 9266.43268457233, 9274.86448391745, 9290.46432460459, 9307.652004364209, 9307.313372291921, 9301.00851242335, 9258.465853238129, 9271.84343233206, 9292.96221138211, 9267.44382912287, 9275.66441268734, 9248.19792694648, 9090.44887017314, 9110.11242847408, 9138.27674132759, 9171.9149934297, 9157.16728845264, 9260.213848275842, 9274.37485798818, 9259.61577944575, 9264.65866391182, 9193.92835723601, 9204.13689226106, 9236.931705448342, 9226.69848234171, 9251.65678139779, 9273.03365083879, 9259.216507122479, 9276.187084295601, 9281.629598021009, 9304.38187562437, 9252.41665176226, 9246.91674626866, 9238.29945553023, 9263.4171638305, 9238.133614579821, 9233.98283333338, 9235.55604465041, 9222.07776072415, 9207.31116169542, 9131.257173012391, 9123.042021336321, 9146.72167466206, 9213.31606908874, 9171.993572, 9193.467253474499, 9184.80963837999, 9077.89724900133, 9142.62885604369, 9124.07215486067, 9157.115130729051, 9151.60477429987, 9147.020470392901, 9189.09508316893, 9187.56959398498, 9180.167445283041, 9159.797154706079, 9124.63874132496, 9126.16425547714, 9123.72125051418, 9148.623062589599, 9145.51908246859, 9149.78376700177, 9163.61913366335, 9165.96152582155, 9168.648240165641, 9145.87082294268, 9140.73873538788, 9144.75532640947, 9152.117456556009, 9154.84854636593, 9145.12734565307, 9134.849653199859, 9088.26582422914, 9087.36287667335, 9081.64235878129, 8958.831470501658, 8951.77071840457, 8974.10132137628, 9011.1673423527, 8989.67548857698, 8977.34041079815, 8961.00084345484, 8960.57475614843, 8962.29370044055, 8954.676564716321, 8962.74791713963, 8985.7318072289, 8998.57225247523, 9024.814615981371, 9054.090844841601, 9056.127141666659, 9056.70806001394, 9037.627768154542, 9046.94307609283, 9126.53562007587, 9144.40488281248, 9160.10890963657, 9137.966661163871, 9153.98640501628, 9143.85224554457, 9117.620346643309, 9106.3376212766, 9091.27639419089, 9105.00655856732, 9107.490447035942, 9121.477316213499, 9124.67981739547, 9101.60783448957, 9095.54136416858, 9107.57798392502, 9090.546941529241, 9079.242510548509, 9069.47043057995, 9100.678761904759, 9105.207294520551, 9079.96874999997, 9092.96660721693, 9044.069836645771, 9059.811579745301, 9089.10699389907, 9117.164706392809, 9130.09948324458, 9147.524166405059, 9142.57212651894, 9165.70276860702, 9212.82389296192, 9209.42499999998, 9181.94281397887, 9180.40526075367, 9176.817858064509, 9178.438050314458, 9169.634767667021, 9165.25537842192, 9142.3964521521, 9129.67959466664, 9133.912133421421, 9128.625295238071, 9147.71955611394, 9153.35982323232, 9142.053902439058, 9127.881574199359, 9109.77804108206, 9154.28827774582, 9175.091926163741, 9165.90594791993, 9149.77622727269, 9138.82443428187, 9129.36026881717, 9146.353120649641, 9160.99883174794, 9137.57802840164, 9144.30775578664, 9112.79410380407, 9115.57604002858, 9131.32859387272]}],\n",
       "                        {\"template\": {\"data\": {\"bar\": [{\"error_x\": {\"color\": \"#2a3f5f\"}, \"error_y\": {\"color\": \"#2a3f5f\"}, \"marker\": {\"line\": {\"color\": \"#E5ECF6\", \"width\": 0.5}}, \"type\": \"bar\"}], \"barpolar\": [{\"marker\": {\"line\": {\"color\": \"#E5ECF6\", \"width\": 0.5}}, \"type\": \"barpolar\"}], \"carpet\": [{\"aaxis\": {\"endlinecolor\": \"#2a3f5f\", \"gridcolor\": \"white\", \"linecolor\": \"white\", \"minorgridcolor\": \"white\", \"startlinecolor\": \"#2a3f5f\"}, \"baxis\": {\"endlinecolor\": \"#2a3f5f\", \"gridcolor\": \"white\", \"linecolor\": \"white\", \"minorgridcolor\": \"white\", \"startlinecolor\": \"#2a3f5f\"}, \"type\": \"carpet\"}], \"choropleth\": [{\"colorbar\": {\"outlinewidth\": 0, \"ticks\": \"\"}, \"type\": \"choropleth\"}], \"contour\": [{\"colorbar\": {\"outlinewidth\": 0, \"ticks\": \"\"}, \"colorscale\": [[0.0, \"#0d0887\"], [0.1111111111111111, \"#46039f\"], [0.2222222222222222, \"#7201a8\"], [0.3333333333333333, \"#9c179e\"], [0.4444444444444444, \"#bd3786\"], [0.5555555555555556, \"#d8576b\"], [0.6666666666666666, \"#ed7953\"], [0.7777777777777778, \"#fb9f3a\"], [0.8888888888888888, \"#fdca26\"], [1.0, \"#f0f921\"]], \"type\": \"contour\"}], \"contourcarpet\": [{\"colorbar\": {\"outlinewidth\": 0, \"ticks\": \"\"}, \"type\": \"contourcarpet\"}], \"heatmap\": [{\"colorbar\": {\"outlinewidth\": 0, \"ticks\": \"\"}, \"colorscale\": [[0.0, \"#0d0887\"], [0.1111111111111111, \"#46039f\"], [0.2222222222222222, \"#7201a8\"], [0.3333333333333333, \"#9c179e\"], [0.4444444444444444, \"#bd3786\"], [0.5555555555555556, \"#d8576b\"], [0.6666666666666666, \"#ed7953\"], [0.7777777777777778, \"#fb9f3a\"], [0.8888888888888888, \"#fdca26\"], [1.0, \"#f0f921\"]], \"type\": \"heatmap\"}], \"heatmapgl\": [{\"colorbar\": {\"outlinewidth\": 0, \"ticks\": \"\"}, \"colorscale\": [[0.0, \"#0d0887\"], [0.1111111111111111, \"#46039f\"], [0.2222222222222222, \"#7201a8\"], [0.3333333333333333, \"#9c179e\"], [0.4444444444444444, \"#bd3786\"], [0.5555555555555556, \"#d8576b\"], [0.6666666666666666, \"#ed7953\"], [0.7777777777777778, \"#fb9f3a\"], [0.8888888888888888, \"#fdca26\"], [1.0, \"#f0f921\"]], \"type\": \"heatmapgl\"}], \"histogram\": [{\"marker\": {\"colorbar\": {\"outlinewidth\": 0, \"ticks\": \"\"}}, \"type\": \"histogram\"}], \"histogram2d\": [{\"colorbar\": {\"outlinewidth\": 0, \"ticks\": \"\"}, \"colorscale\": [[0.0, \"#0d0887\"], [0.1111111111111111, \"#46039f\"], [0.2222222222222222, \"#7201a8\"], [0.3333333333333333, \"#9c179e\"], [0.4444444444444444, \"#bd3786\"], [0.5555555555555556, \"#d8576b\"], [0.6666666666666666, \"#ed7953\"], [0.7777777777777778, \"#fb9f3a\"], [0.8888888888888888, \"#fdca26\"], [1.0, \"#f0f921\"]], \"type\": \"histogram2d\"}], \"histogram2dcontour\": [{\"colorbar\": {\"outlinewidth\": 0, \"ticks\": \"\"}, \"colorscale\": [[0.0, \"#0d0887\"], [0.1111111111111111, \"#46039f\"], [0.2222222222222222, \"#7201a8\"], [0.3333333333333333, \"#9c179e\"], [0.4444444444444444, \"#bd3786\"], [0.5555555555555556, \"#d8576b\"], [0.6666666666666666, \"#ed7953\"], [0.7777777777777778, \"#fb9f3a\"], [0.8888888888888888, \"#fdca26\"], [1.0, \"#f0f921\"]], \"type\": \"histogram2dcontour\"}], \"mesh3d\": [{\"colorbar\": {\"outlinewidth\": 0, \"ticks\": \"\"}, \"type\": \"mesh3d\"}], \"parcoords\": [{\"line\": {\"colorbar\": {\"outlinewidth\": 0, \"ticks\": \"\"}}, \"type\": \"parcoords\"}], \"pie\": [{\"automargin\": true, \"type\": \"pie\"}], \"scatter\": [{\"marker\": {\"colorbar\": {\"outlinewidth\": 0, \"ticks\": \"\"}}, \"type\": \"scatter\"}], \"scatter3d\": [{\"line\": {\"colorbar\": {\"outlinewidth\": 0, \"ticks\": \"\"}}, \"marker\": {\"colorbar\": {\"outlinewidth\": 0, \"ticks\": \"\"}}, \"type\": \"scatter3d\"}], \"scattercarpet\": [{\"marker\": {\"colorbar\": {\"outlinewidth\": 0, \"ticks\": \"\"}}, \"type\": \"scattercarpet\"}], \"scattergeo\": [{\"marker\": {\"colorbar\": {\"outlinewidth\": 0, \"ticks\": \"\"}}, \"type\": \"scattergeo\"}], \"scattergl\": [{\"marker\": {\"colorbar\": {\"outlinewidth\": 0, \"ticks\": \"\"}}, \"type\": \"scattergl\"}], \"scattermapbox\": [{\"marker\": {\"colorbar\": {\"outlinewidth\": 0, \"ticks\": \"\"}}, \"type\": \"scattermapbox\"}], \"scatterpolar\": [{\"marker\": {\"colorbar\": {\"outlinewidth\": 0, \"ticks\": \"\"}}, \"type\": \"scatterpolar\"}], \"scatterpolargl\": [{\"marker\": {\"colorbar\": {\"outlinewidth\": 0, \"ticks\": \"\"}}, \"type\": \"scatterpolargl\"}], \"scatterternary\": [{\"marker\": {\"colorbar\": {\"outlinewidth\": 0, \"ticks\": \"\"}}, \"type\": \"scatterternary\"}], \"surface\": [{\"colorbar\": {\"outlinewidth\": 0, \"ticks\": \"\"}, \"colorscale\": [[0.0, \"#0d0887\"], [0.1111111111111111, \"#46039f\"], [0.2222222222222222, \"#7201a8\"], [0.3333333333333333, \"#9c179e\"], [0.4444444444444444, \"#bd3786\"], [0.5555555555555556, \"#d8576b\"], [0.6666666666666666, \"#ed7953\"], [0.7777777777777778, \"#fb9f3a\"], [0.8888888888888888, \"#fdca26\"], [1.0, \"#f0f921\"]], \"type\": \"surface\"}], \"table\": [{\"cells\": {\"fill\": {\"color\": \"#EBF0F8\"}, \"line\": {\"color\": \"white\"}}, \"header\": {\"fill\": {\"color\": \"#C8D4E3\"}, \"line\": {\"color\": \"white\"}}, \"type\": \"table\"}]}, \"layout\": {\"annotationdefaults\": {\"arrowcolor\": \"#2a3f5f\", \"arrowhead\": 0, \"arrowwidth\": 1}, \"coloraxis\": {\"colorbar\": {\"outlinewidth\": 0, \"ticks\": \"\"}}, \"colorscale\": {\"diverging\": [[0, \"#8e0152\"], [0.1, \"#c51b7d\"], [0.2, \"#de77ae\"], [0.3, \"#f1b6da\"], [0.4, \"#fde0ef\"], [0.5, \"#f7f7f7\"], [0.6, \"#e6f5d0\"], [0.7, \"#b8e186\"], [0.8, \"#7fbc41\"], [0.9, \"#4d9221\"], [1, \"#276419\"]], \"sequential\": [[0.0, \"#0d0887\"], [0.1111111111111111, \"#46039f\"], [0.2222222222222222, \"#7201a8\"], [0.3333333333333333, \"#9c179e\"], [0.4444444444444444, \"#bd3786\"], [0.5555555555555556, \"#d8576b\"], [0.6666666666666666, \"#ed7953\"], [0.7777777777777778, \"#fb9f3a\"], [0.8888888888888888, \"#fdca26\"], [1.0, \"#f0f921\"]], \"sequentialminus\": [[0.0, \"#0d0887\"], [0.1111111111111111, \"#46039f\"], [0.2222222222222222, \"#7201a8\"], [0.3333333333333333, \"#9c179e\"], [0.4444444444444444, \"#bd3786\"], [0.5555555555555556, \"#d8576b\"], [0.6666666666666666, \"#ed7953\"], [0.7777777777777778, \"#fb9f3a\"], [0.8888888888888888, \"#fdca26\"], [1.0, \"#f0f921\"]]}, \"colorway\": [\"#636efa\", \"#EF553B\", \"#00cc96\", \"#ab63fa\", \"#FFA15A\", \"#19d3f3\", \"#FF6692\", \"#B6E880\", \"#FF97FF\", \"#FECB52\"], \"font\": {\"color\": \"#2a3f5f\"}, \"geo\": {\"bgcolor\": \"white\", \"lakecolor\": \"white\", \"landcolor\": \"#E5ECF6\", \"showlakes\": true, \"showland\": true, \"subunitcolor\": \"white\"}, \"hoverlabel\": {\"align\": \"left\"}, \"hovermode\": \"closest\", \"mapbox\": {\"style\": \"light\"}, \"paper_bgcolor\": \"white\", \"plot_bgcolor\": \"#E5ECF6\", \"polar\": {\"angularaxis\": {\"gridcolor\": \"white\", \"linecolor\": \"white\", \"ticks\": \"\"}, \"bgcolor\": \"#E5ECF6\", \"radialaxis\": {\"gridcolor\": \"white\", \"linecolor\": \"white\", \"ticks\": \"\"}}, \"scene\": {\"xaxis\": {\"backgroundcolor\": \"#E5ECF6\", \"gridcolor\": \"white\", \"gridwidth\": 2, \"linecolor\": \"white\", \"showbackground\": true, \"ticks\": \"\", \"zerolinecolor\": \"white\"}, \"yaxis\": {\"backgroundcolor\": \"#E5ECF6\", \"gridcolor\": \"white\", \"gridwidth\": 2, \"linecolor\": \"white\", \"showbackground\": true, \"ticks\": \"\", \"zerolinecolor\": \"white\"}, \"zaxis\": {\"backgroundcolor\": \"#E5ECF6\", \"gridcolor\": \"white\", \"gridwidth\": 2, \"linecolor\": \"white\", \"showbackground\": true, \"ticks\": \"\", \"zerolinecolor\": \"white\"}}, \"shapedefaults\": {\"line\": {\"color\": \"#2a3f5f\"}}, \"ternary\": {\"aaxis\": {\"gridcolor\": \"white\", \"linecolor\": \"white\", \"ticks\": \"\"}, \"baxis\": {\"gridcolor\": \"white\", \"linecolor\": \"white\", \"ticks\": \"\"}, \"bgcolor\": \"#E5ECF6\", \"caxis\": {\"gridcolor\": \"white\", \"linecolor\": \"white\", \"ticks\": \"\"}}, \"title\": {\"x\": 0.05}, \"xaxis\": {\"automargin\": true, \"gridcolor\": \"white\", \"linecolor\": \"white\", \"ticks\": \"\", \"title\": {\"standoff\": 15}, \"zerolinecolor\": \"white\", \"zerolinewidth\": 2}, \"yaxis\": {\"automargin\": true, \"gridcolor\": \"white\", \"linecolor\": \"white\", \"ticks\": \"\", \"title\": {\"standoff\": 15}, \"zerolinecolor\": \"white\", \"zerolinewidth\": 2}}}},\n",
       "                        {\"responsive\": true}\n",
       "                    ).then(function(){\n",
       "                            \n",
       "var gd = document.getElementById('5e6a4d96-7614-4f16-acaf-810c6bfcb6e4');\n",
       "var x = new MutationObserver(function (mutations, observer) {{\n",
       "        var display = window.getComputedStyle(gd).display;\n",
       "        if (!display || display === 'none') {{\n",
       "            console.log([gd, 'removed!']);\n",
       "            Plotly.purge(gd);\n",
       "            observer.disconnect();\n",
       "        }}\n",
       "}});\n",
       "\n",
       "// Listen for the removal of the full notebook cells\n",
       "var notebookContainer = gd.closest('#notebook-container');\n",
       "if (notebookContainer) {{\n",
       "    x.observe(notebookContainer, {childList: true});\n",
       "}}\n",
       "\n",
       "// Listen for the clearing of the current output cell\n",
       "var outputEl = gd.closest('.output');\n",
       "if (outputEl) {{\n",
       "    x.observe(outputEl, {childList: true});\n",
       "}}\n",
       "\n",
       "                        })\n",
       "                };\n",
       "                });\n",
       "            </script>\n",
       "        </div>"
      ]
     },
     "metadata": {},
     "output_type": "display_data"
    }
   ],
   "source": [
    "import plotly.graph_objects as go\n",
    "fig = go.Figure()\n",
    "fig.add_trace(go.Scatter(x=forecast.ds[len(forecast_data):], y=forecast.yhat[len(forecast_data):],\n",
    "                    mode='lines', name = 'Predictions'))\n",
    "fig.add_trace(go.Scatter(x=forecast_data.ds, y=forecast_data.y,\n",
    "                    mode='lines', name = 'Actual data'))\n",
    "fig.show()"
   ]
  },
  {
   "cell_type": "code",
   "execution_count": null,
   "metadata": {},
   "outputs": [],
   "source": []
  },
  {
   "cell_type": "code",
   "execution_count": null,
   "metadata": {},
   "outputs": [],
   "source": []
  }
 ],
 "metadata": {
  "kernelspec": {
   "display_name": "Python 3",
   "language": "python",
   "name": "python3"
  },
  "language_info": {
   "codemirror_mode": {
    "name": "ipython",
    "version": 3
   },
   "file_extension": ".py",
   "mimetype": "text/x-python",
   "name": "python",
   "nbconvert_exporter": "python",
   "pygments_lexer": "ipython3",
   "version": "3.7.6"
  }
 },
 "nbformat": 4,
 "nbformat_minor": 4
}
